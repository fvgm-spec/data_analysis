{
 "cells": [
  {
   "cell_type": "markdown",
   "id": "3583750c-8119-401c-a328-fa334cef599b",
   "metadata": {},
   "source": [
    "### Connecting to APIs\n",
    "\n",
    "Importing necessary packages"
   ]
  },
  {
   "cell_type": "code",
   "execution_count": 1,
   "id": "5089931e-08c4-480f-9513-8b961f2e8ffe",
   "metadata": {},
   "outputs": [],
   "source": [
    "import requests\n",
    "import pandas as pd\n",
    "from configparser import ConfigParser"
   ]
  },
  {
   "cell_type": "markdown",
   "id": "ff42a1e9-bf4d-4512-a8a4-e7d2fb8e188b",
   "metadata": {},
   "source": [
    "Reading API Key from configuration file, and setting connection parameters"
   ]
  },
  {
   "cell_type": "code",
   "execution_count": 48,
   "id": "3be52aef-05d1-4cfa-9748-1af6d0c00e2c",
   "metadata": {},
   "outputs": [],
   "source": [
    "config = ConfigParser()\n",
    "config.read('config.ini')\n",
    "token = config.get('tokens','api_key')\n",
    "base_url = 'https://www.alphavantage.co/query?'\n",
    "params = {\n",
    "    \"function\": \"TIME_SERIES_DAILY\",\n",
    "    \"symbol\": \"AAPL\",\n",
    "    \"apikey\": f\"{token}\"}"
   ]
  },
  {
   "cell_type": "code",
   "execution_count": 49,
   "id": "f47a14a3-d049-4300-8f7f-b3f37aee6427",
   "metadata": {},
   "outputs": [
    {
     "name": "stdout",
     "output_type": "stream",
     "text": [
      "<Response [200]>\n"
     ]
    }
   ],
   "source": [
    "#Making request to API endpoint\n",
    "response = requests.get(base_url, params=params)\n",
    "#Make sure we got a succesfull response\n",
    "print(response)"
   ]
  },
  {
   "cell_type": "code",
   "execution_count": 50,
   "id": "ff45f0d1-2e20-4c8a-bc78-02f87727d61c",
   "metadata": {},
   "outputs": [],
   "source": [
    "#Converting response to json format\n",
    "data = response.json()"
   ]
  },
  {
   "cell_type": "markdown",
   "id": "104fd69d-7419-4aa8-ac47-56233fcacf37",
   "metadata": {},
   "source": [
    "Adding function that will parse and format the json response, and then convert it to pandas DataFrame"
   ]
  },
  {
   "cell_type": "code",
   "execution_count": 53,
   "id": "f05f692c-fd7a-49ef-b1e6-4b10da4c4c48",
   "metadata": {},
   "outputs": [],
   "source": [
    "def df_from_response(data,\n",
    "         columns=['Open', 'High', 'Low', 'Close', 'Volume']):\n",
    "\n",
    "    def convert_response(d):\n",
    "        # convert the response into datetimerecords that can be\n",
    "        # parsed by Pandas\n",
    "        for dt, prec in d['Time Series (Daily)'].items():\n",
    "            r = { 'datetime': dt}\n",
    "            r.update(prec)\n",
    "            yield r\n",
    "\n",
    "    # pass your response 'page'\n",
    "    df = pd.DataFrame(convert_response(data))\n",
    "    # rename the columns    \n",
    "    df = df.rename(columns={'1. open': 'Open',\n",
    "                            '2. high': 'High',\n",
    "                            '3. low': 'Low',\n",
    "                            '4. close': 'Close',\n",
    "                            '5. volume': 'Volume'})\n",
    "    df['datetime'] = pd.to_datetime(df['datetime'])\n",
    "    df.set_index('datetime', inplace=True)\n",
    "    df.sort_index(inplace=True)\n",
    "    # extract the default columns\n",
    "    df = df[columns]\n",
    "    return df"
   ]
  },
  {
   "cell_type": "markdown",
   "id": "4ec8a651-58ae-4cbd-8958-9839a7d3514c",
   "metadata": {},
   "source": [
    "Applying function to the json data"
   ]
  },
  {
   "cell_type": "code",
   "execution_count": 54,
   "id": "2acd319e-8b40-42af-afb6-9c392fa4b792",
   "metadata": {},
   "outputs": [
    {
     "data": {
      "text/html": [
       "<div>\n",
       "<style scoped>\n",
       "    .dataframe tbody tr th:only-of-type {\n",
       "        vertical-align: middle;\n",
       "    }\n",
       "\n",
       "    .dataframe tbody tr th {\n",
       "        vertical-align: top;\n",
       "    }\n",
       "\n",
       "    .dataframe thead th {\n",
       "        text-align: right;\n",
       "    }\n",
       "</style>\n",
       "<table border=\"1\" class=\"dataframe\">\n",
       "  <thead>\n",
       "    <tr style=\"text-align: right;\">\n",
       "      <th></th>\n",
       "      <th>Open</th>\n",
       "      <th>High</th>\n",
       "      <th>Low</th>\n",
       "      <th>Close</th>\n",
       "      <th>Volume</th>\n",
       "    </tr>\n",
       "    <tr>\n",
       "      <th>datetime</th>\n",
       "      <th></th>\n",
       "      <th></th>\n",
       "      <th></th>\n",
       "      <th></th>\n",
       "      <th></th>\n",
       "    </tr>\n",
       "  </thead>\n",
       "  <tbody>\n",
       "    <tr>\n",
       "      <th>2021-12-16</th>\n",
       "      <td>179.2800</td>\n",
       "      <td>181.1400</td>\n",
       "      <td>170.7500</td>\n",
       "      <td>172.2600</td>\n",
       "      <td>150185843</td>\n",
       "    </tr>\n",
       "    <tr>\n",
       "      <th>2021-12-17</th>\n",
       "      <td>169.9300</td>\n",
       "      <td>173.4700</td>\n",
       "      <td>169.6900</td>\n",
       "      <td>171.1400</td>\n",
       "      <td>195923441</td>\n",
       "    </tr>\n",
       "    <tr>\n",
       "      <th>2021-12-20</th>\n",
       "      <td>168.2800</td>\n",
       "      <td>170.5800</td>\n",
       "      <td>167.4600</td>\n",
       "      <td>169.7500</td>\n",
       "      <td>107499114</td>\n",
       "    </tr>\n",
       "    <tr>\n",
       "      <th>2021-12-21</th>\n",
       "      <td>171.5550</td>\n",
       "      <td>173.2000</td>\n",
       "      <td>169.1200</td>\n",
       "      <td>172.9900</td>\n",
       "      <td>91185905</td>\n",
       "    </tr>\n",
       "    <tr>\n",
       "      <th>2021-12-22</th>\n",
       "      <td>173.0400</td>\n",
       "      <td>175.8600</td>\n",
       "      <td>172.1500</td>\n",
       "      <td>175.6400</td>\n",
       "      <td>92135303</td>\n",
       "    </tr>\n",
       "    <tr>\n",
       "      <th>...</th>\n",
       "      <td>...</td>\n",
       "      <td>...</td>\n",
       "      <td>...</td>\n",
       "      <td>...</td>\n",
       "      <td>...</td>\n",
       "    </tr>\n",
       "    <tr>\n",
       "      <th>2022-05-04</th>\n",
       "      <td>159.6700</td>\n",
       "      <td>166.4800</td>\n",
       "      <td>159.2600</td>\n",
       "      <td>166.0200</td>\n",
       "      <td>107521649</td>\n",
       "    </tr>\n",
       "    <tr>\n",
       "      <th>2022-05-05</th>\n",
       "      <td>163.8500</td>\n",
       "      <td>164.0800</td>\n",
       "      <td>154.9500</td>\n",
       "      <td>156.7700</td>\n",
       "      <td>130525275</td>\n",
       "    </tr>\n",
       "    <tr>\n",
       "      <th>2022-05-06</th>\n",
       "      <td>156.0100</td>\n",
       "      <td>159.4400</td>\n",
       "      <td>154.1800</td>\n",
       "      <td>157.2800</td>\n",
       "      <td>116124647</td>\n",
       "    </tr>\n",
       "    <tr>\n",
       "      <th>2022-05-09</th>\n",
       "      <td>154.9250</td>\n",
       "      <td>155.8300</td>\n",
       "      <td>151.4900</td>\n",
       "      <td>152.0600</td>\n",
       "      <td>131577921</td>\n",
       "    </tr>\n",
       "    <tr>\n",
       "      <th>2022-05-10</th>\n",
       "      <td>155.5200</td>\n",
       "      <td>156.7400</td>\n",
       "      <td>152.9300</td>\n",
       "      <td>154.5100</td>\n",
       "      <td>115366736</td>\n",
       "    </tr>\n",
       "  </tbody>\n",
       "</table>\n",
       "<p>100 rows × 5 columns</p>\n",
       "</div>"
      ],
      "text/plain": [
       "                Open      High       Low     Close     Volume\n",
       "datetime                                                     \n",
       "2021-12-16  179.2800  181.1400  170.7500  172.2600  150185843\n",
       "2021-12-17  169.9300  173.4700  169.6900  171.1400  195923441\n",
       "2021-12-20  168.2800  170.5800  167.4600  169.7500  107499114\n",
       "2021-12-21  171.5550  173.2000  169.1200  172.9900   91185905\n",
       "2021-12-22  173.0400  175.8600  172.1500  175.6400   92135303\n",
       "...              ...       ...       ...       ...        ...\n",
       "2022-05-04  159.6700  166.4800  159.2600  166.0200  107521649\n",
       "2022-05-05  163.8500  164.0800  154.9500  156.7700  130525275\n",
       "2022-05-06  156.0100  159.4400  154.1800  157.2800  116124647\n",
       "2022-05-09  154.9250  155.8300  151.4900  152.0600  131577921\n",
       "2022-05-10  155.5200  156.7400  152.9300  154.5100  115366736\n",
       "\n",
       "[100 rows x 5 columns]"
      ]
     },
     "execution_count": 54,
     "metadata": {},
     "output_type": "execute_result"
    }
   ],
   "source": [
    "df = df_from_response(data)\n",
    "df"
   ]
  },
  {
   "cell_type": "code",
   "execution_count": null,
   "id": "99ad9fe7-9f2b-4fa0-bc2d-364b1f7e0c7c",
   "metadata": {},
   "outputs": [],
   "source": []
  },
  {
   "cell_type": "code",
   "execution_count": null,
   "id": "6d36c016-b9be-44eb-9cb1-56a86a9e9c78",
   "metadata": {},
   "outputs": [],
   "source": []
  },
  {
   "cell_type": "code",
   "execution_count": null,
   "id": "87504264-6b0b-4c0b-bbfd-6a6ef190d2de",
   "metadata": {},
   "outputs": [],
   "source": []
  },
  {
   "cell_type": "code",
   "execution_count": null,
   "id": "806fd3cb-ea67-487e-a205-d7de34a4a774",
   "metadata": {},
   "outputs": [],
   "source": []
  },
  {
   "cell_type": "code",
   "execution_count": null,
   "id": "0f33c49a-0193-48a1-af48-a85ce0343581",
   "metadata": {},
   "outputs": [],
   "source": []
  }
 ],
 "metadata": {
  "kernelspec": {
   "display_name": "Python 3",
   "language": "python",
   "name": "python3"
  },
  "language_info": {
   "codemirror_mode": {
    "name": "ipython",
    "version": 3
   },
   "file_extension": ".py",
   "mimetype": "text/x-python",
   "name": "python",
   "nbconvert_exporter": "python",
   "pygments_lexer": "ipython3",
   "version": "3.8.8"
  }
 },
 "nbformat": 4,
 "nbformat_minor": 5
}
