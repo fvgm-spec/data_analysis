{
 "metadata": {
  "language_info": {
   "codemirror_mode": {
    "name": "ipython",
    "version": 3
   },
   "file_extension": ".py",
   "mimetype": "text/x-python",
   "name": "python",
   "nbconvert_exporter": "python",
   "pygments_lexer": "ipython3",
   "version": "3.9.1-final"
  },
  "orig_nbformat": 2,
  "kernelspec": {
   "name": "python3",
   "display_name": "Python 3.9.1 64-bit",
   "metadata": {
    "interpreter": {
     "hash": "40485a20f8e6d4e364ae56d36857e51d42f9683e4e62f31193acb7f6f1de918b"
    }
   }
  }
 },
 "nbformat": 4,
 "nbformat_minor": 2,
 "cells": [
  {
   "cell_type": "code",
   "execution_count": 1,
   "metadata": {},
   "outputs": [],
   "source": [
    "import pandas as pd"
   ]
  },
  {
   "cell_type": "code",
   "execution_count": 3,
   "metadata": {},
   "outputs": [],
   "source": [
    "df = pd.read_csv('https://www.smh.com.au/interactive/data-store/feeds/coronavirus/vaccinations/global/vaccinations.csv?v=1613994583552')"
   ]
  },
  {
   "cell_type": "code",
   "execution_count": 14,
   "metadata": {},
   "outputs": [
    {
     "output_type": "execute_result",
     "data": {
      "text/plain": [
       "    iso_code        location  population                      date  \\\n",
       "0        AFG     Afghanistan    38928341                       NaN   \n",
       "1        ALB         Albania     2877800  2021-02-19T00:00:00.000Z   \n",
       "2        DZA         Algeria    43851043  2021-02-19T00:00:00.000Z   \n",
       "3        ASM  American Samoa       55197                       NaN   \n",
       "4        AND         Andorra       77265  2021-02-19T00:00:00.000Z   \n",
       "..       ...             ...         ...                       ...   \n",
       "237      YEM           Yemen    29825968                       NaN   \n",
       "238      ZMB          Zambia    18383956                       NaN   \n",
       "239      ZWE        Zimbabwe    14862927                       NaN   \n",
       "240      GGY        Guernsey       67052  2021-02-14T00:00:00.000Z   \n",
       "241      JEY          Jersey      101073  2021-02-14T00:00:00.000Z   \n",
       "\n",
       "                                vaccines  total_vaccinations  \\\n",
       "0                                    NaN                 NaN   \n",
       "1                        Pfizer/BioNTech              4177.0   \n",
       "2                              Sputnik V             75000.0   \n",
       "3                                    NaN                 NaN   \n",
       "4                        Pfizer/BioNTech              2141.0   \n",
       "..                                   ...                 ...   \n",
       "237                                  NaN                 NaN   \n",
       "238                                  NaN                 NaN   \n",
       "239                                  NaN                 NaN   \n",
       "240                      Pfizer/BioNTech             19284.0   \n",
       "241  Oxford/AstraZeneca, Pfizer/BioNTech             25952.0   \n",
       "\n",
       "     people_vaccinated  people_fully_vaccinated  daily_vaccinations  \\\n",
       "0                  NaN                      NaN                 NaN   \n",
       "1                  NaN                      NaN               405.0   \n",
       "2                  NaN                      NaN              3748.0   \n",
       "3                  NaN                      NaN                 NaN   \n",
       "4               2141.0                      NaN                74.0   \n",
       "..                 ...                      ...                 ...   \n",
       "237                NaN                      NaN                 NaN   \n",
       "238                NaN                      NaN                 NaN   \n",
       "239                NaN                      NaN                 NaN   \n",
       "240            13950.0                   5334.0               593.0   \n",
       "241            22696.0                   3256.0               706.0   \n",
       "\n",
       "     total_vaccinations_per_hundred  people_vaccinated_per_hundred  \\\n",
       "0                               NaN                            NaN   \n",
       "1                              0.15                            NaN   \n",
       "2                              0.17                            NaN   \n",
       "3                               NaN                            NaN   \n",
       "4                              2.77                           2.77   \n",
       "..                              ...                            ...   \n",
       "237                             NaN                            NaN   \n",
       "238                             NaN                            NaN   \n",
       "239                             NaN                            NaN   \n",
       "240                           28.76                          20.80   \n",
       "241                           25.68                          22.46   \n",
       "\n",
       "     people_fully_vaccinated_per_hundred  daily_vaccinations_per_million  \\\n",
       "0                                    NaN                             NaN   \n",
       "1                                    NaN                           141.0   \n",
       "2                                    NaN                            85.0   \n",
       "3                                    NaN                             NaN   \n",
       "4                                    NaN                           958.0   \n",
       "..                                   ...                             ...   \n",
       "237                                  NaN                             NaN   \n",
       "238                                  NaN                             NaN   \n",
       "239                                  NaN                             NaN   \n",
       "240                                 7.96                          8844.0   \n",
       "241                                 3.22                          6985.0   \n",
       "\n",
       "    target_date  \n",
       "0           NaN  \n",
       "1      Mar 2210  \n",
       "2           NaN  \n",
       "3           NaN  \n",
       "4           NaN  \n",
       "..          ...  \n",
       "237         NaN  \n",
       "238         NaN  \n",
       "239         NaN  \n",
       "240         NaN  \n",
       "241         NaN  \n",
       "\n",
       "[242 rows x 14 columns]"
      ],
      "text/html": "<div>\n<style scoped>\n    .dataframe tbody tr th:only-of-type {\n        vertical-align: middle;\n    }\n\n    .dataframe tbody tr th {\n        vertical-align: top;\n    }\n\n    .dataframe thead th {\n        text-align: right;\n    }\n</style>\n<table border=\"1\" class=\"dataframe\">\n  <thead>\n    <tr style=\"text-align: right;\">\n      <th></th>\n      <th>iso_code</th>\n      <th>location</th>\n      <th>population</th>\n      <th>date</th>\n      <th>vaccines</th>\n      <th>total_vaccinations</th>\n      <th>people_vaccinated</th>\n      <th>people_fully_vaccinated</th>\n      <th>daily_vaccinations</th>\n      <th>total_vaccinations_per_hundred</th>\n      <th>people_vaccinated_per_hundred</th>\n      <th>people_fully_vaccinated_per_hundred</th>\n      <th>daily_vaccinations_per_million</th>\n      <th>target_date</th>\n    </tr>\n  </thead>\n  <tbody>\n    <tr>\n      <th>0</th>\n      <td>AFG</td>\n      <td>Afghanistan</td>\n      <td>38928341</td>\n      <td>NaN</td>\n      <td>NaN</td>\n      <td>NaN</td>\n      <td>NaN</td>\n      <td>NaN</td>\n      <td>NaN</td>\n      <td>NaN</td>\n      <td>NaN</td>\n      <td>NaN</td>\n      <td>NaN</td>\n      <td>NaN</td>\n    </tr>\n    <tr>\n      <th>1</th>\n      <td>ALB</td>\n      <td>Albania</td>\n      <td>2877800</td>\n      <td>2021-02-19T00:00:00.000Z</td>\n      <td>Pfizer/BioNTech</td>\n      <td>4177.0</td>\n      <td>NaN</td>\n      <td>NaN</td>\n      <td>405.0</td>\n      <td>0.15</td>\n      <td>NaN</td>\n      <td>NaN</td>\n      <td>141.0</td>\n      <td>Mar 2210</td>\n    </tr>\n    <tr>\n      <th>2</th>\n      <td>DZA</td>\n      <td>Algeria</td>\n      <td>43851043</td>\n      <td>2021-02-19T00:00:00.000Z</td>\n      <td>Sputnik V</td>\n      <td>75000.0</td>\n      <td>NaN</td>\n      <td>NaN</td>\n      <td>3748.0</td>\n      <td>0.17</td>\n      <td>NaN</td>\n      <td>NaN</td>\n      <td>85.0</td>\n      <td>NaN</td>\n    </tr>\n    <tr>\n      <th>3</th>\n      <td>ASM</td>\n      <td>American Samoa</td>\n      <td>55197</td>\n      <td>NaN</td>\n      <td>NaN</td>\n      <td>NaN</td>\n      <td>NaN</td>\n      <td>NaN</td>\n      <td>NaN</td>\n      <td>NaN</td>\n      <td>NaN</td>\n      <td>NaN</td>\n      <td>NaN</td>\n      <td>NaN</td>\n    </tr>\n    <tr>\n      <th>4</th>\n      <td>AND</td>\n      <td>Andorra</td>\n      <td>77265</td>\n      <td>2021-02-19T00:00:00.000Z</td>\n      <td>Pfizer/BioNTech</td>\n      <td>2141.0</td>\n      <td>2141.0</td>\n      <td>NaN</td>\n      <td>74.0</td>\n      <td>2.77</td>\n      <td>2.77</td>\n      <td>NaN</td>\n      <td>958.0</td>\n      <td>NaN</td>\n    </tr>\n    <tr>\n      <th>...</th>\n      <td>...</td>\n      <td>...</td>\n      <td>...</td>\n      <td>...</td>\n      <td>...</td>\n      <td>...</td>\n      <td>...</td>\n      <td>...</td>\n      <td>...</td>\n      <td>...</td>\n      <td>...</td>\n      <td>...</td>\n      <td>...</td>\n      <td>...</td>\n    </tr>\n    <tr>\n      <th>237</th>\n      <td>YEM</td>\n      <td>Yemen</td>\n      <td>29825968</td>\n      <td>NaN</td>\n      <td>NaN</td>\n      <td>NaN</td>\n      <td>NaN</td>\n      <td>NaN</td>\n      <td>NaN</td>\n      <td>NaN</td>\n      <td>NaN</td>\n      <td>NaN</td>\n      <td>NaN</td>\n      <td>NaN</td>\n    </tr>\n    <tr>\n      <th>238</th>\n      <td>ZMB</td>\n      <td>Zambia</td>\n      <td>18383956</td>\n      <td>NaN</td>\n      <td>NaN</td>\n      <td>NaN</td>\n      <td>NaN</td>\n      <td>NaN</td>\n      <td>NaN</td>\n      <td>NaN</td>\n      <td>NaN</td>\n      <td>NaN</td>\n      <td>NaN</td>\n      <td>NaN</td>\n    </tr>\n    <tr>\n      <th>239</th>\n      <td>ZWE</td>\n      <td>Zimbabwe</td>\n      <td>14862927</td>\n      <td>NaN</td>\n      <td>NaN</td>\n      <td>NaN</td>\n      <td>NaN</td>\n      <td>NaN</td>\n      <td>NaN</td>\n      <td>NaN</td>\n      <td>NaN</td>\n      <td>NaN</td>\n      <td>NaN</td>\n      <td>NaN</td>\n    </tr>\n    <tr>\n      <th>240</th>\n      <td>GGY</td>\n      <td>Guernsey</td>\n      <td>67052</td>\n      <td>2021-02-14T00:00:00.000Z</td>\n      <td>Pfizer/BioNTech</td>\n      <td>19284.0</td>\n      <td>13950.0</td>\n      <td>5334.0</td>\n      <td>593.0</td>\n      <td>28.76</td>\n      <td>20.80</td>\n      <td>7.96</td>\n      <td>8844.0</td>\n      <td>NaN</td>\n    </tr>\n    <tr>\n      <th>241</th>\n      <td>JEY</td>\n      <td>Jersey</td>\n      <td>101073</td>\n      <td>2021-02-14T00:00:00.000Z</td>\n      <td>Oxford/AstraZeneca, Pfizer/BioNTech</td>\n      <td>25952.0</td>\n      <td>22696.0</td>\n      <td>3256.0</td>\n      <td>706.0</td>\n      <td>25.68</td>\n      <td>22.46</td>\n      <td>3.22</td>\n      <td>6985.0</td>\n      <td>NaN</td>\n    </tr>\n  </tbody>\n</table>\n<p>242 rows × 14 columns</p>\n</div>"
     },
     "metadata": {},
     "execution_count": 14
    }
   ],
   "source": [
    "df"
   ]
  },
  {
   "cell_type": "code",
   "execution_count": 16,
   "metadata": {},
   "outputs": [
    {
     "output_type": "execute_result",
     "data": {
      "text/plain": [
       "(242, 14)"
      ]
     },
     "metadata": {},
     "execution_count": 16
    }
   ],
   "source": [
    "df.shape"
   ]
  },
  {
   "cell_type": "code",
   "execution_count": 11,
   "metadata": {},
   "outputs": [],
   "source": [
    "df2 = pd.read_csv('https://www.smh.com.au/interactive/2021/coronavirus/vaccine-tracker/countries.csv')"
   ]
  },
  {
   "cell_type": "code",
   "execution_count": null,
   "metadata": {},
   "outputs": [],
   "source": []
  },
  {
   "cell_type": "code",
   "execution_count": 13,
   "metadata": {},
   "outputs": [
    {
     "output_type": "execute_result",
     "data": {
      "text/plain": [
       "  iso_code         country       lat        long\n",
       "0      AFG     Afghanistan  33.93911   67.709953\n",
       "1      ALA   Åland Islands  60.17850   19.915600\n",
       "2      ALB         Albania  41.15330   20.168300\n",
       "3      DZA         Algeria  28.03390    1.659600\n",
       "4      ASM  American Samoa -14.27100  170.132200"
      ],
      "text/html": "<div>\n<style scoped>\n    .dataframe tbody tr th:only-of-type {\n        vertical-align: middle;\n    }\n\n    .dataframe tbody tr th {\n        vertical-align: top;\n    }\n\n    .dataframe thead th {\n        text-align: right;\n    }\n</style>\n<table border=\"1\" class=\"dataframe\">\n  <thead>\n    <tr style=\"text-align: right;\">\n      <th></th>\n      <th>iso_code</th>\n      <th>country</th>\n      <th>lat</th>\n      <th>long</th>\n    </tr>\n  </thead>\n  <tbody>\n    <tr>\n      <th>0</th>\n      <td>AFG</td>\n      <td>Afghanistan</td>\n      <td>33.93911</td>\n      <td>67.709953</td>\n    </tr>\n    <tr>\n      <th>1</th>\n      <td>ALA</td>\n      <td>Åland Islands</td>\n      <td>60.17850</td>\n      <td>19.915600</td>\n    </tr>\n    <tr>\n      <th>2</th>\n      <td>ALB</td>\n      <td>Albania</td>\n      <td>41.15330</td>\n      <td>20.168300</td>\n    </tr>\n    <tr>\n      <th>3</th>\n      <td>DZA</td>\n      <td>Algeria</td>\n      <td>28.03390</td>\n      <td>1.659600</td>\n    </tr>\n    <tr>\n      <th>4</th>\n      <td>ASM</td>\n      <td>American Samoa</td>\n      <td>-14.27100</td>\n      <td>170.132200</td>\n    </tr>\n  </tbody>\n</table>\n</div>"
     },
     "metadata": {},
     "execution_count": 13
    }
   ],
   "source": [
    "df2.head()"
   ]
  },
  {
   "cell_type": "code",
   "execution_count": null,
   "metadata": {},
   "outputs": [],
   "source": []
  }
 ]
}