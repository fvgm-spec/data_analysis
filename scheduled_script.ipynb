{
 "cells": [
  {
   "cell_type": "markdown",
   "source": "The data for this notebook comes from the [Our World In Data](https://github.com/owid/covid-19-data) GitHub repository, which is updated daily.",
   "metadata": {
    "cell_id": "00001-6c8d424e-31c8-41e5-8113-955de75590d7",
    "deepnote_cell_type": "markdown"
   }
  },
  {
   "cell_type": "markdown",
   "source": "#### Importing necessary packages",
   "metadata": {
    "cell_id": "00002-6569251b-6bdd-49b0-ae3e-2dc62e555160",
    "deepnote_cell_type": "markdown"
   }
  },
  {
   "cell_type": "code",
   "metadata": {
    "cell_id": "00003-9025a3bf-77a0-4e91-ad7f-c6c4ac9a31e5",
    "deepnote_to_be_reexecuted": false,
    "source_hash": "884df998",
    "execution_start": 1646223717950,
    "execution_millis": 1,
    "deepnote_cell_type": "code"
   },
   "source": "import pandas as pd\nimport datetime as dt\nimport xlsxwriter\nfrom datetime import datetime, timedelta",
   "execution_count": 22,
   "outputs": []
  },
  {
   "cell_type": "code",
   "metadata": {
    "cell_id": "00005-53b4972f-d976-47ab-aa9d-4edf93a708bf",
    "deepnote_to_be_reexecuted": false,
    "source_hash": "363ca129",
    "execution_start": 1646223135452,
    "execution_millis": 1659,
    "deepnote_cell_type": "code"
   },
   "source": "# Reading data and storing in pandas dataframe\ndf = pd.read_csv('https://raw.githubusercontent.com/owid/covid-19-data/master/public/data/owid-covid-data.csv')\nprint(f'dataframe has: {df.shape[0]} rows and {df.shape[1]} columns')",
   "execution_count": 3,
   "outputs": [
    {
     "name": "stdout",
     "text": "dataframe has: 165408 rows and 67 columns\n",
     "output_type": "stream"
    }
   ]
  },
  {
   "cell_type": "code",
   "metadata": {
    "cell_id": "7608502e-5d47-48b4-b13c-475aa4bc744c",
    "tags": [],
    "deepnote_to_be_reexecuted": false,
    "source_hash": "ce1af862",
    "execution_start": 1646224504842,
    "execution_millis": 1,
    "deepnote_cell_type": "code"
   },
   "source": "#setting up dates\ntoday = dt.datetime.now()\ndelta = today - timedelta(days=7)\ncurryear = today.strftime(\"%Y\")\ncurrmonth = today.strftime(\"%m\")\nday = today.strftime(\"%d\")\n#startDay = delta.strftime('%Y-%m-%d')\n#endDay = today.strftime('%Y-%m-%d')\nstartDay = datetime(2022, 2, 21)\nstartDay = startDay.strftime('%Y-%m-%d')\nendDay = datetime(2022, 2, 28)\nendDay = endDay.strftime('%Y-%m-%d')",
   "execution_count": 26,
   "outputs": []
  },
  {
   "cell_type": "code",
   "source": "startDay",
   "metadata": {
    "cell_id": "f47144cd-9d24-4c41-a170-7ad149447088",
    "tags": [],
    "deepnote_to_be_reexecuted": false,
    "source_hash": "a5f5d1ce",
    "execution_start": 1646224506995,
    "execution_millis": 256,
    "deepnote_cell_type": "code"
   },
   "outputs": [
    {
     "output_type": "execute_result",
     "execution_count": 27,
     "data": {
      "text/plain": "'2022-02-21'"
     },
     "metadata": {}
    }
   ],
   "execution_count": 27
  },
  {
   "cell_type": "code",
   "metadata": {
    "cell_id": "d6712e97-6797-4bcc-bb9d-6e410f5e46e6",
    "tags": [],
    "deepnote_to_be_reexecuted": false,
    "source_hash": "245876d0",
    "execution_start": 1646224835224,
    "execution_millis": 590,
    "deepnote_cell_type": "code"
   },
   "source": "df.head(5)",
   "execution_count": 28,
   "outputs": [
    {
     "output_type": "execute_result",
     "execution_count": 28,
     "data": {
      "application/vnd.deepnote.dataframe.v3+json": {
       "column_count": 67,
       "row_count": 5,
       "columns": [
        {
         "name": "iso_code",
         "dtype": "object",
         "stats": {
          "unique_count": 1,
          "nan_count": 0,
          "categories": [
           {
            "name": "AFG",
            "count": 5
           }
          ]
         }
        },
        {
         "name": "continent",
         "dtype": "object",
         "stats": {
          "unique_count": 1,
          "nan_count": 0,
          "categories": [
           {
            "name": "Asia",
            "count": 5
           }
          ]
         }
        },
        {
         "name": "location",
         "dtype": "object",
         "stats": {
          "unique_count": 1,
          "nan_count": 0,
          "categories": [
           {
            "name": "Afghanistan",
            "count": 5
           }
          ]
         }
        },
        {
         "name": "date",
         "dtype": "object",
         "stats": {
          "unique_count": 5,
          "nan_count": 0,
          "categories": [
           {
            "name": "2020-02-24",
            "count": 1
           },
           {
            "name": "2020-02-25",
            "count": 1
           },
           {
            "name": "3 others",
            "count": 3
           }
          ]
         }
        },
        {
         "name": "total_cases",
         "dtype": "float64",
         "stats": {
          "unique_count": 1,
          "nan_count": 0,
          "min": "5.0",
          "max": "5.0",
          "histogram": [
           {
            "bin_start": 4.5,
            "bin_end": 4.6,
            "count": 0
           },
           {
            "bin_start": 4.6,
            "bin_end": 4.7,
            "count": 0
           },
           {
            "bin_start": 4.7,
            "bin_end": 4.8,
            "count": 0
           },
           {
            "bin_start": 4.8,
            "bin_end": 4.9,
            "count": 0
           },
           {
            "bin_start": 4.9,
            "bin_end": 5,
            "count": 0
           },
           {
            "bin_start": 5,
            "bin_end": 5.1,
            "count": 5
           },
           {
            "bin_start": 5.1,
            "bin_end": 5.2,
            "count": 0
           },
           {
            "bin_start": 5.2,
            "bin_end": 5.3,
            "count": 0
           },
           {
            "bin_start": 5.3,
            "bin_end": 5.4,
            "count": 0
           },
           {
            "bin_start": 5.4,
            "bin_end": 5.5,
            "count": 0
           }
          ]
         }
        },
        {
         "name": "new_cases",
         "dtype": "float64",
         "stats": {
          "unique_count": 2,
          "nan_count": 0,
          "min": "0.0",
          "max": "5.0",
          "histogram": [
           {
            "bin_start": 0,
            "bin_end": 0.5,
            "count": 4
           },
           {
            "bin_start": 0.5,
            "bin_end": 1,
            "count": 0
           },
           {
            "bin_start": 1,
            "bin_end": 1.5,
            "count": 0
           },
           {
            "bin_start": 1.5,
            "bin_end": 2,
            "count": 0
           },
           {
            "bin_start": 2,
            "bin_end": 2.5,
            "count": 0
           },
           {
            "bin_start": 2.5,
            "bin_end": 3,
            "count": 0
           },
           {
            "bin_start": 3,
            "bin_end": 3.5,
            "count": 0
           },
           {
            "bin_start": 3.5,
            "bin_end": 4,
            "count": 0
           },
           {
            "bin_start": 4,
            "bin_end": 4.5,
            "count": 0
           },
           {
            "bin_start": 4.5,
            "bin_end": 5,
            "count": 1
           }
          ]
         }
        },
        {
         "name": "new_cases_smoothed",
         "dtype": "float64",
         "stats": {
          "unique_count": 0,
          "nan_count": 5,
          "min": null,
          "max": null,
          "histogram": [
           {
            "bin_start": 0,
            "bin_end": 0.1,
            "count": 0
           },
           {
            "bin_start": 0.1,
            "bin_end": 0.2,
            "count": 0
           },
           {
            "bin_start": 0.2,
            "bin_end": 0.30000000000000004,
            "count": 0
           },
           {
            "bin_start": 0.30000000000000004,
            "bin_end": 0.4,
            "count": 0
           },
           {
            "bin_start": 0.4,
            "bin_end": 0.5,
            "count": 0
           },
           {
            "bin_start": 0.5,
            "bin_end": 0.6000000000000001,
            "count": 0
           },
           {
            "bin_start": 0.6000000000000001,
            "bin_end": 0.7000000000000001,
            "count": 0
           },
           {
            "bin_start": 0.7000000000000001,
            "bin_end": 0.8,
            "count": 0
           },
           {
            "bin_start": 0.8,
            "bin_end": 0.9,
            "count": 0
           },
           {
            "bin_start": 0.9,
            "bin_end": 1,
            "count": 0
           }
          ]
         }
        },
        {
         "name": "total_deaths",
         "dtype": "float64",
         "stats": {
          "unique_count": 0,
          "nan_count": 5,
          "min": null,
          "max": null,
          "histogram": [
           {
            "bin_start": 0,
            "bin_end": 0.1,
            "count": 0
           },
           {
            "bin_start": 0.1,
            "bin_end": 0.2,
            "count": 0
           },
           {
            "bin_start": 0.2,
            "bin_end": 0.30000000000000004,
            "count": 0
           },
           {
            "bin_start": 0.30000000000000004,
            "bin_end": 0.4,
            "count": 0
           },
           {
            "bin_start": 0.4,
            "bin_end": 0.5,
            "count": 0
           },
           {
            "bin_start": 0.5,
            "bin_end": 0.6000000000000001,
            "count": 0
           },
           {
            "bin_start": 0.6000000000000001,
            "bin_end": 0.7000000000000001,
            "count": 0
           },
           {
            "bin_start": 0.7000000000000001,
            "bin_end": 0.8,
            "count": 0
           },
           {
            "bin_start": 0.8,
            "bin_end": 0.9,
            "count": 0
           },
           {
            "bin_start": 0.9,
            "bin_end": 1,
            "count": 0
           }
          ]
         }
        },
        {
         "name": "new_deaths",
         "dtype": "float64",
         "stats": {
          "unique_count": 0,
          "nan_count": 5,
          "min": null,
          "max": null,
          "histogram": [
           {
            "bin_start": 0,
            "bin_end": 0.1,
            "count": 0
           },
           {
            "bin_start": 0.1,
            "bin_end": 0.2,
            "count": 0
           },
           {
            "bin_start": 0.2,
            "bin_end": 0.30000000000000004,
            "count": 0
           },
           {
            "bin_start": 0.30000000000000004,
            "bin_end": 0.4,
            "count": 0
           },
           {
            "bin_start": 0.4,
            "bin_end": 0.5,
            "count": 0
           },
           {
            "bin_start": 0.5,
            "bin_end": 0.6000000000000001,
            "count": 0
           },
           {
            "bin_start": 0.6000000000000001,
            "bin_end": 0.7000000000000001,
            "count": 0
           },
           {
            "bin_start": 0.7000000000000001,
            "bin_end": 0.8,
            "count": 0
           },
           {
            "bin_start": 0.8,
            "bin_end": 0.9,
            "count": 0
           },
           {
            "bin_start": 0.9,
            "bin_end": 1,
            "count": 0
           }
          ]
         }
        },
        {
         "name": "new_deaths_smoothed",
         "dtype": "float64",
         "stats": {
          "unique_count": 0,
          "nan_count": 5,
          "min": null,
          "max": null,
          "histogram": [
           {
            "bin_start": 0,
            "bin_end": 0.1,
            "count": 0
           },
           {
            "bin_start": 0.1,
            "bin_end": 0.2,
            "count": 0
           },
           {
            "bin_start": 0.2,
            "bin_end": 0.30000000000000004,
            "count": 0
           },
           {
            "bin_start": 0.30000000000000004,
            "bin_end": 0.4,
            "count": 0
           },
           {
            "bin_start": 0.4,
            "bin_end": 0.5,
            "count": 0
           },
           {
            "bin_start": 0.5,
            "bin_end": 0.6000000000000001,
            "count": 0
           },
           {
            "bin_start": 0.6000000000000001,
            "bin_end": 0.7000000000000001,
            "count": 0
           },
           {
            "bin_start": 0.7000000000000001,
            "bin_end": 0.8,
            "count": 0
           },
           {
            "bin_start": 0.8,
            "bin_end": 0.9,
            "count": 0
           },
           {
            "bin_start": 0.9,
            "bin_end": 1,
            "count": 0
           }
          ]
         }
        },
        {
         "name": "total_cases_per_million",
         "dtype": "float64",
         "stats": {
          "unique_count": 1,
          "nan_count": 0,
          "min": "0.126",
          "max": "0.126",
          "histogram": [
           {
            "bin_start": -0.374,
            "bin_end": -0.274,
            "count": 0
           },
           {
            "bin_start": -0.274,
            "bin_end": -0.174,
            "count": 0
           },
           {
            "bin_start": -0.174,
            "bin_end": -0.07399999999999995,
            "count": 0
           },
           {
            "bin_start": -0.07399999999999995,
            "bin_end": 0.026000000000000023,
            "count": 0
           },
           {
            "bin_start": 0.026000000000000023,
            "bin_end": 0.126,
            "count": 0
           },
           {
            "bin_start": 0.126,
            "bin_end": 0.2260000000000001,
            "count": 5
           },
           {
            "bin_start": 0.2260000000000001,
            "bin_end": 0.32600000000000007,
            "count": 0
           },
           {
            "bin_start": 0.32600000000000007,
            "bin_end": 0.42600000000000005,
            "count": 0
           },
           {
            "bin_start": 0.42600000000000005,
            "bin_end": 0.526,
            "count": 0
           },
           {
            "bin_start": 0.526,
            "bin_end": 0.626,
            "count": 0
           }
          ]
         }
        },
        {
         "name": "new_cases_per_million",
         "dtype": "float64",
         "stats": {
          "unique_count": 2,
          "nan_count": 0,
          "min": "0.0",
          "max": "0.126",
          "histogram": [
           {
            "bin_start": 0,
            "bin_end": 0.0126,
            "count": 4
           },
           {
            "bin_start": 0.0126,
            "bin_end": 0.0252,
            "count": 0
           },
           {
            "bin_start": 0.0252,
            "bin_end": 0.0378,
            "count": 0
           },
           {
            "bin_start": 0.0378,
            "bin_end": 0.0504,
            "count": 0
           },
           {
            "bin_start": 0.0504,
            "bin_end": 0.063,
            "count": 0
           },
           {
            "bin_start": 0.063,
            "bin_end": 0.0756,
            "count": 0
           },
           {
            "bin_start": 0.0756,
            "bin_end": 0.0882,
            "count": 0
           },
           {
            "bin_start": 0.0882,
            "bin_end": 0.1008,
            "count": 0
           },
           {
            "bin_start": 0.1008,
            "bin_end": 0.1134,
            "count": 0
           },
           {
            "bin_start": 0.1134,
            "bin_end": 0.126,
            "count": 1
           }
          ]
         }
        },
        {
         "name": "new_cases_smoothed_per_million",
         "dtype": "float64",
         "stats": {
          "unique_count": 0,
          "nan_count": 5,
          "min": null,
          "max": null,
          "histogram": [
           {
            "bin_start": 0,
            "bin_end": 0.1,
            "count": 0
           },
           {
            "bin_start": 0.1,
            "bin_end": 0.2,
            "count": 0
           },
           {
            "bin_start": 0.2,
            "bin_end": 0.30000000000000004,
            "count": 0
           },
           {
            "bin_start": 0.30000000000000004,
            "bin_end": 0.4,
            "count": 0
           },
           {
            "bin_start": 0.4,
            "bin_end": 0.5,
            "count": 0
           },
           {
            "bin_start": 0.5,
            "bin_end": 0.6000000000000001,
            "count": 0
           },
           {
            "bin_start": 0.6000000000000001,
            "bin_end": 0.7000000000000001,
            "count": 0
           },
           {
            "bin_start": 0.7000000000000001,
            "bin_end": 0.8,
            "count": 0
           },
           {
            "bin_start": 0.8,
            "bin_end": 0.9,
            "count": 0
           },
           {
            "bin_start": 0.9,
            "bin_end": 1,
            "count": 0
           }
          ]
         }
        },
        {
         "name": "total_deaths_per_million",
         "dtype": "float64",
         "stats": {
          "unique_count": 0,
          "nan_count": 5,
          "min": null,
          "max": null,
          "histogram": [
           {
            "bin_start": 0,
            "bin_end": 0.1,
            "count": 0
           },
           {
            "bin_start": 0.1,
            "bin_end": 0.2,
            "count": 0
           },
           {
            "bin_start": 0.2,
            "bin_end": 0.30000000000000004,
            "count": 0
           },
           {
            "bin_start": 0.30000000000000004,
            "bin_end": 0.4,
            "count": 0
           },
           {
            "bin_start": 0.4,
            "bin_end": 0.5,
            "count": 0
           },
           {
            "bin_start": 0.5,
            "bin_end": 0.6000000000000001,
            "count": 0
           },
           {
            "bin_start": 0.6000000000000001,
            "bin_end": 0.7000000000000001,
            "count": 0
           },
           {
            "bin_start": 0.7000000000000001,
            "bin_end": 0.8,
            "count": 0
           },
           {
            "bin_start": 0.8,
            "bin_end": 0.9,
            "count": 0
           },
           {
            "bin_start": 0.9,
            "bin_end": 1,
            "count": 0
           }
          ]
         }
        },
        {
         "name": "new_deaths_per_million",
         "dtype": "float64",
         "stats": {
          "unique_count": 0,
          "nan_count": 5,
          "min": null,
          "max": null,
          "histogram": [
           {
            "bin_start": 0,
            "bin_end": 0.1,
            "count": 0
           },
           {
            "bin_start": 0.1,
            "bin_end": 0.2,
            "count": 0
           },
           {
            "bin_start": 0.2,
            "bin_end": 0.30000000000000004,
            "count": 0
           },
           {
            "bin_start": 0.30000000000000004,
            "bin_end": 0.4,
            "count": 0
           },
           {
            "bin_start": 0.4,
            "bin_end": 0.5,
            "count": 0
           },
           {
            "bin_start": 0.5,
            "bin_end": 0.6000000000000001,
            "count": 0
           },
           {
            "bin_start": 0.6000000000000001,
            "bin_end": 0.7000000000000001,
            "count": 0
           },
           {
            "bin_start": 0.7000000000000001,
            "bin_end": 0.8,
            "count": 0
           },
           {
            "bin_start": 0.8,
            "bin_end": 0.9,
            "count": 0
           },
           {
            "bin_start": 0.9,
            "bin_end": 1,
            "count": 0
           }
          ]
         }
        },
        {
         "name": "new_deaths_smoothed_per_million",
         "dtype": "float64",
         "stats": {
          "unique_count": 0,
          "nan_count": 5,
          "min": null,
          "max": null,
          "histogram": [
           {
            "bin_start": 0,
            "bin_end": 0.1,
            "count": 0
           },
           {
            "bin_start": 0.1,
            "bin_end": 0.2,
            "count": 0
           },
           {
            "bin_start": 0.2,
            "bin_end": 0.30000000000000004,
            "count": 0
           },
           {
            "bin_start": 0.30000000000000004,
            "bin_end": 0.4,
            "count": 0
           },
           {
            "bin_start": 0.4,
            "bin_end": 0.5,
            "count": 0
           },
           {
            "bin_start": 0.5,
            "bin_end": 0.6000000000000001,
            "count": 0
           },
           {
            "bin_start": 0.6000000000000001,
            "bin_end": 0.7000000000000001,
            "count": 0
           },
           {
            "bin_start": 0.7000000000000001,
            "bin_end": 0.8,
            "count": 0
           },
           {
            "bin_start": 0.8,
            "bin_end": 0.9,
            "count": 0
           },
           {
            "bin_start": 0.9,
            "bin_end": 1,
            "count": 0
           }
          ]
         }
        },
        {
         "name": "reproduction_rate",
         "dtype": "float64",
         "stats": {
          "unique_count": 0,
          "nan_count": 5,
          "min": null,
          "max": null,
          "histogram": [
           {
            "bin_start": 0,
            "bin_end": 0.1,
            "count": 0
           },
           {
            "bin_start": 0.1,
            "bin_end": 0.2,
            "count": 0
           },
           {
            "bin_start": 0.2,
            "bin_end": 0.30000000000000004,
            "count": 0
           },
           {
            "bin_start": 0.30000000000000004,
            "bin_end": 0.4,
            "count": 0
           },
           {
            "bin_start": 0.4,
            "bin_end": 0.5,
            "count": 0
           },
           {
            "bin_start": 0.5,
            "bin_end": 0.6000000000000001,
            "count": 0
           },
           {
            "bin_start": 0.6000000000000001,
            "bin_end": 0.7000000000000001,
            "count": 0
           },
           {
            "bin_start": 0.7000000000000001,
            "bin_end": 0.8,
            "count": 0
           },
           {
            "bin_start": 0.8,
            "bin_end": 0.9,
            "count": 0
           },
           {
            "bin_start": 0.9,
            "bin_end": 1,
            "count": 0
           }
          ]
         }
        },
        {
         "name": "icu_patients",
         "dtype": "float64",
         "stats": {
          "unique_count": 0,
          "nan_count": 5,
          "min": null,
          "max": null,
          "histogram": [
           {
            "bin_start": 0,
            "bin_end": 0.1,
            "count": 0
           },
           {
            "bin_start": 0.1,
            "bin_end": 0.2,
            "count": 0
           },
           {
            "bin_start": 0.2,
            "bin_end": 0.30000000000000004,
            "count": 0
           },
           {
            "bin_start": 0.30000000000000004,
            "bin_end": 0.4,
            "count": 0
           },
           {
            "bin_start": 0.4,
            "bin_end": 0.5,
            "count": 0
           },
           {
            "bin_start": 0.5,
            "bin_end": 0.6000000000000001,
            "count": 0
           },
           {
            "bin_start": 0.6000000000000001,
            "bin_end": 0.7000000000000001,
            "count": 0
           },
           {
            "bin_start": 0.7000000000000001,
            "bin_end": 0.8,
            "count": 0
           },
           {
            "bin_start": 0.8,
            "bin_end": 0.9,
            "count": 0
           },
           {
            "bin_start": 0.9,
            "bin_end": 1,
            "count": 0
           }
          ]
         }
        },
        {
         "name": "icu_patients_per_million",
         "dtype": "float64",
         "stats": {
          "unique_count": 0,
          "nan_count": 5,
          "min": null,
          "max": null,
          "histogram": [
           {
            "bin_start": 0,
            "bin_end": 0.1,
            "count": 0
           },
           {
            "bin_start": 0.1,
            "bin_end": 0.2,
            "count": 0
           },
           {
            "bin_start": 0.2,
            "bin_end": 0.30000000000000004,
            "count": 0
           },
           {
            "bin_start": 0.30000000000000004,
            "bin_end": 0.4,
            "count": 0
           },
           {
            "bin_start": 0.4,
            "bin_end": 0.5,
            "count": 0
           },
           {
            "bin_start": 0.5,
            "bin_end": 0.6000000000000001,
            "count": 0
           },
           {
            "bin_start": 0.6000000000000001,
            "bin_end": 0.7000000000000001,
            "count": 0
           },
           {
            "bin_start": 0.7000000000000001,
            "bin_end": 0.8,
            "count": 0
           },
           {
            "bin_start": 0.8,
            "bin_end": 0.9,
            "count": 0
           },
           {
            "bin_start": 0.9,
            "bin_end": 1,
            "count": 0
           }
          ]
         }
        },
        {
         "name": "hosp_patients",
         "dtype": "float64",
         "stats": {
          "unique_count": 0,
          "nan_count": 5,
          "min": null,
          "max": null,
          "histogram": [
           {
            "bin_start": 0,
            "bin_end": 0.1,
            "count": 0
           },
           {
            "bin_start": 0.1,
            "bin_end": 0.2,
            "count": 0
           },
           {
            "bin_start": 0.2,
            "bin_end": 0.30000000000000004,
            "count": 0
           },
           {
            "bin_start": 0.30000000000000004,
            "bin_end": 0.4,
            "count": 0
           },
           {
            "bin_start": 0.4,
            "bin_end": 0.5,
            "count": 0
           },
           {
            "bin_start": 0.5,
            "bin_end": 0.6000000000000001,
            "count": 0
           },
           {
            "bin_start": 0.6000000000000001,
            "bin_end": 0.7000000000000001,
            "count": 0
           },
           {
            "bin_start": 0.7000000000000001,
            "bin_end": 0.8,
            "count": 0
           },
           {
            "bin_start": 0.8,
            "bin_end": 0.9,
            "count": 0
           },
           {
            "bin_start": 0.9,
            "bin_end": 1,
            "count": 0
           }
          ]
         }
        },
        {
         "name": "hosp_patients_per_million",
         "dtype": "float64",
         "stats": {
          "unique_count": 0,
          "nan_count": 5,
          "min": null,
          "max": null,
          "histogram": [
           {
            "bin_start": 0,
            "bin_end": 0.1,
            "count": 0
           },
           {
            "bin_start": 0.1,
            "bin_end": 0.2,
            "count": 0
           },
           {
            "bin_start": 0.2,
            "bin_end": 0.30000000000000004,
            "count": 0
           },
           {
            "bin_start": 0.30000000000000004,
            "bin_end": 0.4,
            "count": 0
           },
           {
            "bin_start": 0.4,
            "bin_end": 0.5,
            "count": 0
           },
           {
            "bin_start": 0.5,
            "bin_end": 0.6000000000000001,
            "count": 0
           },
           {
            "bin_start": 0.6000000000000001,
            "bin_end": 0.7000000000000001,
            "count": 0
           },
           {
            "bin_start": 0.7000000000000001,
            "bin_end": 0.8,
            "count": 0
           },
           {
            "bin_start": 0.8,
            "bin_end": 0.9,
            "count": 0
           },
           {
            "bin_start": 0.9,
            "bin_end": 1,
            "count": 0
           }
          ]
         }
        },
        {
         "name": "weekly_icu_admissions",
         "dtype": "float64",
         "stats": {
          "unique_count": 0,
          "nan_count": 5,
          "min": null,
          "max": null,
          "histogram": [
           {
            "bin_start": 0,
            "bin_end": 0.1,
            "count": 0
           },
           {
            "bin_start": 0.1,
            "bin_end": 0.2,
            "count": 0
           },
           {
            "bin_start": 0.2,
            "bin_end": 0.30000000000000004,
            "count": 0
           },
           {
            "bin_start": 0.30000000000000004,
            "bin_end": 0.4,
            "count": 0
           },
           {
            "bin_start": 0.4,
            "bin_end": 0.5,
            "count": 0
           },
           {
            "bin_start": 0.5,
            "bin_end": 0.6000000000000001,
            "count": 0
           },
           {
            "bin_start": 0.6000000000000001,
            "bin_end": 0.7000000000000001,
            "count": 0
           },
           {
            "bin_start": 0.7000000000000001,
            "bin_end": 0.8,
            "count": 0
           },
           {
            "bin_start": 0.8,
            "bin_end": 0.9,
            "count": 0
           },
           {
            "bin_start": 0.9,
            "bin_end": 1,
            "count": 0
           }
          ]
         }
        },
        {
         "name": "weekly_icu_admissions_per_million",
         "dtype": "float64",
         "stats": {
          "unique_count": 0,
          "nan_count": 5,
          "min": null,
          "max": null,
          "histogram": [
           {
            "bin_start": 0,
            "bin_end": 0.1,
            "count": 0
           },
           {
            "bin_start": 0.1,
            "bin_end": 0.2,
            "count": 0
           },
           {
            "bin_start": 0.2,
            "bin_end": 0.30000000000000004,
            "count": 0
           },
           {
            "bin_start": 0.30000000000000004,
            "bin_end": 0.4,
            "count": 0
           },
           {
            "bin_start": 0.4,
            "bin_end": 0.5,
            "count": 0
           },
           {
            "bin_start": 0.5,
            "bin_end": 0.6000000000000001,
            "count": 0
           },
           {
            "bin_start": 0.6000000000000001,
            "bin_end": 0.7000000000000001,
            "count": 0
           },
           {
            "bin_start": 0.7000000000000001,
            "bin_end": 0.8,
            "count": 0
           },
           {
            "bin_start": 0.8,
            "bin_end": 0.9,
            "count": 0
           },
           {
            "bin_start": 0.9,
            "bin_end": 1,
            "count": 0
           }
          ]
         }
        },
        {
         "name": "weekly_hosp_admissions",
         "dtype": "float64",
         "stats": {
          "unique_count": 0,
          "nan_count": 5,
          "min": null,
          "max": null,
          "histogram": [
           {
            "bin_start": 0,
            "bin_end": 0.1,
            "count": 0
           },
           {
            "bin_start": 0.1,
            "bin_end": 0.2,
            "count": 0
           },
           {
            "bin_start": 0.2,
            "bin_end": 0.30000000000000004,
            "count": 0
           },
           {
            "bin_start": 0.30000000000000004,
            "bin_end": 0.4,
            "count": 0
           },
           {
            "bin_start": 0.4,
            "bin_end": 0.5,
            "count": 0
           },
           {
            "bin_start": 0.5,
            "bin_end": 0.6000000000000001,
            "count": 0
           },
           {
            "bin_start": 0.6000000000000001,
            "bin_end": 0.7000000000000001,
            "count": 0
           },
           {
            "bin_start": 0.7000000000000001,
            "bin_end": 0.8,
            "count": 0
           },
           {
            "bin_start": 0.8,
            "bin_end": 0.9,
            "count": 0
           },
           {
            "bin_start": 0.9,
            "bin_end": 1,
            "count": 0
           }
          ]
         }
        },
        {
         "name": "weekly_hosp_admissions_per_million",
         "dtype": "float64",
         "stats": {
          "unique_count": 0,
          "nan_count": 5,
          "min": null,
          "max": null,
          "histogram": [
           {
            "bin_start": 0,
            "bin_end": 0.1,
            "count": 0
           },
           {
            "bin_start": 0.1,
            "bin_end": 0.2,
            "count": 0
           },
           {
            "bin_start": 0.2,
            "bin_end": 0.30000000000000004,
            "count": 0
           },
           {
            "bin_start": 0.30000000000000004,
            "bin_end": 0.4,
            "count": 0
           },
           {
            "bin_start": 0.4,
            "bin_end": 0.5,
            "count": 0
           },
           {
            "bin_start": 0.5,
            "bin_end": 0.6000000000000001,
            "count": 0
           },
           {
            "bin_start": 0.6000000000000001,
            "bin_end": 0.7000000000000001,
            "count": 0
           },
           {
            "bin_start": 0.7000000000000001,
            "bin_end": 0.8,
            "count": 0
           },
           {
            "bin_start": 0.8,
            "bin_end": 0.9,
            "count": 0
           },
           {
            "bin_start": 0.9,
            "bin_end": 1,
            "count": 0
           }
          ]
         }
        },
        {
         "name": "new_tests",
         "dtype": "float64",
         "stats": {
          "unique_count": 0,
          "nan_count": 5,
          "min": null,
          "max": null,
          "histogram": [
           {
            "bin_start": 0,
            "bin_end": 0.1,
            "count": 0
           },
           {
            "bin_start": 0.1,
            "bin_end": 0.2,
            "count": 0
           },
           {
            "bin_start": 0.2,
            "bin_end": 0.30000000000000004,
            "count": 0
           },
           {
            "bin_start": 0.30000000000000004,
            "bin_end": 0.4,
            "count": 0
           },
           {
            "bin_start": 0.4,
            "bin_end": 0.5,
            "count": 0
           },
           {
            "bin_start": 0.5,
            "bin_end": 0.6000000000000001,
            "count": 0
           },
           {
            "bin_start": 0.6000000000000001,
            "bin_end": 0.7000000000000001,
            "count": 0
           },
           {
            "bin_start": 0.7000000000000001,
            "bin_end": 0.8,
            "count": 0
           },
           {
            "bin_start": 0.8,
            "bin_end": 0.9,
            "count": 0
           },
           {
            "bin_start": 0.9,
            "bin_end": 1,
            "count": 0
           }
          ]
         }
        },
        {
         "name": "total_tests",
         "dtype": "float64",
         "stats": {
          "unique_count": 0,
          "nan_count": 5,
          "min": null,
          "max": null,
          "histogram": [
           {
            "bin_start": 0,
            "bin_end": 0.1,
            "count": 0
           },
           {
            "bin_start": 0.1,
            "bin_end": 0.2,
            "count": 0
           },
           {
            "bin_start": 0.2,
            "bin_end": 0.30000000000000004,
            "count": 0
           },
           {
            "bin_start": 0.30000000000000004,
            "bin_end": 0.4,
            "count": 0
           },
           {
            "bin_start": 0.4,
            "bin_end": 0.5,
            "count": 0
           },
           {
            "bin_start": 0.5,
            "bin_end": 0.6000000000000001,
            "count": 0
           },
           {
            "bin_start": 0.6000000000000001,
            "bin_end": 0.7000000000000001,
            "count": 0
           },
           {
            "bin_start": 0.7000000000000001,
            "bin_end": 0.8,
            "count": 0
           },
           {
            "bin_start": 0.8,
            "bin_end": 0.9,
            "count": 0
           },
           {
            "bin_start": 0.9,
            "bin_end": 1,
            "count": 0
           }
          ]
         }
        },
        {
         "name": "total_tests_per_thousand",
         "dtype": "float64",
         "stats": {
          "unique_count": 0,
          "nan_count": 5,
          "min": null,
          "max": null,
          "histogram": [
           {
            "bin_start": 0,
            "bin_end": 0.1,
            "count": 0
           },
           {
            "bin_start": 0.1,
            "bin_end": 0.2,
            "count": 0
           },
           {
            "bin_start": 0.2,
            "bin_end": 0.30000000000000004,
            "count": 0
           },
           {
            "bin_start": 0.30000000000000004,
            "bin_end": 0.4,
            "count": 0
           },
           {
            "bin_start": 0.4,
            "bin_end": 0.5,
            "count": 0
           },
           {
            "bin_start": 0.5,
            "bin_end": 0.6000000000000001,
            "count": 0
           },
           {
            "bin_start": 0.6000000000000001,
            "bin_end": 0.7000000000000001,
            "count": 0
           },
           {
            "bin_start": 0.7000000000000001,
            "bin_end": 0.8,
            "count": 0
           },
           {
            "bin_start": 0.8,
            "bin_end": 0.9,
            "count": 0
           },
           {
            "bin_start": 0.9,
            "bin_end": 1,
            "count": 0
           }
          ]
         }
        },
        {
         "name": "new_tests_per_thousand",
         "dtype": "float64",
         "stats": {
          "unique_count": 0,
          "nan_count": 5,
          "min": null,
          "max": null,
          "histogram": [
           {
            "bin_start": 0,
            "bin_end": 0.1,
            "count": 0
           },
           {
            "bin_start": 0.1,
            "bin_end": 0.2,
            "count": 0
           },
           {
            "bin_start": 0.2,
            "bin_end": 0.30000000000000004,
            "count": 0
           },
           {
            "bin_start": 0.30000000000000004,
            "bin_end": 0.4,
            "count": 0
           },
           {
            "bin_start": 0.4,
            "bin_end": 0.5,
            "count": 0
           },
           {
            "bin_start": 0.5,
            "bin_end": 0.6000000000000001,
            "count": 0
           },
           {
            "bin_start": 0.6000000000000001,
            "bin_end": 0.7000000000000001,
            "count": 0
           },
           {
            "bin_start": 0.7000000000000001,
            "bin_end": 0.8,
            "count": 0
           },
           {
            "bin_start": 0.8,
            "bin_end": 0.9,
            "count": 0
           },
           {
            "bin_start": 0.9,
            "bin_end": 1,
            "count": 0
           }
          ]
         }
        },
        {
         "name": "new_tests_smoothed",
         "dtype": "float64",
         "stats": {
          "unique_count": 0,
          "nan_count": 5,
          "min": null,
          "max": null,
          "histogram": [
           {
            "bin_start": 0,
            "bin_end": 0.1,
            "count": 0
           },
           {
            "bin_start": 0.1,
            "bin_end": 0.2,
            "count": 0
           },
           {
            "bin_start": 0.2,
            "bin_end": 0.30000000000000004,
            "count": 0
           },
           {
            "bin_start": 0.30000000000000004,
            "bin_end": 0.4,
            "count": 0
           },
           {
            "bin_start": 0.4,
            "bin_end": 0.5,
            "count": 0
           },
           {
            "bin_start": 0.5,
            "bin_end": 0.6000000000000001,
            "count": 0
           },
           {
            "bin_start": 0.6000000000000001,
            "bin_end": 0.7000000000000001,
            "count": 0
           },
           {
            "bin_start": 0.7000000000000001,
            "bin_end": 0.8,
            "count": 0
           },
           {
            "bin_start": 0.8,
            "bin_end": 0.9,
            "count": 0
           },
           {
            "bin_start": 0.9,
            "bin_end": 1,
            "count": 0
           }
          ]
         }
        },
        {
         "name": "new_tests_smoothed_per_thousand",
         "dtype": "float64",
         "stats": {
          "unique_count": 0,
          "nan_count": 5,
          "min": null,
          "max": null,
          "histogram": [
           {
            "bin_start": 0,
            "bin_end": 0.1,
            "count": 0
           },
           {
            "bin_start": 0.1,
            "bin_end": 0.2,
            "count": 0
           },
           {
            "bin_start": 0.2,
            "bin_end": 0.30000000000000004,
            "count": 0
           },
           {
            "bin_start": 0.30000000000000004,
            "bin_end": 0.4,
            "count": 0
           },
           {
            "bin_start": 0.4,
            "bin_end": 0.5,
            "count": 0
           },
           {
            "bin_start": 0.5,
            "bin_end": 0.6000000000000001,
            "count": 0
           },
           {
            "bin_start": 0.6000000000000001,
            "bin_end": 0.7000000000000001,
            "count": 0
           },
           {
            "bin_start": 0.7000000000000001,
            "bin_end": 0.8,
            "count": 0
           },
           {
            "bin_start": 0.8,
            "bin_end": 0.9,
            "count": 0
           },
           {
            "bin_start": 0.9,
            "bin_end": 1,
            "count": 0
           }
          ]
         }
        },
        {
         "name": "positive_rate",
         "dtype": "float64",
         "stats": {
          "unique_count": 0,
          "nan_count": 5,
          "min": null,
          "max": null,
          "histogram": [
           {
            "bin_start": 0,
            "bin_end": 0.1,
            "count": 0
           },
           {
            "bin_start": 0.1,
            "bin_end": 0.2,
            "count": 0
           },
           {
            "bin_start": 0.2,
            "bin_end": 0.30000000000000004,
            "count": 0
           },
           {
            "bin_start": 0.30000000000000004,
            "bin_end": 0.4,
            "count": 0
           },
           {
            "bin_start": 0.4,
            "bin_end": 0.5,
            "count": 0
           },
           {
            "bin_start": 0.5,
            "bin_end": 0.6000000000000001,
            "count": 0
           },
           {
            "bin_start": 0.6000000000000001,
            "bin_end": 0.7000000000000001,
            "count": 0
           },
           {
            "bin_start": 0.7000000000000001,
            "bin_end": 0.8,
            "count": 0
           },
           {
            "bin_start": 0.8,
            "bin_end": 0.9,
            "count": 0
           },
           {
            "bin_start": 0.9,
            "bin_end": 1,
            "count": 0
           }
          ]
         }
        },
        {
         "name": "tests_per_case",
         "dtype": "float64",
         "stats": {
          "unique_count": 0,
          "nan_count": 5,
          "min": null,
          "max": null,
          "histogram": [
           {
            "bin_start": 0,
            "bin_end": 0.1,
            "count": 0
           },
           {
            "bin_start": 0.1,
            "bin_end": 0.2,
            "count": 0
           },
           {
            "bin_start": 0.2,
            "bin_end": 0.30000000000000004,
            "count": 0
           },
           {
            "bin_start": 0.30000000000000004,
            "bin_end": 0.4,
            "count": 0
           },
           {
            "bin_start": 0.4,
            "bin_end": 0.5,
            "count": 0
           },
           {
            "bin_start": 0.5,
            "bin_end": 0.6000000000000001,
            "count": 0
           },
           {
            "bin_start": 0.6000000000000001,
            "bin_end": 0.7000000000000001,
            "count": 0
           },
           {
            "bin_start": 0.7000000000000001,
            "bin_end": 0.8,
            "count": 0
           },
           {
            "bin_start": 0.8,
            "bin_end": 0.9,
            "count": 0
           },
           {
            "bin_start": 0.9,
            "bin_end": 1,
            "count": 0
           }
          ]
         }
        },
        {
         "name": "tests_units",
         "dtype": "object",
         "stats": {
          "unique_count": 0,
          "nan_count": 5,
          "categories": [
           {
            "name": "Missing",
            "count": 5
           }
          ]
         }
        },
        {
         "name": "total_vaccinations",
         "dtype": "float64",
         "stats": {
          "unique_count": 0,
          "nan_count": 5,
          "min": null,
          "max": null,
          "histogram": [
           {
            "bin_start": 0,
            "bin_end": 0.1,
            "count": 0
           },
           {
            "bin_start": 0.1,
            "bin_end": 0.2,
            "count": 0
           },
           {
            "bin_start": 0.2,
            "bin_end": 0.30000000000000004,
            "count": 0
           },
           {
            "bin_start": 0.30000000000000004,
            "bin_end": 0.4,
            "count": 0
           },
           {
            "bin_start": 0.4,
            "bin_end": 0.5,
            "count": 0
           },
           {
            "bin_start": 0.5,
            "bin_end": 0.6000000000000001,
            "count": 0
           },
           {
            "bin_start": 0.6000000000000001,
            "bin_end": 0.7000000000000001,
            "count": 0
           },
           {
            "bin_start": 0.7000000000000001,
            "bin_end": 0.8,
            "count": 0
           },
           {
            "bin_start": 0.8,
            "bin_end": 0.9,
            "count": 0
           },
           {
            "bin_start": 0.9,
            "bin_end": 1,
            "count": 0
           }
          ]
         }
        },
        {
         "name": "people_vaccinated",
         "dtype": "float64",
         "stats": {
          "unique_count": 0,
          "nan_count": 5,
          "min": null,
          "max": null,
          "histogram": [
           {
            "bin_start": 0,
            "bin_end": 0.1,
            "count": 0
           },
           {
            "bin_start": 0.1,
            "bin_end": 0.2,
            "count": 0
           },
           {
            "bin_start": 0.2,
            "bin_end": 0.30000000000000004,
            "count": 0
           },
           {
            "bin_start": 0.30000000000000004,
            "bin_end": 0.4,
            "count": 0
           },
           {
            "bin_start": 0.4,
            "bin_end": 0.5,
            "count": 0
           },
           {
            "bin_start": 0.5,
            "bin_end": 0.6000000000000001,
            "count": 0
           },
           {
            "bin_start": 0.6000000000000001,
            "bin_end": 0.7000000000000001,
            "count": 0
           },
           {
            "bin_start": 0.7000000000000001,
            "bin_end": 0.8,
            "count": 0
           },
           {
            "bin_start": 0.8,
            "bin_end": 0.9,
            "count": 0
           },
           {
            "bin_start": 0.9,
            "bin_end": 1,
            "count": 0
           }
          ]
         }
        },
        {
         "name": "people_fully_vaccinated",
         "dtype": "float64",
         "stats": {
          "unique_count": 0,
          "nan_count": 5,
          "min": null,
          "max": null,
          "histogram": [
           {
            "bin_start": 0,
            "bin_end": 0.1,
            "count": 0
           },
           {
            "bin_start": 0.1,
            "bin_end": 0.2,
            "count": 0
           },
           {
            "bin_start": 0.2,
            "bin_end": 0.30000000000000004,
            "count": 0
           },
           {
            "bin_start": 0.30000000000000004,
            "bin_end": 0.4,
            "count": 0
           },
           {
            "bin_start": 0.4,
            "bin_end": 0.5,
            "count": 0
           },
           {
            "bin_start": 0.5,
            "bin_end": 0.6000000000000001,
            "count": 0
           },
           {
            "bin_start": 0.6000000000000001,
            "bin_end": 0.7000000000000001,
            "count": 0
           },
           {
            "bin_start": 0.7000000000000001,
            "bin_end": 0.8,
            "count": 0
           },
           {
            "bin_start": 0.8,
            "bin_end": 0.9,
            "count": 0
           },
           {
            "bin_start": 0.9,
            "bin_end": 1,
            "count": 0
           }
          ]
         }
        },
        {
         "name": "total_boosters",
         "dtype": "float64",
         "stats": {
          "unique_count": 0,
          "nan_count": 5,
          "min": null,
          "max": null,
          "histogram": [
           {
            "bin_start": 0,
            "bin_end": 0.1,
            "count": 0
           },
           {
            "bin_start": 0.1,
            "bin_end": 0.2,
            "count": 0
           },
           {
            "bin_start": 0.2,
            "bin_end": 0.30000000000000004,
            "count": 0
           },
           {
            "bin_start": 0.30000000000000004,
            "bin_end": 0.4,
            "count": 0
           },
           {
            "bin_start": 0.4,
            "bin_end": 0.5,
            "count": 0
           },
           {
            "bin_start": 0.5,
            "bin_end": 0.6000000000000001,
            "count": 0
           },
           {
            "bin_start": 0.6000000000000001,
            "bin_end": 0.7000000000000001,
            "count": 0
           },
           {
            "bin_start": 0.7000000000000001,
            "bin_end": 0.8,
            "count": 0
           },
           {
            "bin_start": 0.8,
            "bin_end": 0.9,
            "count": 0
           },
           {
            "bin_start": 0.9,
            "bin_end": 1,
            "count": 0
           }
          ]
         }
        },
        {
         "name": "new_vaccinations",
         "dtype": "float64",
         "stats": {
          "unique_count": 0,
          "nan_count": 5,
          "min": null,
          "max": null,
          "histogram": [
           {
            "bin_start": 0,
            "bin_end": 0.1,
            "count": 0
           },
           {
            "bin_start": 0.1,
            "bin_end": 0.2,
            "count": 0
           },
           {
            "bin_start": 0.2,
            "bin_end": 0.30000000000000004,
            "count": 0
           },
           {
            "bin_start": 0.30000000000000004,
            "bin_end": 0.4,
            "count": 0
           },
           {
            "bin_start": 0.4,
            "bin_end": 0.5,
            "count": 0
           },
           {
            "bin_start": 0.5,
            "bin_end": 0.6000000000000001,
            "count": 0
           },
           {
            "bin_start": 0.6000000000000001,
            "bin_end": 0.7000000000000001,
            "count": 0
           },
           {
            "bin_start": 0.7000000000000001,
            "bin_end": 0.8,
            "count": 0
           },
           {
            "bin_start": 0.8,
            "bin_end": 0.9,
            "count": 0
           },
           {
            "bin_start": 0.9,
            "bin_end": 1,
            "count": 0
           }
          ]
         }
        },
        {
         "name": "new_vaccinations_smoothed",
         "dtype": "float64",
         "stats": {
          "unique_count": 0,
          "nan_count": 5,
          "min": null,
          "max": null,
          "histogram": [
           {
            "bin_start": 0,
            "bin_end": 0.1,
            "count": 0
           },
           {
            "bin_start": 0.1,
            "bin_end": 0.2,
            "count": 0
           },
           {
            "bin_start": 0.2,
            "bin_end": 0.30000000000000004,
            "count": 0
           },
           {
            "bin_start": 0.30000000000000004,
            "bin_end": 0.4,
            "count": 0
           },
           {
            "bin_start": 0.4,
            "bin_end": 0.5,
            "count": 0
           },
           {
            "bin_start": 0.5,
            "bin_end": 0.6000000000000001,
            "count": 0
           },
           {
            "bin_start": 0.6000000000000001,
            "bin_end": 0.7000000000000001,
            "count": 0
           },
           {
            "bin_start": 0.7000000000000001,
            "bin_end": 0.8,
            "count": 0
           },
           {
            "bin_start": 0.8,
            "bin_end": 0.9,
            "count": 0
           },
           {
            "bin_start": 0.9,
            "bin_end": 1,
            "count": 0
           }
          ]
         }
        },
        {
         "name": "total_vaccinations_per_hundred",
         "dtype": "float64",
         "stats": {
          "unique_count": 0,
          "nan_count": 5,
          "min": null,
          "max": null,
          "histogram": [
           {
            "bin_start": 0,
            "bin_end": 0.1,
            "count": 0
           },
           {
            "bin_start": 0.1,
            "bin_end": 0.2,
            "count": 0
           },
           {
            "bin_start": 0.2,
            "bin_end": 0.30000000000000004,
            "count": 0
           },
           {
            "bin_start": 0.30000000000000004,
            "bin_end": 0.4,
            "count": 0
           },
           {
            "bin_start": 0.4,
            "bin_end": 0.5,
            "count": 0
           },
           {
            "bin_start": 0.5,
            "bin_end": 0.6000000000000001,
            "count": 0
           },
           {
            "bin_start": 0.6000000000000001,
            "bin_end": 0.7000000000000001,
            "count": 0
           },
           {
            "bin_start": 0.7000000000000001,
            "bin_end": 0.8,
            "count": 0
           },
           {
            "bin_start": 0.8,
            "bin_end": 0.9,
            "count": 0
           },
           {
            "bin_start": 0.9,
            "bin_end": 1,
            "count": 0
           }
          ]
         }
        },
        {
         "name": "people_vaccinated_per_hundred",
         "dtype": "float64",
         "stats": {
          "unique_count": 0,
          "nan_count": 5,
          "min": null,
          "max": null,
          "histogram": [
           {
            "bin_start": 0,
            "bin_end": 0.1,
            "count": 0
           },
           {
            "bin_start": 0.1,
            "bin_end": 0.2,
            "count": 0
           },
           {
            "bin_start": 0.2,
            "bin_end": 0.30000000000000004,
            "count": 0
           },
           {
            "bin_start": 0.30000000000000004,
            "bin_end": 0.4,
            "count": 0
           },
           {
            "bin_start": 0.4,
            "bin_end": 0.5,
            "count": 0
           },
           {
            "bin_start": 0.5,
            "bin_end": 0.6000000000000001,
            "count": 0
           },
           {
            "bin_start": 0.6000000000000001,
            "bin_end": 0.7000000000000001,
            "count": 0
           },
           {
            "bin_start": 0.7000000000000001,
            "bin_end": 0.8,
            "count": 0
           },
           {
            "bin_start": 0.8,
            "bin_end": 0.9,
            "count": 0
           },
           {
            "bin_start": 0.9,
            "bin_end": 1,
            "count": 0
           }
          ]
         }
        },
        {
         "name": "people_fully_vaccinated_per_hundred",
         "dtype": "float64",
         "stats": {
          "unique_count": 0,
          "nan_count": 5,
          "min": null,
          "max": null,
          "histogram": [
           {
            "bin_start": 0,
            "bin_end": 0.1,
            "count": 0
           },
           {
            "bin_start": 0.1,
            "bin_end": 0.2,
            "count": 0
           },
           {
            "bin_start": 0.2,
            "bin_end": 0.30000000000000004,
            "count": 0
           },
           {
            "bin_start": 0.30000000000000004,
            "bin_end": 0.4,
            "count": 0
           },
           {
            "bin_start": 0.4,
            "bin_end": 0.5,
            "count": 0
           },
           {
            "bin_start": 0.5,
            "bin_end": 0.6000000000000001,
            "count": 0
           },
           {
            "bin_start": 0.6000000000000001,
            "bin_end": 0.7000000000000001,
            "count": 0
           },
           {
            "bin_start": 0.7000000000000001,
            "bin_end": 0.8,
            "count": 0
           },
           {
            "bin_start": 0.8,
            "bin_end": 0.9,
            "count": 0
           },
           {
            "bin_start": 0.9,
            "bin_end": 1,
            "count": 0
           }
          ]
         }
        },
        {
         "name": "total_boosters_per_hundred",
         "dtype": "float64",
         "stats": {
          "unique_count": 0,
          "nan_count": 5,
          "min": null,
          "max": null,
          "histogram": [
           {
            "bin_start": 0,
            "bin_end": 0.1,
            "count": 0
           },
           {
            "bin_start": 0.1,
            "bin_end": 0.2,
            "count": 0
           },
           {
            "bin_start": 0.2,
            "bin_end": 0.30000000000000004,
            "count": 0
           },
           {
            "bin_start": 0.30000000000000004,
            "bin_end": 0.4,
            "count": 0
           },
           {
            "bin_start": 0.4,
            "bin_end": 0.5,
            "count": 0
           },
           {
            "bin_start": 0.5,
            "bin_end": 0.6000000000000001,
            "count": 0
           },
           {
            "bin_start": 0.6000000000000001,
            "bin_end": 0.7000000000000001,
            "count": 0
           },
           {
            "bin_start": 0.7000000000000001,
            "bin_end": 0.8,
            "count": 0
           },
           {
            "bin_start": 0.8,
            "bin_end": 0.9,
            "count": 0
           },
           {
            "bin_start": 0.9,
            "bin_end": 1,
            "count": 0
           }
          ]
         }
        },
        {
         "name": "new_vaccinations_smoothed_per_million",
         "dtype": "float64",
         "stats": {
          "unique_count": 0,
          "nan_count": 5,
          "min": null,
          "max": null,
          "histogram": [
           {
            "bin_start": 0,
            "bin_end": 0.1,
            "count": 0
           },
           {
            "bin_start": 0.1,
            "bin_end": 0.2,
            "count": 0
           },
           {
            "bin_start": 0.2,
            "bin_end": 0.30000000000000004,
            "count": 0
           },
           {
            "bin_start": 0.30000000000000004,
            "bin_end": 0.4,
            "count": 0
           },
           {
            "bin_start": 0.4,
            "bin_end": 0.5,
            "count": 0
           },
           {
            "bin_start": 0.5,
            "bin_end": 0.6000000000000001,
            "count": 0
           },
           {
            "bin_start": 0.6000000000000001,
            "bin_end": 0.7000000000000001,
            "count": 0
           },
           {
            "bin_start": 0.7000000000000001,
            "bin_end": 0.8,
            "count": 0
           },
           {
            "bin_start": 0.8,
            "bin_end": 0.9,
            "count": 0
           },
           {
            "bin_start": 0.9,
            "bin_end": 1,
            "count": 0
           }
          ]
         }
        },
        {
         "name": "new_people_vaccinated_smoothed",
         "dtype": "float64",
         "stats": {
          "unique_count": 0,
          "nan_count": 5,
          "min": null,
          "max": null,
          "histogram": [
           {
            "bin_start": 0,
            "bin_end": 0.1,
            "count": 0
           },
           {
            "bin_start": 0.1,
            "bin_end": 0.2,
            "count": 0
           },
           {
            "bin_start": 0.2,
            "bin_end": 0.30000000000000004,
            "count": 0
           },
           {
            "bin_start": 0.30000000000000004,
            "bin_end": 0.4,
            "count": 0
           },
           {
            "bin_start": 0.4,
            "bin_end": 0.5,
            "count": 0
           },
           {
            "bin_start": 0.5,
            "bin_end": 0.6000000000000001,
            "count": 0
           },
           {
            "bin_start": 0.6000000000000001,
            "bin_end": 0.7000000000000001,
            "count": 0
           },
           {
            "bin_start": 0.7000000000000001,
            "bin_end": 0.8,
            "count": 0
           },
           {
            "bin_start": 0.8,
            "bin_end": 0.9,
            "count": 0
           },
           {
            "bin_start": 0.9,
            "bin_end": 1,
            "count": 0
           }
          ]
         }
        },
        {
         "name": "new_people_vaccinated_smoothed_per_hundred",
         "dtype": "float64",
         "stats": {
          "unique_count": 0,
          "nan_count": 5,
          "min": null,
          "max": null,
          "histogram": [
           {
            "bin_start": 0,
            "bin_end": 0.1,
            "count": 0
           },
           {
            "bin_start": 0.1,
            "bin_end": 0.2,
            "count": 0
           },
           {
            "bin_start": 0.2,
            "bin_end": 0.30000000000000004,
            "count": 0
           },
           {
            "bin_start": 0.30000000000000004,
            "bin_end": 0.4,
            "count": 0
           },
           {
            "bin_start": 0.4,
            "bin_end": 0.5,
            "count": 0
           },
           {
            "bin_start": 0.5,
            "bin_end": 0.6000000000000001,
            "count": 0
           },
           {
            "bin_start": 0.6000000000000001,
            "bin_end": 0.7000000000000001,
            "count": 0
           },
           {
            "bin_start": 0.7000000000000001,
            "bin_end": 0.8,
            "count": 0
           },
           {
            "bin_start": 0.8,
            "bin_end": 0.9,
            "count": 0
           },
           {
            "bin_start": 0.9,
            "bin_end": 1,
            "count": 0
           }
          ]
         }
        },
        {
         "name": "stringency_index",
         "dtype": "float64",
         "stats": {
          "unique_count": 1,
          "nan_count": 0,
          "min": "8.33",
          "max": "8.33",
          "histogram": [
           {
            "bin_start": 7.83,
            "bin_end": 7.93,
            "count": 0
           },
           {
            "bin_start": 7.93,
            "bin_end": 8.03,
            "count": 0
           },
           {
            "bin_start": 8.03,
            "bin_end": 8.13,
            "count": 0
           },
           {
            "bin_start": 8.13,
            "bin_end": 8.23,
            "count": 0
           },
           {
            "bin_start": 8.23,
            "bin_end": 8.33,
            "count": 0
           },
           {
            "bin_start": 8.33,
            "bin_end": 8.43,
            "count": 5
           },
           {
            "bin_start": 8.43,
            "bin_end": 8.53,
            "count": 0
           },
           {
            "bin_start": 8.53,
            "bin_end": 8.63,
            "count": 0
           },
           {
            "bin_start": 8.63,
            "bin_end": 8.73,
            "count": 0
           },
           {
            "bin_start": 8.73,
            "bin_end": 8.83,
            "count": 0
           }
          ]
         }
        },
        {
         "name": "population",
         "dtype": "float64",
         "stats": {
          "unique_count": 1,
          "nan_count": 0,
          "min": "39835428.0",
          "max": "39835428.0",
          "histogram": [
           {
            "bin_start": 39835427.5,
            "bin_end": 39835427.6,
            "count": 0
           },
           {
            "bin_start": 39835427.6,
            "bin_end": 39835427.7,
            "count": 0
           },
           {
            "bin_start": 39835427.7,
            "bin_end": 39835427.8,
            "count": 0
           },
           {
            "bin_start": 39835427.8,
            "bin_end": 39835427.9,
            "count": 0
           },
           {
            "bin_start": 39835427.9,
            "bin_end": 39835428,
            "count": 0
           },
           {
            "bin_start": 39835428,
            "bin_end": 39835428.1,
            "count": 5
           },
           {
            "bin_start": 39835428.1,
            "bin_end": 39835428.2,
            "count": 0
           },
           {
            "bin_start": 39835428.2,
            "bin_end": 39835428.3,
            "count": 0
           },
           {
            "bin_start": 39835428.3,
            "bin_end": 39835428.4,
            "count": 0
           },
           {
            "bin_start": 39835428.4,
            "bin_end": 39835428.5,
            "count": 0
           }
          ]
         }
        },
        {
         "name": "population_density",
         "dtype": "float64",
         "stats": {
          "unique_count": 1,
          "nan_count": 0,
          "min": "54.422",
          "max": "54.422",
          "histogram": [
           {
            "bin_start": 53.922,
            "bin_end": 54.022,
            "count": 0
           },
           {
            "bin_start": 54.022,
            "bin_end": 54.122,
            "count": 0
           },
           {
            "bin_start": 54.122,
            "bin_end": 54.221999999999994,
            "count": 0
           },
           {
            "bin_start": 54.221999999999994,
            "bin_end": 54.321999999999996,
            "count": 0
           },
           {
            "bin_start": 54.321999999999996,
            "bin_end": 54.422,
            "count": 0
           },
           {
            "bin_start": 54.422,
            "bin_end": 54.522,
            "count": 5
           },
           {
            "bin_start": 54.522,
            "bin_end": 54.622,
            "count": 0
           },
           {
            "bin_start": 54.622,
            "bin_end": 54.721999999999994,
            "count": 0
           },
           {
            "bin_start": 54.721999999999994,
            "bin_end": 54.821999999999996,
            "count": 0
           },
           {
            "bin_start": 54.821999999999996,
            "bin_end": 54.922,
            "count": 0
           }
          ]
         }
        },
        {
         "name": "median_age",
         "dtype": "float64",
         "stats": {
          "unique_count": 1,
          "nan_count": 0,
          "min": "18.6",
          "max": "18.6",
          "histogram": [
           {
            "bin_start": 18.1,
            "bin_end": 18.200000000000003,
            "count": 0
           },
           {
            "bin_start": 18.200000000000003,
            "bin_end": 18.3,
            "count": 0
           },
           {
            "bin_start": 18.3,
            "bin_end": 18.400000000000002,
            "count": 0
           },
           {
            "bin_start": 18.400000000000002,
            "bin_end": 18.5,
            "count": 0
           },
           {
            "bin_start": 18.5,
            "bin_end": 18.6,
            "count": 0
           },
           {
            "bin_start": 18.6,
            "bin_end": 18.700000000000003,
            "count": 5
           },
           {
            "bin_start": 18.700000000000003,
            "bin_end": 18.8,
            "count": 0
           },
           {
            "bin_start": 18.8,
            "bin_end": 18.900000000000002,
            "count": 0
           },
           {
            "bin_start": 18.900000000000002,
            "bin_end": 19,
            "count": 0
           },
           {
            "bin_start": 19,
            "bin_end": 19.1,
            "count": 0
           }
          ]
         }
        },
        {
         "name": "aged_65_older",
         "dtype": "float64",
         "stats": {
          "unique_count": 1,
          "nan_count": 0,
          "min": "2.581",
          "max": "2.581",
          "histogram": [
           {
            "bin_start": 2.081,
            "bin_end": 2.181,
            "count": 0
           },
           {
            "bin_start": 2.181,
            "bin_end": 2.281,
            "count": 0
           },
           {
            "bin_start": 2.281,
            "bin_end": 2.3810000000000002,
            "count": 0
           },
           {
            "bin_start": 2.3810000000000002,
            "bin_end": 2.481,
            "count": 0
           },
           {
            "bin_start": 2.481,
            "bin_end": 2.581,
            "count": 0
           },
           {
            "bin_start": 2.581,
            "bin_end": 2.681,
            "count": 5
           },
           {
            "bin_start": 2.681,
            "bin_end": 2.781,
            "count": 0
           },
           {
            "bin_start": 2.781,
            "bin_end": 2.8810000000000002,
            "count": 0
           },
           {
            "bin_start": 2.8810000000000002,
            "bin_end": 2.981,
            "count": 0
           },
           {
            "bin_start": 2.981,
            "bin_end": 3.081,
            "count": 0
           }
          ]
         }
        },
        {
         "name": "aged_70_older",
         "dtype": "float64",
         "stats": {
          "unique_count": 1,
          "nan_count": 0,
          "min": "1.337",
          "max": "1.337",
          "histogram": [
           {
            "bin_start": 0.837,
            "bin_end": 0.9369999999999999,
            "count": 0
           },
           {
            "bin_start": 0.9369999999999999,
            "bin_end": 1.037,
            "count": 0
           },
           {
            "bin_start": 1.037,
            "bin_end": 1.137,
            "count": 0
           },
           {
            "bin_start": 1.137,
            "bin_end": 1.237,
            "count": 0
           },
           {
            "bin_start": 1.237,
            "bin_end": 1.337,
            "count": 0
           },
           {
            "bin_start": 1.337,
            "bin_end": 1.437,
            "count": 5
           },
           {
            "bin_start": 1.437,
            "bin_end": 1.537,
            "count": 0
           },
           {
            "bin_start": 1.537,
            "bin_end": 1.637,
            "count": 0
           },
           {
            "bin_start": 1.637,
            "bin_end": 1.737,
            "count": 0
           },
           {
            "bin_start": 1.737,
            "bin_end": 1.837,
            "count": 0
           }
          ]
         }
        },
        {
         "name": "gdp_per_capita",
         "dtype": "float64",
         "stats": {
          "unique_count": 1,
          "nan_count": 0,
          "min": "1803.987",
          "max": "1803.987",
          "histogram": [
           {
            "bin_start": 1803.487,
            "bin_end": 1803.587,
            "count": 0
           },
           {
            "bin_start": 1803.587,
            "bin_end": 1803.6870000000001,
            "count": 0
           },
           {
            "bin_start": 1803.6870000000001,
            "bin_end": 1803.787,
            "count": 0
           },
           {
            "bin_start": 1803.787,
            "bin_end": 1803.8870000000002,
            "count": 0
           },
           {
            "bin_start": 1803.8870000000002,
            "bin_end": 1803.987,
            "count": 0
           },
           {
            "bin_start": 1803.987,
            "bin_end": 1804.087,
            "count": 5
           },
           {
            "bin_start": 1804.087,
            "bin_end": 1804.1870000000001,
            "count": 0
           },
           {
            "bin_start": 1804.1870000000001,
            "bin_end": 1804.287,
            "count": 0
           },
           {
            "bin_start": 1804.287,
            "bin_end": 1804.3870000000002,
            "count": 0
           },
           {
            "bin_start": 1804.3870000000002,
            "bin_end": 1804.487,
            "count": 0
           }
          ]
         }
        },
        {
         "name": "extreme_poverty",
         "dtype": "float64",
         "stats": {
          "unique_count": 0,
          "nan_count": 5,
          "min": null,
          "max": null,
          "histogram": [
           {
            "bin_start": 0,
            "bin_end": 0.1,
            "count": 0
           },
           {
            "bin_start": 0.1,
            "bin_end": 0.2,
            "count": 0
           },
           {
            "bin_start": 0.2,
            "bin_end": 0.30000000000000004,
            "count": 0
           },
           {
            "bin_start": 0.30000000000000004,
            "bin_end": 0.4,
            "count": 0
           },
           {
            "bin_start": 0.4,
            "bin_end": 0.5,
            "count": 0
           },
           {
            "bin_start": 0.5,
            "bin_end": 0.6000000000000001,
            "count": 0
           },
           {
            "bin_start": 0.6000000000000001,
            "bin_end": 0.7000000000000001,
            "count": 0
           },
           {
            "bin_start": 0.7000000000000001,
            "bin_end": 0.8,
            "count": 0
           },
           {
            "bin_start": 0.8,
            "bin_end": 0.9,
            "count": 0
           },
           {
            "bin_start": 0.9,
            "bin_end": 1,
            "count": 0
           }
          ]
         }
        },
        {
         "name": "cardiovasc_death_rate",
         "dtype": "float64",
         "stats": {
          "unique_count": 1,
          "nan_count": 0,
          "min": "597.029",
          "max": "597.029",
          "histogram": [
           {
            "bin_start": 596.529,
            "bin_end": 596.629,
            "count": 0
           },
           {
            "bin_start": 596.629,
            "bin_end": 596.729,
            "count": 0
           },
           {
            "bin_start": 596.729,
            "bin_end": 596.829,
            "count": 0
           },
           {
            "bin_start": 596.829,
            "bin_end": 596.929,
            "count": 0
           },
           {
            "bin_start": 596.929,
            "bin_end": 597.029,
            "count": 0
           },
           {
            "bin_start": 597.029,
            "bin_end": 597.129,
            "count": 5
           },
           {
            "bin_start": 597.129,
            "bin_end": 597.229,
            "count": 0
           },
           {
            "bin_start": 597.229,
            "bin_end": 597.329,
            "count": 0
           },
           {
            "bin_start": 597.329,
            "bin_end": 597.429,
            "count": 0
           },
           {
            "bin_start": 597.429,
            "bin_end": 597.529,
            "count": 0
           }
          ]
         }
        },
        {
         "name": "diabetes_prevalence",
         "dtype": "float64",
         "stats": {
          "unique_count": 1,
          "nan_count": 0,
          "min": "9.59",
          "max": "9.59",
          "histogram": [
           {
            "bin_start": 9.09,
            "bin_end": 9.19,
            "count": 0
           },
           {
            "bin_start": 9.19,
            "bin_end": 9.29,
            "count": 0
           },
           {
            "bin_start": 9.29,
            "bin_end": 9.39,
            "count": 0
           },
           {
            "bin_start": 9.39,
            "bin_end": 9.49,
            "count": 0
           },
           {
            "bin_start": 9.49,
            "bin_end": 9.59,
            "count": 0
           },
           {
            "bin_start": 9.59,
            "bin_end": 9.69,
            "count": 5
           },
           {
            "bin_start": 9.69,
            "bin_end": 9.79,
            "count": 0
           },
           {
            "bin_start": 9.79,
            "bin_end": 9.89,
            "count": 0
           },
           {
            "bin_start": 9.89,
            "bin_end": 9.99,
            "count": 0
           },
           {
            "bin_start": 9.99,
            "bin_end": 10.09,
            "count": 0
           }
          ]
         }
        },
        {
         "name": "female_smokers",
         "dtype": "float64",
         "stats": {
          "unique_count": 0,
          "nan_count": 5,
          "min": null,
          "max": null,
          "histogram": [
           {
            "bin_start": 0,
            "bin_end": 0.1,
            "count": 0
           },
           {
            "bin_start": 0.1,
            "bin_end": 0.2,
            "count": 0
           },
           {
            "bin_start": 0.2,
            "bin_end": 0.30000000000000004,
            "count": 0
           },
           {
            "bin_start": 0.30000000000000004,
            "bin_end": 0.4,
            "count": 0
           },
           {
            "bin_start": 0.4,
            "bin_end": 0.5,
            "count": 0
           },
           {
            "bin_start": 0.5,
            "bin_end": 0.6000000000000001,
            "count": 0
           },
           {
            "bin_start": 0.6000000000000001,
            "bin_end": 0.7000000000000001,
            "count": 0
           },
           {
            "bin_start": 0.7000000000000001,
            "bin_end": 0.8,
            "count": 0
           },
           {
            "bin_start": 0.8,
            "bin_end": 0.9,
            "count": 0
           },
           {
            "bin_start": 0.9,
            "bin_end": 1,
            "count": 0
           }
          ]
         }
        },
        {
         "name": "male_smokers",
         "dtype": "float64",
         "stats": {
          "unique_count": 0,
          "nan_count": 5,
          "min": null,
          "max": null,
          "histogram": [
           {
            "bin_start": 0,
            "bin_end": 0.1,
            "count": 0
           },
           {
            "bin_start": 0.1,
            "bin_end": 0.2,
            "count": 0
           },
           {
            "bin_start": 0.2,
            "bin_end": 0.30000000000000004,
            "count": 0
           },
           {
            "bin_start": 0.30000000000000004,
            "bin_end": 0.4,
            "count": 0
           },
           {
            "bin_start": 0.4,
            "bin_end": 0.5,
            "count": 0
           },
           {
            "bin_start": 0.5,
            "bin_end": 0.6000000000000001,
            "count": 0
           },
           {
            "bin_start": 0.6000000000000001,
            "bin_end": 0.7000000000000001,
            "count": 0
           },
           {
            "bin_start": 0.7000000000000001,
            "bin_end": 0.8,
            "count": 0
           },
           {
            "bin_start": 0.8,
            "bin_end": 0.9,
            "count": 0
           },
           {
            "bin_start": 0.9,
            "bin_end": 1,
            "count": 0
           }
          ]
         }
        },
        {
         "name": "handwashing_facilities",
         "dtype": "float64",
         "stats": {
          "unique_count": 1,
          "nan_count": 0,
          "min": "37.746",
          "max": "37.746",
          "histogram": [
           {
            "bin_start": 37.246,
            "bin_end": 37.346000000000004,
            "count": 0
           },
           {
            "bin_start": 37.346000000000004,
            "bin_end": 37.446000000000005,
            "count": 0
           },
           {
            "bin_start": 37.446000000000005,
            "bin_end": 37.546,
            "count": 0
           },
           {
            "bin_start": 37.546,
            "bin_end": 37.646,
            "count": 0
           },
           {
            "bin_start": 37.646,
            "bin_end": 37.746,
            "count": 0
           },
           {
            "bin_start": 37.746,
            "bin_end": 37.846000000000004,
            "count": 5
           },
           {
            "bin_start": 37.846000000000004,
            "bin_end": 37.946000000000005,
            "count": 0
           },
           {
            "bin_start": 37.946000000000005,
            "bin_end": 38.046,
            "count": 0
           },
           {
            "bin_start": 38.046,
            "bin_end": 38.146,
            "count": 0
           },
           {
            "bin_start": 38.146,
            "bin_end": 38.246,
            "count": 0
           }
          ]
         }
        },
        {
         "name": "hospital_beds_per_thousand",
         "dtype": "float64",
         "stats": {
          "unique_count": 1,
          "nan_count": 0,
          "min": "0.5",
          "max": "0.5",
          "histogram": [
           {
            "bin_start": 0,
            "bin_end": 0.1,
            "count": 0
           },
           {
            "bin_start": 0.1,
            "bin_end": 0.2,
            "count": 0
           },
           {
            "bin_start": 0.2,
            "bin_end": 0.30000000000000004,
            "count": 0
           },
           {
            "bin_start": 0.30000000000000004,
            "bin_end": 0.4,
            "count": 0
           },
           {
            "bin_start": 0.4,
            "bin_end": 0.5,
            "count": 0
           },
           {
            "bin_start": 0.5,
            "bin_end": 0.6000000000000001,
            "count": 5
           },
           {
            "bin_start": 0.6000000000000001,
            "bin_end": 0.7000000000000001,
            "count": 0
           },
           {
            "bin_start": 0.7000000000000001,
            "bin_end": 0.8,
            "count": 0
           },
           {
            "bin_start": 0.8,
            "bin_end": 0.9,
            "count": 0
           },
           {
            "bin_start": 0.9,
            "bin_end": 1,
            "count": 0
           }
          ]
         }
        },
        {
         "name": "life_expectancy",
         "dtype": "float64",
         "stats": {
          "unique_count": 1,
          "nan_count": 0,
          "min": "64.83",
          "max": "64.83",
          "histogram": [
           {
            "bin_start": 64.33,
            "bin_end": 64.42999999999999,
            "count": 0
           },
           {
            "bin_start": 64.42999999999999,
            "bin_end": 64.53,
            "count": 0
           },
           {
            "bin_start": 64.53,
            "bin_end": 64.63,
            "count": 0
           },
           {
            "bin_start": 64.63,
            "bin_end": 64.73,
            "count": 0
           },
           {
            "bin_start": 64.73,
            "bin_end": 64.83,
            "count": 0
           },
           {
            "bin_start": 64.83,
            "bin_end": 64.92999999999999,
            "count": 5
           },
           {
            "bin_start": 64.92999999999999,
            "bin_end": 65.03,
            "count": 0
           },
           {
            "bin_start": 65.03,
            "bin_end": 65.13,
            "count": 0
           },
           {
            "bin_start": 65.13,
            "bin_end": 65.23,
            "count": 0
           },
           {
            "bin_start": 65.23,
            "bin_end": 65.33,
            "count": 0
           }
          ]
         }
        },
        {
         "name": "human_development_index",
         "dtype": "float64",
         "stats": {
          "unique_count": 1,
          "nan_count": 0,
          "min": "0.511",
          "max": "0.511",
          "histogram": [
           {
            "bin_start": 0.01100000000000001,
            "bin_end": 0.11100000000000002,
            "count": 0
           },
           {
            "bin_start": 0.11100000000000002,
            "bin_end": 0.21100000000000002,
            "count": 0
           },
           {
            "bin_start": 0.21100000000000002,
            "bin_end": 0.31100000000000005,
            "count": 0
           },
           {
            "bin_start": 0.31100000000000005,
            "bin_end": 0.41100000000000003,
            "count": 0
           },
           {
            "bin_start": 0.41100000000000003,
            "bin_end": 0.511,
            "count": 0
           },
           {
            "bin_start": 0.511,
            "bin_end": 0.6110000000000001,
            "count": 5
           },
           {
            "bin_start": 0.6110000000000001,
            "bin_end": 0.7110000000000001,
            "count": 0
           },
           {
            "bin_start": 0.7110000000000001,
            "bin_end": 0.811,
            "count": 0
           },
           {
            "bin_start": 0.811,
            "bin_end": 0.911,
            "count": 0
           },
           {
            "bin_start": 0.911,
            "bin_end": 1.0110000000000001,
            "count": 0
           }
          ]
         }
        },
        {
         "name": "excess_mortality_cumulative_absolute",
         "dtype": "float64",
         "stats": {
          "unique_count": 0,
          "nan_count": 5,
          "min": null,
          "max": null,
          "histogram": [
           {
            "bin_start": 0,
            "bin_end": 0.1,
            "count": 0
           },
           {
            "bin_start": 0.1,
            "bin_end": 0.2,
            "count": 0
           },
           {
            "bin_start": 0.2,
            "bin_end": 0.30000000000000004,
            "count": 0
           },
           {
            "bin_start": 0.30000000000000004,
            "bin_end": 0.4,
            "count": 0
           },
           {
            "bin_start": 0.4,
            "bin_end": 0.5,
            "count": 0
           },
           {
            "bin_start": 0.5,
            "bin_end": 0.6000000000000001,
            "count": 0
           },
           {
            "bin_start": 0.6000000000000001,
            "bin_end": 0.7000000000000001,
            "count": 0
           },
           {
            "bin_start": 0.7000000000000001,
            "bin_end": 0.8,
            "count": 0
           },
           {
            "bin_start": 0.8,
            "bin_end": 0.9,
            "count": 0
           },
           {
            "bin_start": 0.9,
            "bin_end": 1,
            "count": 0
           }
          ]
         }
        },
        {
         "name": "excess_mortality_cumulative",
         "dtype": "float64",
         "stats": {
          "unique_count": 0,
          "nan_count": 5,
          "min": null,
          "max": null,
          "histogram": [
           {
            "bin_start": 0,
            "bin_end": 0.1,
            "count": 0
           },
           {
            "bin_start": 0.1,
            "bin_end": 0.2,
            "count": 0
           },
           {
            "bin_start": 0.2,
            "bin_end": 0.30000000000000004,
            "count": 0
           },
           {
            "bin_start": 0.30000000000000004,
            "bin_end": 0.4,
            "count": 0
           },
           {
            "bin_start": 0.4,
            "bin_end": 0.5,
            "count": 0
           },
           {
            "bin_start": 0.5,
            "bin_end": 0.6000000000000001,
            "count": 0
           },
           {
            "bin_start": 0.6000000000000001,
            "bin_end": 0.7000000000000001,
            "count": 0
           },
           {
            "bin_start": 0.7000000000000001,
            "bin_end": 0.8,
            "count": 0
           },
           {
            "bin_start": 0.8,
            "bin_end": 0.9,
            "count": 0
           },
           {
            "bin_start": 0.9,
            "bin_end": 1,
            "count": 0
           }
          ]
         }
        },
        {
         "name": "excess_mortality",
         "dtype": "float64",
         "stats": {
          "unique_count": 0,
          "nan_count": 5,
          "min": null,
          "max": null,
          "histogram": [
           {
            "bin_start": 0,
            "bin_end": 0.1,
            "count": 0
           },
           {
            "bin_start": 0.1,
            "bin_end": 0.2,
            "count": 0
           },
           {
            "bin_start": 0.2,
            "bin_end": 0.30000000000000004,
            "count": 0
           },
           {
            "bin_start": 0.30000000000000004,
            "bin_end": 0.4,
            "count": 0
           },
           {
            "bin_start": 0.4,
            "bin_end": 0.5,
            "count": 0
           },
           {
            "bin_start": 0.5,
            "bin_end": 0.6000000000000001,
            "count": 0
           },
           {
            "bin_start": 0.6000000000000001,
            "bin_end": 0.7000000000000001,
            "count": 0
           },
           {
            "bin_start": 0.7000000000000001,
            "bin_end": 0.8,
            "count": 0
           },
           {
            "bin_start": 0.8,
            "bin_end": 0.9,
            "count": 0
           },
           {
            "bin_start": 0.9,
            "bin_end": 1,
            "count": 0
           }
          ]
         }
        },
        {
         "name": "excess_mortality_cumulative_per_million",
         "dtype": "float64",
         "stats": {
          "unique_count": 0,
          "nan_count": 5,
          "min": null,
          "max": null,
          "histogram": [
           {
            "bin_start": 0,
            "bin_end": 0.1,
            "count": 0
           },
           {
            "bin_start": 0.1,
            "bin_end": 0.2,
            "count": 0
           },
           {
            "bin_start": 0.2,
            "bin_end": 0.30000000000000004,
            "count": 0
           },
           {
            "bin_start": 0.30000000000000004,
            "bin_end": 0.4,
            "count": 0
           },
           {
            "bin_start": 0.4,
            "bin_end": 0.5,
            "count": 0
           },
           {
            "bin_start": 0.5,
            "bin_end": 0.6000000000000001,
            "count": 0
           },
           {
            "bin_start": 0.6000000000000001,
            "bin_end": 0.7000000000000001,
            "count": 0
           },
           {
            "bin_start": 0.7000000000000001,
            "bin_end": 0.8,
            "count": 0
           },
           {
            "bin_start": 0.8,
            "bin_end": 0.9,
            "count": 0
           },
           {
            "bin_start": 0.9,
            "bin_end": 1,
            "count": 0
           }
          ]
         }
        },
        {
         "name": "_deepnote_index_column",
         "dtype": "int64"
        }
       ],
       "rows": [
        {
         "iso_code": "AFG",
         "continent": "Asia",
         "location": "Afghanistan",
         "date": "2020-02-24",
         "total_cases": 5,
         "new_cases": 5,
         "new_cases_smoothed": "nan",
         "total_deaths": "nan",
         "new_deaths": "nan",
         "new_deaths_smoothed": "nan",
         "total_cases_per_million": 0.126,
         "new_cases_per_million": 0.126,
         "new_cases_smoothed_per_million": "nan",
         "total_deaths_per_million": "nan",
         "new_deaths_per_million": "nan",
         "new_deaths_smoothed_per_million": "nan",
         "reproduction_rate": "nan",
         "icu_patients": "nan",
         "icu_patients_per_million": "nan",
         "hosp_patients": "nan",
         "hosp_patients_per_million": "nan",
         "weekly_icu_admissions": "nan",
         "weekly_icu_admissions_per_million": "nan",
         "weekly_hosp_admissions": "nan",
         "weekly_hosp_admissions_per_million": "nan",
         "new_tests": "nan",
         "total_tests": "nan",
         "total_tests_per_thousand": "nan",
         "new_tests_per_thousand": "nan",
         "new_tests_smoothed": "nan",
         "new_tests_smoothed_per_thousand": "nan",
         "positive_rate": "nan",
         "tests_per_case": "nan",
         "tests_units": "nan",
         "total_vaccinations": "nan",
         "people_vaccinated": "nan",
         "people_fully_vaccinated": "nan",
         "total_boosters": "nan",
         "new_vaccinations": "nan",
         "new_vaccinations_smoothed": "nan",
         "total_vaccinations_per_hundred": "nan",
         "people_vaccinated_per_hundred": "nan",
         "people_fully_vaccinated_per_hundred": "nan",
         "total_boosters_per_hundred": "nan",
         "new_vaccinations_smoothed_per_million": "nan",
         "new_people_vaccinated_smoothed": "nan",
         "new_people_vaccinated_smoothed_per_hundred": "nan",
         "stringency_index": 8.33,
         "population": 39835428,
         "population_density": 54.422,
         "median_age": 18.6,
         "aged_65_older": 2.581,
         "aged_70_older": 1.337,
         "gdp_per_capita": 1803.987,
         "extreme_poverty": "nan",
         "cardiovasc_death_rate": 597.029,
         "diabetes_prevalence": 9.59,
         "female_smokers": "nan",
         "male_smokers": "nan",
         "handwashing_facilities": 37.746,
         "hospital_beds_per_thousand": 0.5,
         "life_expectancy": 64.83,
         "human_development_index": 0.511,
         "excess_mortality_cumulative_absolute": "nan",
         "excess_mortality_cumulative": "nan",
         "excess_mortality": "nan",
         "excess_mortality_cumulative_per_million": "nan",
         "_deepnote_index_column": 0
        },
        {
         "iso_code": "AFG",
         "continent": "Asia",
         "location": "Afghanistan",
         "date": "2020-02-25",
         "total_cases": 5,
         "new_cases": 0,
         "new_cases_smoothed": "nan",
         "total_deaths": "nan",
         "new_deaths": "nan",
         "new_deaths_smoothed": "nan",
         "total_cases_per_million": 0.126,
         "new_cases_per_million": 0,
         "new_cases_smoothed_per_million": "nan",
         "total_deaths_per_million": "nan",
         "new_deaths_per_million": "nan",
         "new_deaths_smoothed_per_million": "nan",
         "reproduction_rate": "nan",
         "icu_patients": "nan",
         "icu_patients_per_million": "nan",
         "hosp_patients": "nan",
         "hosp_patients_per_million": "nan",
         "weekly_icu_admissions": "nan",
         "weekly_icu_admissions_per_million": "nan",
         "weekly_hosp_admissions": "nan",
         "weekly_hosp_admissions_per_million": "nan",
         "new_tests": "nan",
         "total_tests": "nan",
         "total_tests_per_thousand": "nan",
         "new_tests_per_thousand": "nan",
         "new_tests_smoothed": "nan",
         "new_tests_smoothed_per_thousand": "nan",
         "positive_rate": "nan",
         "tests_per_case": "nan",
         "tests_units": "nan",
         "total_vaccinations": "nan",
         "people_vaccinated": "nan",
         "people_fully_vaccinated": "nan",
         "total_boosters": "nan",
         "new_vaccinations": "nan",
         "new_vaccinations_smoothed": "nan",
         "total_vaccinations_per_hundred": "nan",
         "people_vaccinated_per_hundred": "nan",
         "people_fully_vaccinated_per_hundred": "nan",
         "total_boosters_per_hundred": "nan",
         "new_vaccinations_smoothed_per_million": "nan",
         "new_people_vaccinated_smoothed": "nan",
         "new_people_vaccinated_smoothed_per_hundred": "nan",
         "stringency_index": 8.33,
         "population": 39835428,
         "population_density": 54.422,
         "median_age": 18.6,
         "aged_65_older": 2.581,
         "aged_70_older": 1.337,
         "gdp_per_capita": 1803.987,
         "extreme_poverty": "nan",
         "cardiovasc_death_rate": 597.029,
         "diabetes_prevalence": 9.59,
         "female_smokers": "nan",
         "male_smokers": "nan",
         "handwashing_facilities": 37.746,
         "hospital_beds_per_thousand": 0.5,
         "life_expectancy": 64.83,
         "human_development_index": 0.511,
         "excess_mortality_cumulative_absolute": "nan",
         "excess_mortality_cumulative": "nan",
         "excess_mortality": "nan",
         "excess_mortality_cumulative_per_million": "nan",
         "_deepnote_index_column": 1
        },
        {
         "iso_code": "AFG",
         "continent": "Asia",
         "location": "Afghanistan",
         "date": "2020-02-26",
         "total_cases": 5,
         "new_cases": 0,
         "new_cases_smoothed": "nan",
         "total_deaths": "nan",
         "new_deaths": "nan",
         "new_deaths_smoothed": "nan",
         "total_cases_per_million": 0.126,
         "new_cases_per_million": 0,
         "new_cases_smoothed_per_million": "nan",
         "total_deaths_per_million": "nan",
         "new_deaths_per_million": "nan",
         "new_deaths_smoothed_per_million": "nan",
         "reproduction_rate": "nan",
         "icu_patients": "nan",
         "icu_patients_per_million": "nan",
         "hosp_patients": "nan",
         "hosp_patients_per_million": "nan",
         "weekly_icu_admissions": "nan",
         "weekly_icu_admissions_per_million": "nan",
         "weekly_hosp_admissions": "nan",
         "weekly_hosp_admissions_per_million": "nan",
         "new_tests": "nan",
         "total_tests": "nan",
         "total_tests_per_thousand": "nan",
         "new_tests_per_thousand": "nan",
         "new_tests_smoothed": "nan",
         "new_tests_smoothed_per_thousand": "nan",
         "positive_rate": "nan",
         "tests_per_case": "nan",
         "tests_units": "nan",
         "total_vaccinations": "nan",
         "people_vaccinated": "nan",
         "people_fully_vaccinated": "nan",
         "total_boosters": "nan",
         "new_vaccinations": "nan",
         "new_vaccinations_smoothed": "nan",
         "total_vaccinations_per_hundred": "nan",
         "people_vaccinated_per_hundred": "nan",
         "people_fully_vaccinated_per_hundred": "nan",
         "total_boosters_per_hundred": "nan",
         "new_vaccinations_smoothed_per_million": "nan",
         "new_people_vaccinated_smoothed": "nan",
         "new_people_vaccinated_smoothed_per_hundred": "nan",
         "stringency_index": 8.33,
         "population": 39835428,
         "population_density": 54.422,
         "median_age": 18.6,
         "aged_65_older": 2.581,
         "aged_70_older": 1.337,
         "gdp_per_capita": 1803.987,
         "extreme_poverty": "nan",
         "cardiovasc_death_rate": 597.029,
         "diabetes_prevalence": 9.59,
         "female_smokers": "nan",
         "male_smokers": "nan",
         "handwashing_facilities": 37.746,
         "hospital_beds_per_thousand": 0.5,
         "life_expectancy": 64.83,
         "human_development_index": 0.511,
         "excess_mortality_cumulative_absolute": "nan",
         "excess_mortality_cumulative": "nan",
         "excess_mortality": "nan",
         "excess_mortality_cumulative_per_million": "nan",
         "_deepnote_index_column": 2
        },
        {
         "iso_code": "AFG",
         "continent": "Asia",
         "location": "Afghanistan",
         "date": "2020-02-27",
         "total_cases": 5,
         "new_cases": 0,
         "new_cases_smoothed": "nan",
         "total_deaths": "nan",
         "new_deaths": "nan",
         "new_deaths_smoothed": "nan",
         "total_cases_per_million": 0.126,
         "new_cases_per_million": 0,
         "new_cases_smoothed_per_million": "nan",
         "total_deaths_per_million": "nan",
         "new_deaths_per_million": "nan",
         "new_deaths_smoothed_per_million": "nan",
         "reproduction_rate": "nan",
         "icu_patients": "nan",
         "icu_patients_per_million": "nan",
         "hosp_patients": "nan",
         "hosp_patients_per_million": "nan",
         "weekly_icu_admissions": "nan",
         "weekly_icu_admissions_per_million": "nan",
         "weekly_hosp_admissions": "nan",
         "weekly_hosp_admissions_per_million": "nan",
         "new_tests": "nan",
         "total_tests": "nan",
         "total_tests_per_thousand": "nan",
         "new_tests_per_thousand": "nan",
         "new_tests_smoothed": "nan",
         "new_tests_smoothed_per_thousand": "nan",
         "positive_rate": "nan",
         "tests_per_case": "nan",
         "tests_units": "nan",
         "total_vaccinations": "nan",
         "people_vaccinated": "nan",
         "people_fully_vaccinated": "nan",
         "total_boosters": "nan",
         "new_vaccinations": "nan",
         "new_vaccinations_smoothed": "nan",
         "total_vaccinations_per_hundred": "nan",
         "people_vaccinated_per_hundred": "nan",
         "people_fully_vaccinated_per_hundred": "nan",
         "total_boosters_per_hundred": "nan",
         "new_vaccinations_smoothed_per_million": "nan",
         "new_people_vaccinated_smoothed": "nan",
         "new_people_vaccinated_smoothed_per_hundred": "nan",
         "stringency_index": 8.33,
         "population": 39835428,
         "population_density": 54.422,
         "median_age": 18.6,
         "aged_65_older": 2.581,
         "aged_70_older": 1.337,
         "gdp_per_capita": 1803.987,
         "extreme_poverty": "nan",
         "cardiovasc_death_rate": 597.029,
         "diabetes_prevalence": 9.59,
         "female_smokers": "nan",
         "male_smokers": "nan",
         "handwashing_facilities": 37.746,
         "hospital_beds_per_thousand": 0.5,
         "life_expectancy": 64.83,
         "human_development_index": 0.511,
         "excess_mortality_cumulative_absolute": "nan",
         "excess_mortality_cumulative": "nan",
         "excess_mortality": "nan",
         "excess_mortality_cumulative_per_million": "nan",
         "_deepnote_index_column": 3
        },
        {
         "iso_code": "AFG",
         "continent": "Asia",
         "location": "Afghanistan",
         "date": "2020-02-28",
         "total_cases": 5,
         "new_cases": 0,
         "new_cases_smoothed": "nan",
         "total_deaths": "nan",
         "new_deaths": "nan",
         "new_deaths_smoothed": "nan",
         "total_cases_per_million": 0.126,
         "new_cases_per_million": 0,
         "new_cases_smoothed_per_million": "nan",
         "total_deaths_per_million": "nan",
         "new_deaths_per_million": "nan",
         "new_deaths_smoothed_per_million": "nan",
         "reproduction_rate": "nan",
         "icu_patients": "nan",
         "icu_patients_per_million": "nan",
         "hosp_patients": "nan",
         "hosp_patients_per_million": "nan",
         "weekly_icu_admissions": "nan",
         "weekly_icu_admissions_per_million": "nan",
         "weekly_hosp_admissions": "nan",
         "weekly_hosp_admissions_per_million": "nan",
         "new_tests": "nan",
         "total_tests": "nan",
         "total_tests_per_thousand": "nan",
         "new_tests_per_thousand": "nan",
         "new_tests_smoothed": "nan",
         "new_tests_smoothed_per_thousand": "nan",
         "positive_rate": "nan",
         "tests_per_case": "nan",
         "tests_units": "nan",
         "total_vaccinations": "nan",
         "people_vaccinated": "nan",
         "people_fully_vaccinated": "nan",
         "total_boosters": "nan",
         "new_vaccinations": "nan",
         "new_vaccinations_smoothed": "nan",
         "total_vaccinations_per_hundred": "nan",
         "people_vaccinated_per_hundred": "nan",
         "people_fully_vaccinated_per_hundred": "nan",
         "total_boosters_per_hundred": "nan",
         "new_vaccinations_smoothed_per_million": "nan",
         "new_people_vaccinated_smoothed": "nan",
         "new_people_vaccinated_smoothed_per_hundred": "nan",
         "stringency_index": 8.33,
         "population": 39835428,
         "population_density": 54.422,
         "median_age": 18.6,
         "aged_65_older": 2.581,
         "aged_70_older": 1.337,
         "gdp_per_capita": 1803.987,
         "extreme_poverty": "nan",
         "cardiovasc_death_rate": 597.029,
         "diabetes_prevalence": 9.59,
         "female_smokers": "nan",
         "male_smokers": "nan",
         "handwashing_facilities": 37.746,
         "hospital_beds_per_thousand": 0.5,
         "life_expectancy": 64.83,
         "human_development_index": 0.511,
         "excess_mortality_cumulative_absolute": "nan",
         "excess_mortality_cumulative": "nan",
         "excess_mortality": "nan",
         "excess_mortality_cumulative_per_million": "nan",
         "_deepnote_index_column": 4
        }
       ]
      },
      "text/plain": "  iso_code continent     location        date  total_cases  new_cases  \\\n0      AFG      Asia  Afghanistan  2020-02-24          5.0        5.0   \n1      AFG      Asia  Afghanistan  2020-02-25          5.0        0.0   \n2      AFG      Asia  Afghanistan  2020-02-26          5.0        0.0   \n3      AFG      Asia  Afghanistan  2020-02-27          5.0        0.0   \n4      AFG      Asia  Afghanistan  2020-02-28          5.0        0.0   \n\n   new_cases_smoothed  total_deaths  new_deaths  new_deaths_smoothed  ...  \\\n0                 NaN           NaN         NaN                  NaN  ...   \n1                 NaN           NaN         NaN                  NaN  ...   \n2                 NaN           NaN         NaN                  NaN  ...   \n3                 NaN           NaN         NaN                  NaN  ...   \n4                 NaN           NaN         NaN                  NaN  ...   \n\n   female_smokers  male_smokers  handwashing_facilities  \\\n0             NaN           NaN                  37.746   \n1             NaN           NaN                  37.746   \n2             NaN           NaN                  37.746   \n3             NaN           NaN                  37.746   \n4             NaN           NaN                  37.746   \n\n   hospital_beds_per_thousand  life_expectancy  human_development_index  \\\n0                         0.5            64.83                    0.511   \n1                         0.5            64.83                    0.511   \n2                         0.5            64.83                    0.511   \n3                         0.5            64.83                    0.511   \n4                         0.5            64.83                    0.511   \n\n   excess_mortality_cumulative_absolute  excess_mortality_cumulative  \\\n0                                   NaN                          NaN   \n1                                   NaN                          NaN   \n2                                   NaN                          NaN   \n3                                   NaN                          NaN   \n4                                   NaN                          NaN   \n\n   excess_mortality  excess_mortality_cumulative_per_million  \n0               NaN                                      NaN  \n1               NaN                                      NaN  \n2               NaN                                      NaN  \n3               NaN                                      NaN  \n4               NaN                                      NaN  \n\n[5 rows x 67 columns]",
      "text/html": "<div>\n<style scoped>\n    .dataframe tbody tr th:only-of-type {\n        vertical-align: middle;\n    }\n\n    .dataframe tbody tr th {\n        vertical-align: top;\n    }\n\n    .dataframe thead th {\n        text-align: right;\n    }\n</style>\n<table border=\"1\" class=\"dataframe\">\n  <thead>\n    <tr style=\"text-align: right;\">\n      <th></th>\n      <th>iso_code</th>\n      <th>continent</th>\n      <th>location</th>\n      <th>date</th>\n      <th>total_cases</th>\n      <th>new_cases</th>\n      <th>new_cases_smoothed</th>\n      <th>total_deaths</th>\n      <th>new_deaths</th>\n      <th>new_deaths_smoothed</th>\n      <th>...</th>\n      <th>female_smokers</th>\n      <th>male_smokers</th>\n      <th>handwashing_facilities</th>\n      <th>hospital_beds_per_thousand</th>\n      <th>life_expectancy</th>\n      <th>human_development_index</th>\n      <th>excess_mortality_cumulative_absolute</th>\n      <th>excess_mortality_cumulative</th>\n      <th>excess_mortality</th>\n      <th>excess_mortality_cumulative_per_million</th>\n    </tr>\n  </thead>\n  <tbody>\n    <tr>\n      <th>0</th>\n      <td>AFG</td>\n      <td>Asia</td>\n      <td>Afghanistan</td>\n      <td>2020-02-24</td>\n      <td>5.0</td>\n      <td>5.0</td>\n      <td>NaN</td>\n      <td>NaN</td>\n      <td>NaN</td>\n      <td>NaN</td>\n      <td>...</td>\n      <td>NaN</td>\n      <td>NaN</td>\n      <td>37.746</td>\n      <td>0.5</td>\n      <td>64.83</td>\n      <td>0.511</td>\n      <td>NaN</td>\n      <td>NaN</td>\n      <td>NaN</td>\n      <td>NaN</td>\n    </tr>\n    <tr>\n      <th>1</th>\n      <td>AFG</td>\n      <td>Asia</td>\n      <td>Afghanistan</td>\n      <td>2020-02-25</td>\n      <td>5.0</td>\n      <td>0.0</td>\n      <td>NaN</td>\n      <td>NaN</td>\n      <td>NaN</td>\n      <td>NaN</td>\n      <td>...</td>\n      <td>NaN</td>\n      <td>NaN</td>\n      <td>37.746</td>\n      <td>0.5</td>\n      <td>64.83</td>\n      <td>0.511</td>\n      <td>NaN</td>\n      <td>NaN</td>\n      <td>NaN</td>\n      <td>NaN</td>\n    </tr>\n    <tr>\n      <th>2</th>\n      <td>AFG</td>\n      <td>Asia</td>\n      <td>Afghanistan</td>\n      <td>2020-02-26</td>\n      <td>5.0</td>\n      <td>0.0</td>\n      <td>NaN</td>\n      <td>NaN</td>\n      <td>NaN</td>\n      <td>NaN</td>\n      <td>...</td>\n      <td>NaN</td>\n      <td>NaN</td>\n      <td>37.746</td>\n      <td>0.5</td>\n      <td>64.83</td>\n      <td>0.511</td>\n      <td>NaN</td>\n      <td>NaN</td>\n      <td>NaN</td>\n      <td>NaN</td>\n    </tr>\n    <tr>\n      <th>3</th>\n      <td>AFG</td>\n      <td>Asia</td>\n      <td>Afghanistan</td>\n      <td>2020-02-27</td>\n      <td>5.0</td>\n      <td>0.0</td>\n      <td>NaN</td>\n      <td>NaN</td>\n      <td>NaN</td>\n      <td>NaN</td>\n      <td>...</td>\n      <td>NaN</td>\n      <td>NaN</td>\n      <td>37.746</td>\n      <td>0.5</td>\n      <td>64.83</td>\n      <td>0.511</td>\n      <td>NaN</td>\n      <td>NaN</td>\n      <td>NaN</td>\n      <td>NaN</td>\n    </tr>\n    <tr>\n      <th>4</th>\n      <td>AFG</td>\n      <td>Asia</td>\n      <td>Afghanistan</td>\n      <td>2020-02-28</td>\n      <td>5.0</td>\n      <td>0.0</td>\n      <td>NaN</td>\n      <td>NaN</td>\n      <td>NaN</td>\n      <td>NaN</td>\n      <td>...</td>\n      <td>NaN</td>\n      <td>NaN</td>\n      <td>37.746</td>\n      <td>0.5</td>\n      <td>64.83</td>\n      <td>0.511</td>\n      <td>NaN</td>\n      <td>NaN</td>\n      <td>NaN</td>\n      <td>NaN</td>\n    </tr>\n  </tbody>\n</table>\n<p>5 rows × 67 columns</p>\n</div>"
     },
     "metadata": {}
    }
   ]
  },
  {
   "cell_type": "markdown",
   "source": "#### Extracting a subset of data",
   "metadata": {
    "cell_id": "00006-a2fc2447-1e3f-4a59-8504-9c64c6fa3e88",
    "deepnote_cell_type": "markdown"
   }
  },
  {
   "cell_type": "code",
   "metadata": {
    "scrolled": true,
    "cell_id": "00007-89b4e195-613f-47c3-bb47-998ddf6efaf2",
    "deepnote_to_be_reexecuted": false,
    "source_hash": "be206e2c",
    "execution_start": 1646224863540,
    "execution_millis": 30,
    "deepnote_cell_type": "code"
   },
   "source": "# Selecting a subset of data corresponding to the location Uruguay\nuy = df[df[\"location\"] == \"Uruguay\"]\n# How many rows has the new dataframe?\nprint('dataframe has: {} rows'.format(uy.shape[0]))",
   "execution_count": 29,
   "outputs": [
    {
     "name": "stdout",
     "text": "dataframe has: 719 rows\n",
     "output_type": "stream"
    }
   ]
  },
  {
   "cell_type": "code",
   "metadata": {
    "cell_id": "42c24185-f5e6-41af-a79f-20342985209f",
    "tags": [],
    "deepnote_to_be_reexecuted": false,
    "source_hash": "d8b0fb8d",
    "execution_start": 1646224866234,
    "execution_millis": 17,
    "deepnote_cell_type": "code"
   },
   "source": "# Selecting a subset of data corresponding to the location Uruguay\nuy_to_date = uy[uy[\"date\"] > startDay]",
   "execution_count": 30,
   "outputs": []
  },
  {
   "cell_type": "code",
   "metadata": {
    "cell_id": "b66d72cd-8461-47ac-8050-634f8b5527cc",
    "tags": [],
    "deepnote_to_be_reexecuted": false,
    "source_hash": "4d84eaf4",
    "execution_start": 1646224874473,
    "execution_millis": 2286,
    "deepnote_cell_type": "code"
   },
   "source": "#Sending the subset of data to my drive as a .csv file\nuy_to_date.to_excel(f'/datasets/my-drive/data/covid_data_{startDay}_{endDay}',engine='xlsxwriter',index=False)",
   "execution_count": 31,
   "outputs": []
  },
  {
   "cell_type": "markdown",
   "source": "<a style='text-decoration:none;line-height:16px;display:flex;color:#5B5B62;padding:10px;justify-content:end;' href='https://deepnote.com?utm_source=created-in-deepnote-cell&projectId=6adb34ba-5f10-47b2-bfea-90a3ef6fa602' target=\"_blank\">\n<img alt='Created in deepnote.com' style='display:inline;max-height:16px;margin:0px;margin-right:7.5px;' src='data:image/svg+xml;base64,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' > </img>\nCreated in <span style='font-weight:600;margin-left:4px;'>Deepnote</span></a>",
   "metadata": {
    "tags": [],
    "created_in_deepnote_cell": true,
    "deepnote_cell_type": "markdown"
   }
  }
 ],
 "nbformat": 4,
 "nbformat_minor": 5,
 "metadata": {
  "kernelspec": {
   "display_name": "Python 3",
   "language": "python",
   "name": "python3"
  },
  "language_info": {
   "codemirror_mode": {
    "name": "ipython",
    "version": 3
   },
   "file_extension": ".py",
   "mimetype": "text/x-python",
   "name": "python",
   "nbconvert_exporter": "python",
   "pygments_lexer": "ipython3",
   "version": "3.8.8"
  },
  "deepnote_notebook_id": "22d9f17a-e6c5-4b10-b4e1-d02f50759d4f",
  "deepnote": {},
  "deepnote_execution_queue": []
 }
}