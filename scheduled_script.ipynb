{
 "cells": [
  {
   "cell_type": "markdown",
   "source": "The data for this notebook comes from the [Our World In Data](https://github.com/owid/covid-19-data) GitHub repository, which is updated daily.",
   "metadata": {
    "cell_id": "00001-6c8d424e-31c8-41e5-8113-955de75590d7",
    "deepnote_cell_type": "markdown"
   }
  },
  {
   "cell_type": "markdown",
   "source": "#### Importing necessary packages",
   "metadata": {
    "cell_id": "00002-6569251b-6bdd-49b0-ae3e-2dc62e555160",
    "deepnote_cell_type": "markdown"
   }
  },
  {
   "cell_type": "code",
   "metadata": {
    "cell_id": "00003-9025a3bf-77a0-4e91-ad7f-c6c4ac9a31e5",
    "deepnote_to_be_reexecuted": false,
    "source_hash": "413d76d9",
    "execution_start": 1646050787599,
    "execution_millis": 2432,
    "deepnote_cell_type": "code"
   },
   "source": "import pandas as pd\nimport calendar\nimport datetime as dt\nimport seaborn as sns\nimport matplotlib.pyplot as plt",
   "execution_count": 2,
   "outputs": []
  },
  {
   "cell_type": "code",
   "metadata": {
    "cell_id": "00005-53b4972f-d976-47ab-aa9d-4edf93a708bf",
    "deepnote_to_be_reexecuted": false,
    "source_hash": "b32d4837",
    "execution_start": 1646050792797,
    "execution_millis": 1064,
    "deepnote_cell_type": "code"
   },
   "source": "# Reading data and storing in pandas dataframe\ndf = pd.read_csv('https://raw.githubusercontent.com/owid/covid-19-data/master/public/data/owid-covid-data.csv')\nprint('dataframe has: {} rows'.format(df.shape[0]))",
   "execution_count": 3,
   "outputs": [
    {
     "name": "stdout",
     "text": "dataframe has: 164945 rows\n",
     "output_type": "stream"
    }
   ]
  },
  {
   "cell_type": "code",
   "metadata": {
    "cell_id": "7608502e-5d47-48b4-b13c-475aa4bc744c",
    "tags": [],
    "deepnote_to_be_reexecuted": false,
    "source_hash": "a9ebc67c",
    "execution_start": 1646050796321,
    "execution_millis": 1,
    "deepnote_cell_type": "code"
   },
   "source": "#setting up dates\ntoday = dt.datetime.now()\nfirst_month_day = today.replace(day = 1)\ndt_curryear = today.strftime(\"%Y\")\ndt_currmonth = today.strftime(\"%m\")\ndt_day = today.strftime(\"%d\")\nstartDay = first_month_day.strftime('%Y-%m-%d')\nendDay = today.strftime('%Y-%m-%d')",
   "execution_count": 4,
   "outputs": []
  },
  {
   "cell_type": "code",
   "metadata": {
    "cell_id": "d6712e97-6797-4bcc-bb9d-6e410f5e46e6",
    "tags": [],
    "deepnote_to_be_reexecuted": false,
    "source_hash": "245876d0",
    "execution_start": 1646050800549,
    "execution_millis": 144,
    "deepnote_cell_type": "code"
   },
   "source": "df.head(5)",
   "execution_count": 5,
   "outputs": [
    {
     "output_type": "execute_result",
     "execution_count": 5,
     "data": {
      "application/vnd.deepnote.dataframe.v3+json": {
       "column_count": 67,
       "row_count": 5,
       "columns": [
        {
         "name": "iso_code",
         "dtype": "object",
         "stats": {
          "unique_count": 1,
          "nan_count": 0,
          "categories": [
           {
            "name": "AFG",
            "count": 5
           }
          ]
         }
        },
        {
         "name": "continent",
         "dtype": "object",
         "stats": {
          "unique_count": 1,
          "nan_count": 0,
          "categories": [
           {
            "name": "Asia",
            "count": 5
           }
          ]
         }
        },
        {
         "name": "location",
         "dtype": "object",
         "stats": {
          "unique_count": 1,
          "nan_count": 0,
          "categories": [
           {
            "name": "Afghanistan",
            "count": 5
           }
          ]
         }
        },
        {
         "name": "date",
         "dtype": "object",
         "stats": {
          "unique_count": 5,
          "nan_count": 0,
          "categories": [
           {
            "name": "2020-02-24",
            "count": 1
           },
           {
            "name": "2020-02-25",
            "count": 1
           },
           {
            "name": "3 others",
            "count": 3
           }
          ]
         }
        },
        {
         "name": "total_cases",
         "dtype": "float64",
         "stats": {
          "unique_count": 1,
          "nan_count": 0,
          "min": "5.0",
          "max": "5.0",
          "histogram": [
           {
            "bin_start": 4.5,
            "bin_end": 4.6,
            "count": 0
           },
           {
            "bin_start": 4.6,
            "bin_end": 4.7,
            "count": 0
           },
           {
            "bin_start": 4.7,
            "bin_end": 4.8,
            "count": 0
           },
           {
            "bin_start": 4.8,
            "bin_end": 4.9,
            "count": 0
           },
           {
            "bin_start": 4.9,
            "bin_end": 5,
            "count": 0
           },
           {
            "bin_start": 5,
            "bin_end": 5.1,
            "count": 5
           },
           {
            "bin_start": 5.1,
            "bin_end": 5.2,
            "count": 0
           },
           {
            "bin_start": 5.2,
            "bin_end": 5.3,
            "count": 0
           },
           {
            "bin_start": 5.3,
            "bin_end": 5.4,
            "count": 0
           },
           {
            "bin_start": 5.4,
            "bin_end": 5.5,
            "count": 0
           }
          ]
         }
        },
        {
         "name": "new_cases",
         "dtype": "float64",
         "stats": {
          "unique_count": 2,
          "nan_count": 0,
          "min": "0.0",
          "max": "5.0",
          "histogram": [
           {
            "bin_start": 0,
            "bin_end": 0.5,
            "count": 4
           },
           {
            "bin_start": 0.5,
            "bin_end": 1,
            "count": 0
           },
           {
            "bin_start": 1,
            "bin_end": 1.5,
            "count": 0
           },
           {
            "bin_start": 1.5,
            "bin_end": 2,
            "count": 0
           },
           {
            "bin_start": 2,
            "bin_end": 2.5,
            "count": 0
           },
           {
            "bin_start": 2.5,
            "bin_end": 3,
            "count": 0
           },
           {
            "bin_start": 3,
            "bin_end": 3.5,
            "count": 0
           },
           {
            "bin_start": 3.5,
            "bin_end": 4,
            "count": 0
           },
           {
            "bin_start": 4,
            "bin_end": 4.5,
            "count": 0
           },
           {
            "bin_start": 4.5,
            "bin_end": 5,
            "count": 1
           }
          ]
         }
        },
        {
         "name": "new_cases_smoothed",
         "dtype": "float64",
         "stats": {
          "unique_count": 0,
          "nan_count": 5,
          "min": null,
          "max": null,
          "histogram": [
           {
            "bin_start": 0,
            "bin_end": 0.1,
            "count": 0
           },
           {
            "bin_start": 0.1,
            "bin_end": 0.2,
            "count": 0
           },
           {
            "bin_start": 0.2,
            "bin_end": 0.30000000000000004,
            "count": 0
           },
           {
            "bin_start": 0.30000000000000004,
            "bin_end": 0.4,
            "count": 0
           },
           {
            "bin_start": 0.4,
            "bin_end": 0.5,
            "count": 0
           },
           {
            "bin_start": 0.5,
            "bin_end": 0.6000000000000001,
            "count": 0
           },
           {
            "bin_start": 0.6000000000000001,
            "bin_end": 0.7000000000000001,
            "count": 0
           },
           {
            "bin_start": 0.7000000000000001,
            "bin_end": 0.8,
            "count": 0
           },
           {
            "bin_start": 0.8,
            "bin_end": 0.9,
            "count": 0
           },
           {
            "bin_start": 0.9,
            "bin_end": 1,
            "count": 0
           }
          ]
         }
        },
        {
         "name": "total_deaths",
         "dtype": "float64",
         "stats": {
          "unique_count": 0,
          "nan_count": 5,
          "min": null,
          "max": null,
          "histogram": [
           {
            "bin_start": 0,
            "bin_end": 0.1,
            "count": 0
           },
           {
            "bin_start": 0.1,
            "bin_end": 0.2,
            "count": 0
           },
           {
            "bin_start": 0.2,
            "bin_end": 0.30000000000000004,
            "count": 0
           },
           {
            "bin_start": 0.30000000000000004,
            "bin_end": 0.4,
            "count": 0
           },
           {
            "bin_start": 0.4,
            "bin_end": 0.5,
            "count": 0
           },
           {
            "bin_start": 0.5,
            "bin_end": 0.6000000000000001,
            "count": 0
           },
           {
            "bin_start": 0.6000000000000001,
            "bin_end": 0.7000000000000001,
            "count": 0
           },
           {
            "bin_start": 0.7000000000000001,
            "bin_end": 0.8,
            "count": 0
           },
           {
            "bin_start": 0.8,
            "bin_end": 0.9,
            "count": 0
           },
           {
            "bin_start": 0.9,
            "bin_end": 1,
            "count": 0
           }
          ]
         }
        },
        {
         "name": "new_deaths",
         "dtype": "float64",
         "stats": {
          "unique_count": 0,
          "nan_count": 5,
          "min": null,
          "max": null,
          "histogram": [
           {
            "bin_start": 0,
            "bin_end": 0.1,
            "count": 0
           },
           {
            "bin_start": 0.1,
            "bin_end": 0.2,
            "count": 0
           },
           {
            "bin_start": 0.2,
            "bin_end": 0.30000000000000004,
            "count": 0
           },
           {
            "bin_start": 0.30000000000000004,
            "bin_end": 0.4,
            "count": 0
           },
           {
            "bin_start": 0.4,
            "bin_end": 0.5,
            "count": 0
           },
           {
            "bin_start": 0.5,
            "bin_end": 0.6000000000000001,
            "count": 0
           },
           {
            "bin_start": 0.6000000000000001,
            "bin_end": 0.7000000000000001,
            "count": 0
           },
           {
            "bin_start": 0.7000000000000001,
            "bin_end": 0.8,
            "count": 0
           },
           {
            "bin_start": 0.8,
            "bin_end": 0.9,
            "count": 0
           },
           {
            "bin_start": 0.9,
            "bin_end": 1,
            "count": 0
           }
          ]
         }
        },
        {
         "name": "new_deaths_smoothed",
         "dtype": "float64",
         "stats": {
          "unique_count": 0,
          "nan_count": 5,
          "min": null,
          "max": null,
          "histogram": [
           {
            "bin_start": 0,
            "bin_end": 0.1,
            "count": 0
           },
           {
            "bin_start": 0.1,
            "bin_end": 0.2,
            "count": 0
           },
           {
            "bin_start": 0.2,
            "bin_end": 0.30000000000000004,
            "count": 0
           },
           {
            "bin_start": 0.30000000000000004,
            "bin_end": 0.4,
            "count": 0
           },
           {
            "bin_start": 0.4,
            "bin_end": 0.5,
            "count": 0
           },
           {
            "bin_start": 0.5,
            "bin_end": 0.6000000000000001,
            "count": 0
           },
           {
            "bin_start": 0.6000000000000001,
            "bin_end": 0.7000000000000001,
            "count": 0
           },
           {
            "bin_start": 0.7000000000000001,
            "bin_end": 0.8,
            "count": 0
           },
           {
            "bin_start": 0.8,
            "bin_end": 0.9,
            "count": 0
           },
           {
            "bin_start": 0.9,
            "bin_end": 1,
            "count": 0
           }
          ]
         }
        },
        {
         "name": "total_cases_per_million",
         "dtype": "float64",
         "stats": {
          "unique_count": 1,
          "nan_count": 0,
          "min": "0.126",
          "max": "0.126",
          "histogram": [
           {
            "bin_start": -0.374,
            "bin_end": -0.274,
            "count": 0
           },
           {
            "bin_start": -0.274,
            "bin_end": -0.174,
            "count": 0
           },
           {
            "bin_start": -0.174,
            "bin_end": -0.07399999999999995,
            "count": 0
           },
           {
            "bin_start": -0.07399999999999995,
            "bin_end": 0.026000000000000023,
            "count": 0
           },
           {
            "bin_start": 0.026000000000000023,
            "bin_end": 0.126,
            "count": 0
           },
           {
            "bin_start": 0.126,
            "bin_end": 0.2260000000000001,
            "count": 5
           },
           {
            "bin_start": 0.2260000000000001,
            "bin_end": 0.32600000000000007,
            "count": 0
           },
           {
            "bin_start": 0.32600000000000007,
            "bin_end": 0.42600000000000005,
            "count": 0
           },
           {
            "bin_start": 0.42600000000000005,
            "bin_end": 0.526,
            "count": 0
           },
           {
            "bin_start": 0.526,
            "bin_end": 0.626,
            "count": 0
           }
          ]
         }
        },
        {
         "name": "new_cases_per_million",
         "dtype": "float64",
         "stats": {
          "unique_count": 2,
          "nan_count": 0,
          "min": "0.0",
          "max": "0.126",
          "histogram": [
           {
            "bin_start": 0,
            "bin_end": 0.0126,
            "count": 4
           },
           {
            "bin_start": 0.0126,
            "bin_end": 0.0252,
            "count": 0
           },
           {
            "bin_start": 0.0252,
            "bin_end": 0.0378,
            "count": 0
           },
           {
            "bin_start": 0.0378,
            "bin_end": 0.0504,
            "count": 0
           },
           {
            "bin_start": 0.0504,
            "bin_end": 0.063,
            "count": 0
           },
           {
            "bin_start": 0.063,
            "bin_end": 0.0756,
            "count": 0
           },
           {
            "bin_start": 0.0756,
            "bin_end": 0.0882,
            "count": 0
           },
           {
            "bin_start": 0.0882,
            "bin_end": 0.1008,
            "count": 0
           },
           {
            "bin_start": 0.1008,
            "bin_end": 0.1134,
            "count": 0
           },
           {
            "bin_start": 0.1134,
            "bin_end": 0.126,
            "count": 1
           }
          ]
         }
        },
        {
         "name": "new_cases_smoothed_per_million",
         "dtype": "float64",
         "stats": {
          "unique_count": 0,
          "nan_count": 5,
          "min": null,
          "max": null,
          "histogram": [
           {
            "bin_start": 0,
            "bin_end": 0.1,
            "count": 0
           },
           {
            "bin_start": 0.1,
            "bin_end": 0.2,
            "count": 0
           },
           {
            "bin_start": 0.2,
            "bin_end": 0.30000000000000004,
            "count": 0
           },
           {
            "bin_start": 0.30000000000000004,
            "bin_end": 0.4,
            "count": 0
           },
           {
            "bin_start": 0.4,
            "bin_end": 0.5,
            "count": 0
           },
           {
            "bin_start": 0.5,
            "bin_end": 0.6000000000000001,
            "count": 0
           },
           {
            "bin_start": 0.6000000000000001,
            "bin_end": 0.7000000000000001,
            "count": 0
           },
           {
            "bin_start": 0.7000000000000001,
            "bin_end": 0.8,
            "count": 0
           },
           {
            "bin_start": 0.8,
            "bin_end": 0.9,
            "count": 0
           },
           {
            "bin_start": 0.9,
            "bin_end": 1,
            "count": 0
           }
          ]
         }
        },
        {
         "name": "total_deaths_per_million",
         "dtype": "float64",
         "stats": {
          "unique_count": 0,
          "nan_count": 5,
          "min": null,
          "max": null,
          "histogram": [
           {
            "bin_start": 0,
            "bin_end": 0.1,
            "count": 0
           },
           {
            "bin_start": 0.1,
            "bin_end": 0.2,
            "count": 0
           },
           {
            "bin_start": 0.2,
            "bin_end": 0.30000000000000004,
            "count": 0
           },
           {
            "bin_start": 0.30000000000000004,
            "bin_end": 0.4,
            "count": 0
           },
           {
            "bin_start": 0.4,
            "bin_end": 0.5,
            "count": 0
           },
           {
            "bin_start": 0.5,
            "bin_end": 0.6000000000000001,
            "count": 0
           },
           {
            "bin_start": 0.6000000000000001,
            "bin_end": 0.7000000000000001,
            "count": 0
           },
           {
            "bin_start": 0.7000000000000001,
            "bin_end": 0.8,
            "count": 0
           },
           {
            "bin_start": 0.8,
            "bin_end": 0.9,
            "count": 0
           },
           {
            "bin_start": 0.9,
            "bin_end": 1,
            "count": 0
           }
          ]
         }
        },
        {
         "name": "new_deaths_per_million",
         "dtype": "float64",
         "stats": {
          "unique_count": 0,
          "nan_count": 5,
          "min": null,
          "max": null,
          "histogram": [
           {
            "bin_start": 0,
            "bin_end": 0.1,
            "count": 0
           },
           {
            "bin_start": 0.1,
            "bin_end": 0.2,
            "count": 0
           },
           {
            "bin_start": 0.2,
            "bin_end": 0.30000000000000004,
            "count": 0
           },
           {
            "bin_start": 0.30000000000000004,
            "bin_end": 0.4,
            "count": 0
           },
           {
            "bin_start": 0.4,
            "bin_end": 0.5,
            "count": 0
           },
           {
            "bin_start": 0.5,
            "bin_end": 0.6000000000000001,
            "count": 0
           },
           {
            "bin_start": 0.6000000000000001,
            "bin_end": 0.7000000000000001,
            "count": 0
           },
           {
            "bin_start": 0.7000000000000001,
            "bin_end": 0.8,
            "count": 0
           },
           {
            "bin_start": 0.8,
            "bin_end": 0.9,
            "count": 0
           },
           {
            "bin_start": 0.9,
            "bin_end": 1,
            "count": 0
           }
          ]
         }
        },
        {
         "name": "new_deaths_smoothed_per_million",
         "dtype": "float64",
         "stats": {
          "unique_count": 0,
          "nan_count": 5,
          "min": null,
          "max": null,
          "histogram": [
           {
            "bin_start": 0,
            "bin_end": 0.1,
            "count": 0
           },
           {
            "bin_start": 0.1,
            "bin_end": 0.2,
            "count": 0
           },
           {
            "bin_start": 0.2,
            "bin_end": 0.30000000000000004,
            "count": 0
           },
           {
            "bin_start": 0.30000000000000004,
            "bin_end": 0.4,
            "count": 0
           },
           {
            "bin_start": 0.4,
            "bin_end": 0.5,
            "count": 0
           },
           {
            "bin_start": 0.5,
            "bin_end": 0.6000000000000001,
            "count": 0
           },
           {
            "bin_start": 0.6000000000000001,
            "bin_end": 0.7000000000000001,
            "count": 0
           },
           {
            "bin_start": 0.7000000000000001,
            "bin_end": 0.8,
            "count": 0
           },
           {
            "bin_start": 0.8,
            "bin_end": 0.9,
            "count": 0
           },
           {
            "bin_start": 0.9,
            "bin_end": 1,
            "count": 0
           }
          ]
         }
        },
        {
         "name": "reproduction_rate",
         "dtype": "float64",
         "stats": {
          "unique_count": 0,
          "nan_count": 5,
          "min": null,
          "max": null,
          "histogram": [
           {
            "bin_start": 0,
            "bin_end": 0.1,
            "count": 0
           },
           {
            "bin_start": 0.1,
            "bin_end": 0.2,
            "count": 0
           },
           {
            "bin_start": 0.2,
            "bin_end": 0.30000000000000004,
            "count": 0
           },
           {
            "bin_start": 0.30000000000000004,
            "bin_end": 0.4,
            "count": 0
           },
           {
            "bin_start": 0.4,
            "bin_end": 0.5,
            "count": 0
           },
           {
            "bin_start": 0.5,
            "bin_end": 0.6000000000000001,
            "count": 0
           },
           {
            "bin_start": 0.6000000000000001,
            "bin_end": 0.7000000000000001,
            "count": 0
           },
           {
            "bin_start": 0.7000000000000001,
            "bin_end": 0.8,
            "count": 0
           },
           {
            "bin_start": 0.8,
            "bin_end": 0.9,
            "count": 0
           },
           {
            "bin_start": 0.9,
            "bin_end": 1,
            "count": 0
           }
          ]
         }
        },
        {
         "name": "icu_patients",
         "dtype": "float64",
         "stats": {
          "unique_count": 0,
          "nan_count": 5,
          "min": null,
          "max": null,
          "histogram": [
           {
            "bin_start": 0,
            "bin_end": 0.1,
            "count": 0
           },
           {
            "bin_start": 0.1,
            "bin_end": 0.2,
            "count": 0
           },
           {
            "bin_start": 0.2,
            "bin_end": 0.30000000000000004,
            "count": 0
           },
           {
            "bin_start": 0.30000000000000004,
            "bin_end": 0.4,
            "count": 0
           },
           {
            "bin_start": 0.4,
            "bin_end": 0.5,
            "count": 0
           },
           {
            "bin_start": 0.5,
            "bin_end": 0.6000000000000001,
            "count": 0
           },
           {
            "bin_start": 0.6000000000000001,
            "bin_end": 0.7000000000000001,
            "count": 0
           },
           {
            "bin_start": 0.7000000000000001,
            "bin_end": 0.8,
            "count": 0
           },
           {
            "bin_start": 0.8,
            "bin_end": 0.9,
            "count": 0
           },
           {
            "bin_start": 0.9,
            "bin_end": 1,
            "count": 0
           }
          ]
         }
        },
        {
         "name": "icu_patients_per_million",
         "dtype": "float64",
         "stats": {
          "unique_count": 0,
          "nan_count": 5,
          "min": null,
          "max": null,
          "histogram": [
           {
            "bin_start": 0,
            "bin_end": 0.1,
            "count": 0
           },
           {
            "bin_start": 0.1,
            "bin_end": 0.2,
            "count": 0
           },
           {
            "bin_start": 0.2,
            "bin_end": 0.30000000000000004,
            "count": 0
           },
           {
            "bin_start": 0.30000000000000004,
            "bin_end": 0.4,
            "count": 0
           },
           {
            "bin_start": 0.4,
            "bin_end": 0.5,
            "count": 0
           },
           {
            "bin_start": 0.5,
            "bin_end": 0.6000000000000001,
            "count": 0
           },
           {
            "bin_start": 0.6000000000000001,
            "bin_end": 0.7000000000000001,
            "count": 0
           },
           {
            "bin_start": 0.7000000000000001,
            "bin_end": 0.8,
            "count": 0
           },
           {
            "bin_start": 0.8,
            "bin_end": 0.9,
            "count": 0
           },
           {
            "bin_start": 0.9,
            "bin_end": 1,
            "count": 0
           }
          ]
         }
        },
        {
         "name": "hosp_patients",
         "dtype": "float64",
         "stats": {
          "unique_count": 0,
          "nan_count": 5,
          "min": null,
          "max": null,
          "histogram": [
           {
            "bin_start": 0,
            "bin_end": 0.1,
            "count": 0
           },
           {
            "bin_start": 0.1,
            "bin_end": 0.2,
            "count": 0
           },
           {
            "bin_start": 0.2,
            "bin_end": 0.30000000000000004,
            "count": 0
           },
           {
            "bin_start": 0.30000000000000004,
            "bin_end": 0.4,
            "count": 0
           },
           {
            "bin_start": 0.4,
            "bin_end": 0.5,
            "count": 0
           },
           {
            "bin_start": 0.5,
            "bin_end": 0.6000000000000001,
            "count": 0
           },
           {
            "bin_start": 0.6000000000000001,
            "bin_end": 0.7000000000000001,
            "count": 0
           },
           {
            "bin_start": 0.7000000000000001,
            "bin_end": 0.8,
            "count": 0
           },
           {
            "bin_start": 0.8,
            "bin_end": 0.9,
            "count": 0
           },
           {
            "bin_start": 0.9,
            "bin_end": 1,
            "count": 0
           }
          ]
         }
        },
        {
         "name": "hosp_patients_per_million",
         "dtype": "float64",
         "stats": {
          "unique_count": 0,
          "nan_count": 5,
          "min": null,
          "max": null,
          "histogram": [
           {
            "bin_start": 0,
            "bin_end": 0.1,
            "count": 0
           },
           {
            "bin_start": 0.1,
            "bin_end": 0.2,
            "count": 0
           },
           {
            "bin_start": 0.2,
            "bin_end": 0.30000000000000004,
            "count": 0
           },
           {
            "bin_start": 0.30000000000000004,
            "bin_end": 0.4,
            "count": 0
           },
           {
            "bin_start": 0.4,
            "bin_end": 0.5,
            "count": 0
           },
           {
            "bin_start": 0.5,
            "bin_end": 0.6000000000000001,
            "count": 0
           },
           {
            "bin_start": 0.6000000000000001,
            "bin_end": 0.7000000000000001,
            "count": 0
           },
           {
            "bin_start": 0.7000000000000001,
            "bin_end": 0.8,
            "count": 0
           },
           {
            "bin_start": 0.8,
            "bin_end": 0.9,
            "count": 0
           },
           {
            "bin_start": 0.9,
            "bin_end": 1,
            "count": 0
           }
          ]
         }
        },
        {
         "name": "weekly_icu_admissions",
         "dtype": "float64",
         "stats": {
          "unique_count": 0,
          "nan_count": 5,
          "min": null,
          "max": null,
          "histogram": [
           {
            "bin_start": 0,
            "bin_end": 0.1,
            "count": 0
           },
           {
            "bin_start": 0.1,
            "bin_end": 0.2,
            "count": 0
           },
           {
            "bin_start": 0.2,
            "bin_end": 0.30000000000000004,
            "count": 0
           },
           {
            "bin_start": 0.30000000000000004,
            "bin_end": 0.4,
            "count": 0
           },
           {
            "bin_start": 0.4,
            "bin_end": 0.5,
            "count": 0
           },
           {
            "bin_start": 0.5,
            "bin_end": 0.6000000000000001,
            "count": 0
           },
           {
            "bin_start": 0.6000000000000001,
            "bin_end": 0.7000000000000001,
            "count": 0
           },
           {
            "bin_start": 0.7000000000000001,
            "bin_end": 0.8,
            "count": 0
           },
           {
            "bin_start": 0.8,
            "bin_end": 0.9,
            "count": 0
           },
           {
            "bin_start": 0.9,
            "bin_end": 1,
            "count": 0
           }
          ]
         }
        },
        {
         "name": "weekly_icu_admissions_per_million",
         "dtype": "float64",
         "stats": {
          "unique_count": 0,
          "nan_count": 5,
          "min": null,
          "max": null,
          "histogram": [
           {
            "bin_start": 0,
            "bin_end": 0.1,
            "count": 0
           },
           {
            "bin_start": 0.1,
            "bin_end": 0.2,
            "count": 0
           },
           {
            "bin_start": 0.2,
            "bin_end": 0.30000000000000004,
            "count": 0
           },
           {
            "bin_start": 0.30000000000000004,
            "bin_end": 0.4,
            "count": 0
           },
           {
            "bin_start": 0.4,
            "bin_end": 0.5,
            "count": 0
           },
           {
            "bin_start": 0.5,
            "bin_end": 0.6000000000000001,
            "count": 0
           },
           {
            "bin_start": 0.6000000000000001,
            "bin_end": 0.7000000000000001,
            "count": 0
           },
           {
            "bin_start": 0.7000000000000001,
            "bin_end": 0.8,
            "count": 0
           },
           {
            "bin_start": 0.8,
            "bin_end": 0.9,
            "count": 0
           },
           {
            "bin_start": 0.9,
            "bin_end": 1,
            "count": 0
           }
          ]
         }
        },
        {
         "name": "weekly_hosp_admissions",
         "dtype": "float64",
         "stats": {
          "unique_count": 0,
          "nan_count": 5,
          "min": null,
          "max": null,
          "histogram": [
           {
            "bin_start": 0,
            "bin_end": 0.1,
            "count": 0
           },
           {
            "bin_start": 0.1,
            "bin_end": 0.2,
            "count": 0
           },
           {
            "bin_start": 0.2,
            "bin_end": 0.30000000000000004,
            "count": 0
           },
           {
            "bin_start": 0.30000000000000004,
            "bin_end": 0.4,
            "count": 0
           },
           {
            "bin_start": 0.4,
            "bin_end": 0.5,
            "count": 0
           },
           {
            "bin_start": 0.5,
            "bin_end": 0.6000000000000001,
            "count": 0
           },
           {
            "bin_start": 0.6000000000000001,
            "bin_end": 0.7000000000000001,
            "count": 0
           },
           {
            "bin_start": 0.7000000000000001,
            "bin_end": 0.8,
            "count": 0
           },
           {
            "bin_start": 0.8,
            "bin_end": 0.9,
            "count": 0
           },
           {
            "bin_start": 0.9,
            "bin_end": 1,
            "count": 0
           }
          ]
         }
        },
        {
         "name": "weekly_hosp_admissions_per_million",
         "dtype": "float64",
         "stats": {
          "unique_count": 0,
          "nan_count": 5,
          "min": null,
          "max": null,
          "histogram": [
           {
            "bin_start": 0,
            "bin_end": 0.1,
            "count": 0
           },
           {
            "bin_start": 0.1,
            "bin_end": 0.2,
            "count": 0
           },
           {
            "bin_start": 0.2,
            "bin_end": 0.30000000000000004,
            "count": 0
           },
           {
            "bin_start": 0.30000000000000004,
            "bin_end": 0.4,
            "count": 0
           },
           {
            "bin_start": 0.4,
            "bin_end": 0.5,
            "count": 0
           },
           {
            "bin_start": 0.5,
            "bin_end": 0.6000000000000001,
            "count": 0
           },
           {
            "bin_start": 0.6000000000000001,
            "bin_end": 0.7000000000000001,
            "count": 0
           },
           {
            "bin_start": 0.7000000000000001,
            "bin_end": 0.8,
            "count": 0
           },
           {
            "bin_start": 0.8,
            "bin_end": 0.9,
            "count": 0
           },
           {
            "bin_start": 0.9,
            "bin_end": 1,
            "count": 0
           }
          ]
         }
        },
        {
         "name": "new_tests",
         "dtype": "float64",
         "stats": {
          "unique_count": 0,
          "nan_count": 5,
          "min": null,
          "max": null,
          "histogram": [
           {
            "bin_start": 0,
            "bin_end": 0.1,
            "count": 0
           },
           {
            "bin_start": 0.1,
            "bin_end": 0.2,
            "count": 0
           },
           {
            "bin_start": 0.2,
            "bin_end": 0.30000000000000004,
            "count": 0
           },
           {
            "bin_start": 0.30000000000000004,
            "bin_end": 0.4,
            "count": 0
           },
           {
            "bin_start": 0.4,
            "bin_end": 0.5,
            "count": 0
           },
           {
            "bin_start": 0.5,
            "bin_end": 0.6000000000000001,
            "count": 0
           },
           {
            "bin_start": 0.6000000000000001,
            "bin_end": 0.7000000000000001,
            "count": 0
           },
           {
            "bin_start": 0.7000000000000001,
            "bin_end": 0.8,
            "count": 0
           },
           {
            "bin_start": 0.8,
            "bin_end": 0.9,
            "count": 0
           },
           {
            "bin_start": 0.9,
            "bin_end": 1,
            "count": 0
           }
          ]
         }
        },
        {
         "name": "total_tests",
         "dtype": "float64",
         "stats": {
          "unique_count": 0,
          "nan_count": 5,
          "min": null,
          "max": null,
          "histogram": [
           {
            "bin_start": 0,
            "bin_end": 0.1,
            "count": 0
           },
           {
            "bin_start": 0.1,
            "bin_end": 0.2,
            "count": 0
           },
           {
            "bin_start": 0.2,
            "bin_end": 0.30000000000000004,
            "count": 0
           },
           {
            "bin_start": 0.30000000000000004,
            "bin_end": 0.4,
            "count": 0
           },
           {
            "bin_start": 0.4,
            "bin_end": 0.5,
            "count": 0
           },
           {
            "bin_start": 0.5,
            "bin_end": 0.6000000000000001,
            "count": 0
           },
           {
            "bin_start": 0.6000000000000001,
            "bin_end": 0.7000000000000001,
            "count": 0
           },
           {
            "bin_start": 0.7000000000000001,
            "bin_end": 0.8,
            "count": 0
           },
           {
            "bin_start": 0.8,
            "bin_end": 0.9,
            "count": 0
           },
           {
            "bin_start": 0.9,
            "bin_end": 1,
            "count": 0
           }
          ]
         }
        },
        {
         "name": "total_tests_per_thousand",
         "dtype": "float64",
         "stats": {
          "unique_count": 0,
          "nan_count": 5,
          "min": null,
          "max": null,
          "histogram": [
           {
            "bin_start": 0,
            "bin_end": 0.1,
            "count": 0
           },
           {
            "bin_start": 0.1,
            "bin_end": 0.2,
            "count": 0
           },
           {
            "bin_start": 0.2,
            "bin_end": 0.30000000000000004,
            "count": 0
           },
           {
            "bin_start": 0.30000000000000004,
            "bin_end": 0.4,
            "count": 0
           },
           {
            "bin_start": 0.4,
            "bin_end": 0.5,
            "count": 0
           },
           {
            "bin_start": 0.5,
            "bin_end": 0.6000000000000001,
            "count": 0
           },
           {
            "bin_start": 0.6000000000000001,
            "bin_end": 0.7000000000000001,
            "count": 0
           },
           {
            "bin_start": 0.7000000000000001,
            "bin_end": 0.8,
            "count": 0
           },
           {
            "bin_start": 0.8,
            "bin_end": 0.9,
            "count": 0
           },
           {
            "bin_start": 0.9,
            "bin_end": 1,
            "count": 0
           }
          ]
         }
        },
        {
         "name": "new_tests_per_thousand",
         "dtype": "float64",
         "stats": {
          "unique_count": 0,
          "nan_count": 5,
          "min": null,
          "max": null,
          "histogram": [
           {
            "bin_start": 0,
            "bin_end": 0.1,
            "count": 0
           },
           {
            "bin_start": 0.1,
            "bin_end": 0.2,
            "count": 0
           },
           {
            "bin_start": 0.2,
            "bin_end": 0.30000000000000004,
            "count": 0
           },
           {
            "bin_start": 0.30000000000000004,
            "bin_end": 0.4,
            "count": 0
           },
           {
            "bin_start": 0.4,
            "bin_end": 0.5,
            "count": 0
           },
           {
            "bin_start": 0.5,
            "bin_end": 0.6000000000000001,
            "count": 0
           },
           {
            "bin_start": 0.6000000000000001,
            "bin_end": 0.7000000000000001,
            "count": 0
           },
           {
            "bin_start": 0.7000000000000001,
            "bin_end": 0.8,
            "count": 0
           },
           {
            "bin_start": 0.8,
            "bin_end": 0.9,
            "count": 0
           },
           {
            "bin_start": 0.9,
            "bin_end": 1,
            "count": 0
           }
          ]
         }
        },
        {
         "name": "new_tests_smoothed",
         "dtype": "float64",
         "stats": {
          "unique_count": 0,
          "nan_count": 5,
          "min": null,
          "max": null,
          "histogram": [
           {
            "bin_start": 0,
            "bin_end": 0.1,
            "count": 0
           },
           {
            "bin_start": 0.1,
            "bin_end": 0.2,
            "count": 0
           },
           {
            "bin_start": 0.2,
            "bin_end": 0.30000000000000004,
            "count": 0
           },
           {
            "bin_start": 0.30000000000000004,
            "bin_end": 0.4,
            "count": 0
           },
           {
            "bin_start": 0.4,
            "bin_end": 0.5,
            "count": 0
           },
           {
            "bin_start": 0.5,
            "bin_end": 0.6000000000000001,
            "count": 0
           },
           {
            "bin_start": 0.6000000000000001,
            "bin_end": 0.7000000000000001,
            "count": 0
           },
           {
            "bin_start": 0.7000000000000001,
            "bin_end": 0.8,
            "count": 0
           },
           {
            "bin_start": 0.8,
            "bin_end": 0.9,
            "count": 0
           },
           {
            "bin_start": 0.9,
            "bin_end": 1,
            "count": 0
           }
          ]
         }
        },
        {
         "name": "new_tests_smoothed_per_thousand",
         "dtype": "float64",
         "stats": {
          "unique_count": 0,
          "nan_count": 5,
          "min": null,
          "max": null,
          "histogram": [
           {
            "bin_start": 0,
            "bin_end": 0.1,
            "count": 0
           },
           {
            "bin_start": 0.1,
            "bin_end": 0.2,
            "count": 0
           },
           {
            "bin_start": 0.2,
            "bin_end": 0.30000000000000004,
            "count": 0
           },
           {
            "bin_start": 0.30000000000000004,
            "bin_end": 0.4,
            "count": 0
           },
           {
            "bin_start": 0.4,
            "bin_end": 0.5,
            "count": 0
           },
           {
            "bin_start": 0.5,
            "bin_end": 0.6000000000000001,
            "count": 0
           },
           {
            "bin_start": 0.6000000000000001,
            "bin_end": 0.7000000000000001,
            "count": 0
           },
           {
            "bin_start": 0.7000000000000001,
            "bin_end": 0.8,
            "count": 0
           },
           {
            "bin_start": 0.8,
            "bin_end": 0.9,
            "count": 0
           },
           {
            "bin_start": 0.9,
            "bin_end": 1,
            "count": 0
           }
          ]
         }
        },
        {
         "name": "positive_rate",
         "dtype": "float64",
         "stats": {
          "unique_count": 0,
          "nan_count": 5,
          "min": null,
          "max": null,
          "histogram": [
           {
            "bin_start": 0,
            "bin_end": 0.1,
            "count": 0
           },
           {
            "bin_start": 0.1,
            "bin_end": 0.2,
            "count": 0
           },
           {
            "bin_start": 0.2,
            "bin_end": 0.30000000000000004,
            "count": 0
           },
           {
            "bin_start": 0.30000000000000004,
            "bin_end": 0.4,
            "count": 0
           },
           {
            "bin_start": 0.4,
            "bin_end": 0.5,
            "count": 0
           },
           {
            "bin_start": 0.5,
            "bin_end": 0.6000000000000001,
            "count": 0
           },
           {
            "bin_start": 0.6000000000000001,
            "bin_end": 0.7000000000000001,
            "count": 0
           },
           {
            "bin_start": 0.7000000000000001,
            "bin_end": 0.8,
            "count": 0
           },
           {
            "bin_start": 0.8,
            "bin_end": 0.9,
            "count": 0
           },
           {
            "bin_start": 0.9,
            "bin_end": 1,
            "count": 0
           }
          ]
         }
        },
        {
         "name": "tests_per_case",
         "dtype": "float64",
         "stats": {
          "unique_count": 0,
          "nan_count": 5,
          "min": null,
          "max": null,
          "histogram": [
           {
            "bin_start": 0,
            "bin_end": 0.1,
            "count": 0
           },
           {
            "bin_start": 0.1,
            "bin_end": 0.2,
            "count": 0
           },
           {
            "bin_start": 0.2,
            "bin_end": 0.30000000000000004,
            "count": 0
           },
           {
            "bin_start": 0.30000000000000004,
            "bin_end": 0.4,
            "count": 0
           },
           {
            "bin_start": 0.4,
            "bin_end": 0.5,
            "count": 0
           },
           {
            "bin_start": 0.5,
            "bin_end": 0.6000000000000001,
            "count": 0
           },
           {
            "bin_start": 0.6000000000000001,
            "bin_end": 0.7000000000000001,
            "count": 0
           },
           {
            "bin_start": 0.7000000000000001,
            "bin_end": 0.8,
            "count": 0
           },
           {
            "bin_start": 0.8,
            "bin_end": 0.9,
            "count": 0
           },
           {
            "bin_start": 0.9,
            "bin_end": 1,
            "count": 0
           }
          ]
         }
        },
        {
         "name": "tests_units",
         "dtype": "object",
         "stats": {
          "unique_count": 0,
          "nan_count": 5,
          "categories": [
           {
            "name": "Missing",
            "count": 5
           }
          ]
         }
        },
        {
         "name": "total_vaccinations",
         "dtype": "float64",
         "stats": {
          "unique_count": 0,
          "nan_count": 5,
          "min": null,
          "max": null,
          "histogram": [
           {
            "bin_start": 0,
            "bin_end": 0.1,
            "count": 0
           },
           {
            "bin_start": 0.1,
            "bin_end": 0.2,
            "count": 0
           },
           {
            "bin_start": 0.2,
            "bin_end": 0.30000000000000004,
            "count": 0
           },
           {
            "bin_start": 0.30000000000000004,
            "bin_end": 0.4,
            "count": 0
           },
           {
            "bin_start": 0.4,
            "bin_end": 0.5,
            "count": 0
           },
           {
            "bin_start": 0.5,
            "bin_end": 0.6000000000000001,
            "count": 0
           },
           {
            "bin_start": 0.6000000000000001,
            "bin_end": 0.7000000000000001,
            "count": 0
           },
           {
            "bin_start": 0.7000000000000001,
            "bin_end": 0.8,
            "count": 0
           },
           {
            "bin_start": 0.8,
            "bin_end": 0.9,
            "count": 0
           },
           {
            "bin_start": 0.9,
            "bin_end": 1,
            "count": 0
           }
          ]
         }
        },
        {
         "name": "people_vaccinated",
         "dtype": "float64",
         "stats": {
          "unique_count": 0,
          "nan_count": 5,
          "min": null,
          "max": null,
          "histogram": [
           {
            "bin_start": 0,
            "bin_end": 0.1,
            "count": 0
           },
           {
            "bin_start": 0.1,
            "bin_end": 0.2,
            "count": 0
           },
           {
            "bin_start": 0.2,
            "bin_end": 0.30000000000000004,
            "count": 0
           },
           {
            "bin_start": 0.30000000000000004,
            "bin_end": 0.4,
            "count": 0
           },
           {
            "bin_start": 0.4,
            "bin_end": 0.5,
            "count": 0
           },
           {
            "bin_start": 0.5,
            "bin_end": 0.6000000000000001,
            "count": 0
           },
           {
            "bin_start": 0.6000000000000001,
            "bin_end": 0.7000000000000001,
            "count": 0
           },
           {
            "bin_start": 0.7000000000000001,
            "bin_end": 0.8,
            "count": 0
           },
           {
            "bin_start": 0.8,
            "bin_end": 0.9,
            "count": 0
           },
           {
            "bin_start": 0.9,
            "bin_end": 1,
            "count": 0
           }
          ]
         }
        },
        {
         "name": "people_fully_vaccinated",
         "dtype": "float64",
         "stats": {
          "unique_count": 0,
          "nan_count": 5,
          "min": null,
          "max": null,
          "histogram": [
           {
            "bin_start": 0,
            "bin_end": 0.1,
            "count": 0
           },
           {
            "bin_start": 0.1,
            "bin_end": 0.2,
            "count": 0
           },
           {
            "bin_start": 0.2,
            "bin_end": 0.30000000000000004,
            "count": 0
           },
           {
            "bin_start": 0.30000000000000004,
            "bin_end": 0.4,
            "count": 0
           },
           {
            "bin_start": 0.4,
            "bin_end": 0.5,
            "count": 0
           },
           {
            "bin_start": 0.5,
            "bin_end": 0.6000000000000001,
            "count": 0
           },
           {
            "bin_start": 0.6000000000000001,
            "bin_end": 0.7000000000000001,
            "count": 0
           },
           {
            "bin_start": 0.7000000000000001,
            "bin_end": 0.8,
            "count": 0
           },
           {
            "bin_start": 0.8,
            "bin_end": 0.9,
            "count": 0
           },
           {
            "bin_start": 0.9,
            "bin_end": 1,
            "count": 0
           }
          ]
         }
        },
        {
         "name": "total_boosters",
         "dtype": "float64",
         "stats": {
          "unique_count": 0,
          "nan_count": 5,
          "min": null,
          "max": null,
          "histogram": [
           {
            "bin_start": 0,
            "bin_end": 0.1,
            "count": 0
           },
           {
            "bin_start": 0.1,
            "bin_end": 0.2,
            "count": 0
           },
           {
            "bin_start": 0.2,
            "bin_end": 0.30000000000000004,
            "count": 0
           },
           {
            "bin_start": 0.30000000000000004,
            "bin_end": 0.4,
            "count": 0
           },
           {
            "bin_start": 0.4,
            "bin_end": 0.5,
            "count": 0
           },
           {
            "bin_start": 0.5,
            "bin_end": 0.6000000000000001,
            "count": 0
           },
           {
            "bin_start": 0.6000000000000001,
            "bin_end": 0.7000000000000001,
            "count": 0
           },
           {
            "bin_start": 0.7000000000000001,
            "bin_end": 0.8,
            "count": 0
           },
           {
            "bin_start": 0.8,
            "bin_end": 0.9,
            "count": 0
           },
           {
            "bin_start": 0.9,
            "bin_end": 1,
            "count": 0
           }
          ]
         }
        },
        {
         "name": "new_vaccinations",
         "dtype": "float64",
         "stats": {
          "unique_count": 0,
          "nan_count": 5,
          "min": null,
          "max": null,
          "histogram": [
           {
            "bin_start": 0,
            "bin_end": 0.1,
            "count": 0
           },
           {
            "bin_start": 0.1,
            "bin_end": 0.2,
            "count": 0
           },
           {
            "bin_start": 0.2,
            "bin_end": 0.30000000000000004,
            "count": 0
           },
           {
            "bin_start": 0.30000000000000004,
            "bin_end": 0.4,
            "count": 0
           },
           {
            "bin_start": 0.4,
            "bin_end": 0.5,
            "count": 0
           },
           {
            "bin_start": 0.5,
            "bin_end": 0.6000000000000001,
            "count": 0
           },
           {
            "bin_start": 0.6000000000000001,
            "bin_end": 0.7000000000000001,
            "count": 0
           },
           {
            "bin_start": 0.7000000000000001,
            "bin_end": 0.8,
            "count": 0
           },
           {
            "bin_start": 0.8,
            "bin_end": 0.9,
            "count": 0
           },
           {
            "bin_start": 0.9,
            "bin_end": 1,
            "count": 0
           }
          ]
         }
        },
        {
         "name": "new_vaccinations_smoothed",
         "dtype": "float64",
         "stats": {
          "unique_count": 0,
          "nan_count": 5,
          "min": null,
          "max": null,
          "histogram": [
           {
            "bin_start": 0,
            "bin_end": 0.1,
            "count": 0
           },
           {
            "bin_start": 0.1,
            "bin_end": 0.2,
            "count": 0
           },
           {
            "bin_start": 0.2,
            "bin_end": 0.30000000000000004,
            "count": 0
           },
           {
            "bin_start": 0.30000000000000004,
            "bin_end": 0.4,
            "count": 0
           },
           {
            "bin_start": 0.4,
            "bin_end": 0.5,
            "count": 0
           },
           {
            "bin_start": 0.5,
            "bin_end": 0.6000000000000001,
            "count": 0
           },
           {
            "bin_start": 0.6000000000000001,
            "bin_end": 0.7000000000000001,
            "count": 0
           },
           {
            "bin_start": 0.7000000000000001,
            "bin_end": 0.8,
            "count": 0
           },
           {
            "bin_start": 0.8,
            "bin_end": 0.9,
            "count": 0
           },
           {
            "bin_start": 0.9,
            "bin_end": 1,
            "count": 0
           }
          ]
         }
        },
        {
         "name": "total_vaccinations_per_hundred",
         "dtype": "float64",
         "stats": {
          "unique_count": 0,
          "nan_count": 5,
          "min": null,
          "max": null,
          "histogram": [
           {
            "bin_start": 0,
            "bin_end": 0.1,
            "count": 0
           },
           {
            "bin_start": 0.1,
            "bin_end": 0.2,
            "count": 0
           },
           {
            "bin_start": 0.2,
            "bin_end": 0.30000000000000004,
            "count": 0
           },
           {
            "bin_start": 0.30000000000000004,
            "bin_end": 0.4,
            "count": 0
           },
           {
            "bin_start": 0.4,
            "bin_end": 0.5,
            "count": 0
           },
           {
            "bin_start": 0.5,
            "bin_end": 0.6000000000000001,
            "count": 0
           },
           {
            "bin_start": 0.6000000000000001,
            "bin_end": 0.7000000000000001,
            "count": 0
           },
           {
            "bin_start": 0.7000000000000001,
            "bin_end": 0.8,
            "count": 0
           },
           {
            "bin_start": 0.8,
            "bin_end": 0.9,
            "count": 0
           },
           {
            "bin_start": 0.9,
            "bin_end": 1,
            "count": 0
           }
          ]
         }
        },
        {
         "name": "people_vaccinated_per_hundred",
         "dtype": "float64",
         "stats": {
          "unique_count": 0,
          "nan_count": 5,
          "min": null,
          "max": null,
          "histogram": [
           {
            "bin_start": 0,
            "bin_end": 0.1,
            "count": 0
           },
           {
            "bin_start": 0.1,
            "bin_end": 0.2,
            "count": 0
           },
           {
            "bin_start": 0.2,
            "bin_end": 0.30000000000000004,
            "count": 0
           },
           {
            "bin_start": 0.30000000000000004,
            "bin_end": 0.4,
            "count": 0
           },
           {
            "bin_start": 0.4,
            "bin_end": 0.5,
            "count": 0
           },
           {
            "bin_start": 0.5,
            "bin_end": 0.6000000000000001,
            "count": 0
           },
           {
            "bin_start": 0.6000000000000001,
            "bin_end": 0.7000000000000001,
            "count": 0
           },
           {
            "bin_start": 0.7000000000000001,
            "bin_end": 0.8,
            "count": 0
           },
           {
            "bin_start": 0.8,
            "bin_end": 0.9,
            "count": 0
           },
           {
            "bin_start": 0.9,
            "bin_end": 1,
            "count": 0
           }
          ]
         }
        },
        {
         "name": "people_fully_vaccinated_per_hundred",
         "dtype": "float64",
         "stats": {
          "unique_count": 0,
          "nan_count": 5,
          "min": null,
          "max": null,
          "histogram": [
           {
            "bin_start": 0,
            "bin_end": 0.1,
            "count": 0
           },
           {
            "bin_start": 0.1,
            "bin_end": 0.2,
            "count": 0
           },
           {
            "bin_start": 0.2,
            "bin_end": 0.30000000000000004,
            "count": 0
           },
           {
            "bin_start": 0.30000000000000004,
            "bin_end": 0.4,
            "count": 0
           },
           {
            "bin_start": 0.4,
            "bin_end": 0.5,
            "count": 0
           },
           {
            "bin_start": 0.5,
            "bin_end": 0.6000000000000001,
            "count": 0
           },
           {
            "bin_start": 0.6000000000000001,
            "bin_end": 0.7000000000000001,
            "count": 0
           },
           {
            "bin_start": 0.7000000000000001,
            "bin_end": 0.8,
            "count": 0
           },
           {
            "bin_start": 0.8,
            "bin_end": 0.9,
            "count": 0
           },
           {
            "bin_start": 0.9,
            "bin_end": 1,
            "count": 0
           }
          ]
         }
        },
        {
         "name": "total_boosters_per_hundred",
         "dtype": "float64",
         "stats": {
          "unique_count": 0,
          "nan_count": 5,
          "min": null,
          "max": null,
          "histogram": [
           {
            "bin_start": 0,
            "bin_end": 0.1,
            "count": 0
           },
           {
            "bin_start": 0.1,
            "bin_end": 0.2,
            "count": 0
           },
           {
            "bin_start": 0.2,
            "bin_end": 0.30000000000000004,
            "count": 0
           },
           {
            "bin_start": 0.30000000000000004,
            "bin_end": 0.4,
            "count": 0
           },
           {
            "bin_start": 0.4,
            "bin_end": 0.5,
            "count": 0
           },
           {
            "bin_start": 0.5,
            "bin_end": 0.6000000000000001,
            "count": 0
           },
           {
            "bin_start": 0.6000000000000001,
            "bin_end": 0.7000000000000001,
            "count": 0
           },
           {
            "bin_start": 0.7000000000000001,
            "bin_end": 0.8,
            "count": 0
           },
           {
            "bin_start": 0.8,
            "bin_end": 0.9,
            "count": 0
           },
           {
            "bin_start": 0.9,
            "bin_end": 1,
            "count": 0
           }
          ]
         }
        },
        {
         "name": "new_vaccinations_smoothed_per_million",
         "dtype": "float64",
         "stats": {
          "unique_count": 0,
          "nan_count": 5,
          "min": null,
          "max": null,
          "histogram": [
           {
            "bin_start": 0,
            "bin_end": 0.1,
            "count": 0
           },
           {
            "bin_start": 0.1,
            "bin_end": 0.2,
            "count": 0
           },
           {
            "bin_start": 0.2,
            "bin_end": 0.30000000000000004,
            "count": 0
           },
           {
            "bin_start": 0.30000000000000004,
            "bin_end": 0.4,
            "count": 0
           },
           {
            "bin_start": 0.4,
            "bin_end": 0.5,
            "count": 0
           },
           {
            "bin_start": 0.5,
            "bin_end": 0.6000000000000001,
            "count": 0
           },
           {
            "bin_start": 0.6000000000000001,
            "bin_end": 0.7000000000000001,
            "count": 0
           },
           {
            "bin_start": 0.7000000000000001,
            "bin_end": 0.8,
            "count": 0
           },
           {
            "bin_start": 0.8,
            "bin_end": 0.9,
            "count": 0
           },
           {
            "bin_start": 0.9,
            "bin_end": 1,
            "count": 0
           }
          ]
         }
        },
        {
         "name": "new_people_vaccinated_smoothed",
         "dtype": "float64",
         "stats": {
          "unique_count": 0,
          "nan_count": 5,
          "min": null,
          "max": null,
          "histogram": [
           {
            "bin_start": 0,
            "bin_end": 0.1,
            "count": 0
           },
           {
            "bin_start": 0.1,
            "bin_end": 0.2,
            "count": 0
           },
           {
            "bin_start": 0.2,
            "bin_end": 0.30000000000000004,
            "count": 0
           },
           {
            "bin_start": 0.30000000000000004,
            "bin_end": 0.4,
            "count": 0
           },
           {
            "bin_start": 0.4,
            "bin_end": 0.5,
            "count": 0
           },
           {
            "bin_start": 0.5,
            "bin_end": 0.6000000000000001,
            "count": 0
           },
           {
            "bin_start": 0.6000000000000001,
            "bin_end": 0.7000000000000001,
            "count": 0
           },
           {
            "bin_start": 0.7000000000000001,
            "bin_end": 0.8,
            "count": 0
           },
           {
            "bin_start": 0.8,
            "bin_end": 0.9,
            "count": 0
           },
           {
            "bin_start": 0.9,
            "bin_end": 1,
            "count": 0
           }
          ]
         }
        },
        {
         "name": "new_people_vaccinated_smoothed_per_hundred",
         "dtype": "float64",
         "stats": {
          "unique_count": 0,
          "nan_count": 5,
          "min": null,
          "max": null,
          "histogram": [
           {
            "bin_start": 0,
            "bin_end": 0.1,
            "count": 0
           },
           {
            "bin_start": 0.1,
            "bin_end": 0.2,
            "count": 0
           },
           {
            "bin_start": 0.2,
            "bin_end": 0.30000000000000004,
            "count": 0
           },
           {
            "bin_start": 0.30000000000000004,
            "bin_end": 0.4,
            "count": 0
           },
           {
            "bin_start": 0.4,
            "bin_end": 0.5,
            "count": 0
           },
           {
            "bin_start": 0.5,
            "bin_end": 0.6000000000000001,
            "count": 0
           },
           {
            "bin_start": 0.6000000000000001,
            "bin_end": 0.7000000000000001,
            "count": 0
           },
           {
            "bin_start": 0.7000000000000001,
            "bin_end": 0.8,
            "count": 0
           },
           {
            "bin_start": 0.8,
            "bin_end": 0.9,
            "count": 0
           },
           {
            "bin_start": 0.9,
            "bin_end": 1,
            "count": 0
           }
          ]
         }
        },
        {
         "name": "stringency_index",
         "dtype": "float64",
         "stats": {
          "unique_count": 1,
          "nan_count": 0,
          "min": "8.33",
          "max": "8.33",
          "histogram": [
           {
            "bin_start": 7.83,
            "bin_end": 7.93,
            "count": 0
           },
           {
            "bin_start": 7.93,
            "bin_end": 8.03,
            "count": 0
           },
           {
            "bin_start": 8.03,
            "bin_end": 8.13,
            "count": 0
           },
           {
            "bin_start": 8.13,
            "bin_end": 8.23,
            "count": 0
           },
           {
            "bin_start": 8.23,
            "bin_end": 8.33,
            "count": 0
           },
           {
            "bin_start": 8.33,
            "bin_end": 8.43,
            "count": 5
           },
           {
            "bin_start": 8.43,
            "bin_end": 8.53,
            "count": 0
           },
           {
            "bin_start": 8.53,
            "bin_end": 8.63,
            "count": 0
           },
           {
            "bin_start": 8.63,
            "bin_end": 8.73,
            "count": 0
           },
           {
            "bin_start": 8.73,
            "bin_end": 8.83,
            "count": 0
           }
          ]
         }
        },
        {
         "name": "population",
         "dtype": "float64",
         "stats": {
          "unique_count": 1,
          "nan_count": 0,
          "min": "39835428.0",
          "max": "39835428.0",
          "histogram": [
           {
            "bin_start": 39835427.5,
            "bin_end": 39835427.6,
            "count": 0
           },
           {
            "bin_start": 39835427.6,
            "bin_end": 39835427.7,
            "count": 0
           },
           {
            "bin_start": 39835427.7,
            "bin_end": 39835427.8,
            "count": 0
           },
           {
            "bin_start": 39835427.8,
            "bin_end": 39835427.9,
            "count": 0
           },
           {
            "bin_start": 39835427.9,
            "bin_end": 39835428,
            "count": 0
           },
           {
            "bin_start": 39835428,
            "bin_end": 39835428.1,
            "count": 5
           },
           {
            "bin_start": 39835428.1,
            "bin_end": 39835428.2,
            "count": 0
           },
           {
            "bin_start": 39835428.2,
            "bin_end": 39835428.3,
            "count": 0
           },
           {
            "bin_start": 39835428.3,
            "bin_end": 39835428.4,
            "count": 0
           },
           {
            "bin_start": 39835428.4,
            "bin_end": 39835428.5,
            "count": 0
           }
          ]
         }
        },
        {
         "name": "population_density",
         "dtype": "float64",
         "stats": {
          "unique_count": 1,
          "nan_count": 0,
          "min": "54.422",
          "max": "54.422",
          "histogram": [
           {
            "bin_start": 53.922,
            "bin_end": 54.022,
            "count": 0
           },
           {
            "bin_start": 54.022,
            "bin_end": 54.122,
            "count": 0
           },
           {
            "bin_start": 54.122,
            "bin_end": 54.221999999999994,
            "count": 0
           },
           {
            "bin_start": 54.221999999999994,
            "bin_end": 54.321999999999996,
            "count": 0
           },
           {
            "bin_start": 54.321999999999996,
            "bin_end": 54.422,
            "count": 0
           },
           {
            "bin_start": 54.422,
            "bin_end": 54.522,
            "count": 5
           },
           {
            "bin_start": 54.522,
            "bin_end": 54.622,
            "count": 0
           },
           {
            "bin_start": 54.622,
            "bin_end": 54.721999999999994,
            "count": 0
           },
           {
            "bin_start": 54.721999999999994,
            "bin_end": 54.821999999999996,
            "count": 0
           },
           {
            "bin_start": 54.821999999999996,
            "bin_end": 54.922,
            "count": 0
           }
          ]
         }
        },
        {
         "name": "median_age",
         "dtype": "float64",
         "stats": {
          "unique_count": 1,
          "nan_count": 0,
          "min": "18.6",
          "max": "18.6",
          "histogram": [
           {
            "bin_start": 18.1,
            "bin_end": 18.200000000000003,
            "count": 0
           },
           {
            "bin_start": 18.200000000000003,
            "bin_end": 18.3,
            "count": 0
           },
           {
            "bin_start": 18.3,
            "bin_end": 18.400000000000002,
            "count": 0
           },
           {
            "bin_start": 18.400000000000002,
            "bin_end": 18.5,
            "count": 0
           },
           {
            "bin_start": 18.5,
            "bin_end": 18.6,
            "count": 0
           },
           {
            "bin_start": 18.6,
            "bin_end": 18.700000000000003,
            "count": 5
           },
           {
            "bin_start": 18.700000000000003,
            "bin_end": 18.8,
            "count": 0
           },
           {
            "bin_start": 18.8,
            "bin_end": 18.900000000000002,
            "count": 0
           },
           {
            "bin_start": 18.900000000000002,
            "bin_end": 19,
            "count": 0
           },
           {
            "bin_start": 19,
            "bin_end": 19.1,
            "count": 0
           }
          ]
         }
        },
        {
         "name": "aged_65_older",
         "dtype": "float64",
         "stats": {
          "unique_count": 1,
          "nan_count": 0,
          "min": "2.581",
          "max": "2.581",
          "histogram": [
           {
            "bin_start": 2.081,
            "bin_end": 2.181,
            "count": 0
           },
           {
            "bin_start": 2.181,
            "bin_end": 2.281,
            "count": 0
           },
           {
            "bin_start": 2.281,
            "bin_end": 2.3810000000000002,
            "count": 0
           },
           {
            "bin_start": 2.3810000000000002,
            "bin_end": 2.481,
            "count": 0
           },
           {
            "bin_start": 2.481,
            "bin_end": 2.581,
            "count": 0
           },
           {
            "bin_start": 2.581,
            "bin_end": 2.681,
            "count": 5
           },
           {
            "bin_start": 2.681,
            "bin_end": 2.781,
            "count": 0
           },
           {
            "bin_start": 2.781,
            "bin_end": 2.8810000000000002,
            "count": 0
           },
           {
            "bin_start": 2.8810000000000002,
            "bin_end": 2.981,
            "count": 0
           },
           {
            "bin_start": 2.981,
            "bin_end": 3.081,
            "count": 0
           }
          ]
         }
        },
        {
         "name": "aged_70_older",
         "dtype": "float64",
         "stats": {
          "unique_count": 1,
          "nan_count": 0,
          "min": "1.337",
          "max": "1.337",
          "histogram": [
           {
            "bin_start": 0.837,
            "bin_end": 0.9369999999999999,
            "count": 0
           },
           {
            "bin_start": 0.9369999999999999,
            "bin_end": 1.037,
            "count": 0
           },
           {
            "bin_start": 1.037,
            "bin_end": 1.137,
            "count": 0
           },
           {
            "bin_start": 1.137,
            "bin_end": 1.237,
            "count": 0
           },
           {
            "bin_start": 1.237,
            "bin_end": 1.337,
            "count": 0
           },
           {
            "bin_start": 1.337,
            "bin_end": 1.437,
            "count": 5
           },
           {
            "bin_start": 1.437,
            "bin_end": 1.537,
            "count": 0
           },
           {
            "bin_start": 1.537,
            "bin_end": 1.637,
            "count": 0
           },
           {
            "bin_start": 1.637,
            "bin_end": 1.737,
            "count": 0
           },
           {
            "bin_start": 1.737,
            "bin_end": 1.837,
            "count": 0
           }
          ]
         }
        },
        {
         "name": "gdp_per_capita",
         "dtype": "float64",
         "stats": {
          "unique_count": 1,
          "nan_count": 0,
          "min": "1803.987",
          "max": "1803.987",
          "histogram": [
           {
            "bin_start": 1803.487,
            "bin_end": 1803.587,
            "count": 0
           },
           {
            "bin_start": 1803.587,
            "bin_end": 1803.6870000000001,
            "count": 0
           },
           {
            "bin_start": 1803.6870000000001,
            "bin_end": 1803.787,
            "count": 0
           },
           {
            "bin_start": 1803.787,
            "bin_end": 1803.8870000000002,
            "count": 0
           },
           {
            "bin_start": 1803.8870000000002,
            "bin_end": 1803.987,
            "count": 0
           },
           {
            "bin_start": 1803.987,
            "bin_end": 1804.087,
            "count": 5
           },
           {
            "bin_start": 1804.087,
            "bin_end": 1804.1870000000001,
            "count": 0
           },
           {
            "bin_start": 1804.1870000000001,
            "bin_end": 1804.287,
            "count": 0
           },
           {
            "bin_start": 1804.287,
            "bin_end": 1804.3870000000002,
            "count": 0
           },
           {
            "bin_start": 1804.3870000000002,
            "bin_end": 1804.487,
            "count": 0
           }
          ]
         }
        },
        {
         "name": "extreme_poverty",
         "dtype": "float64",
         "stats": {
          "unique_count": 0,
          "nan_count": 5,
          "min": null,
          "max": null,
          "histogram": [
           {
            "bin_start": 0,
            "bin_end": 0.1,
            "count": 0
           },
           {
            "bin_start": 0.1,
            "bin_end": 0.2,
            "count": 0
           },
           {
            "bin_start": 0.2,
            "bin_end": 0.30000000000000004,
            "count": 0
           },
           {
            "bin_start": 0.30000000000000004,
            "bin_end": 0.4,
            "count": 0
           },
           {
            "bin_start": 0.4,
            "bin_end": 0.5,
            "count": 0
           },
           {
            "bin_start": 0.5,
            "bin_end": 0.6000000000000001,
            "count": 0
           },
           {
            "bin_start": 0.6000000000000001,
            "bin_end": 0.7000000000000001,
            "count": 0
           },
           {
            "bin_start": 0.7000000000000001,
            "bin_end": 0.8,
            "count": 0
           },
           {
            "bin_start": 0.8,
            "bin_end": 0.9,
            "count": 0
           },
           {
            "bin_start": 0.9,
            "bin_end": 1,
            "count": 0
           }
          ]
         }
        },
        {
         "name": "cardiovasc_death_rate",
         "dtype": "float64",
         "stats": {
          "unique_count": 1,
          "nan_count": 0,
          "min": "597.029",
          "max": "597.029",
          "histogram": [
           {
            "bin_start": 596.529,
            "bin_end": 596.629,
            "count": 0
           },
           {
            "bin_start": 596.629,
            "bin_end": 596.729,
            "count": 0
           },
           {
            "bin_start": 596.729,
            "bin_end": 596.829,
            "count": 0
           },
           {
            "bin_start": 596.829,
            "bin_end": 596.929,
            "count": 0
           },
           {
            "bin_start": 596.929,
            "bin_end": 597.029,
            "count": 0
           },
           {
            "bin_start": 597.029,
            "bin_end": 597.129,
            "count": 5
           },
           {
            "bin_start": 597.129,
            "bin_end": 597.229,
            "count": 0
           },
           {
            "bin_start": 597.229,
            "bin_end": 597.329,
            "count": 0
           },
           {
            "bin_start": 597.329,
            "bin_end": 597.429,
            "count": 0
           },
           {
            "bin_start": 597.429,
            "bin_end": 597.529,
            "count": 0
           }
          ]
         }
        },
        {
         "name": "diabetes_prevalence",
         "dtype": "float64",
         "stats": {
          "unique_count": 1,
          "nan_count": 0,
          "min": "9.59",
          "max": "9.59",
          "histogram": [
           {
            "bin_start": 9.09,
            "bin_end": 9.19,
            "count": 0
           },
           {
            "bin_start": 9.19,
            "bin_end": 9.29,
            "count": 0
           },
           {
            "bin_start": 9.29,
            "bin_end": 9.39,
            "count": 0
           },
           {
            "bin_start": 9.39,
            "bin_end": 9.49,
            "count": 0
           },
           {
            "bin_start": 9.49,
            "bin_end": 9.59,
            "count": 0
           },
           {
            "bin_start": 9.59,
            "bin_end": 9.69,
            "count": 5
           },
           {
            "bin_start": 9.69,
            "bin_end": 9.79,
            "count": 0
           },
           {
            "bin_start": 9.79,
            "bin_end": 9.89,
            "count": 0
           },
           {
            "bin_start": 9.89,
            "bin_end": 9.99,
            "count": 0
           },
           {
            "bin_start": 9.99,
            "bin_end": 10.09,
            "count": 0
           }
          ]
         }
        },
        {
         "name": "female_smokers",
         "dtype": "float64",
         "stats": {
          "unique_count": 0,
          "nan_count": 5,
          "min": null,
          "max": null,
          "histogram": [
           {
            "bin_start": 0,
            "bin_end": 0.1,
            "count": 0
           },
           {
            "bin_start": 0.1,
            "bin_end": 0.2,
            "count": 0
           },
           {
            "bin_start": 0.2,
            "bin_end": 0.30000000000000004,
            "count": 0
           },
           {
            "bin_start": 0.30000000000000004,
            "bin_end": 0.4,
            "count": 0
           },
           {
            "bin_start": 0.4,
            "bin_end": 0.5,
            "count": 0
           },
           {
            "bin_start": 0.5,
            "bin_end": 0.6000000000000001,
            "count": 0
           },
           {
            "bin_start": 0.6000000000000001,
            "bin_end": 0.7000000000000001,
            "count": 0
           },
           {
            "bin_start": 0.7000000000000001,
            "bin_end": 0.8,
            "count": 0
           },
           {
            "bin_start": 0.8,
            "bin_end": 0.9,
            "count": 0
           },
           {
            "bin_start": 0.9,
            "bin_end": 1,
            "count": 0
           }
          ]
         }
        },
        {
         "name": "male_smokers",
         "dtype": "float64",
         "stats": {
          "unique_count": 0,
          "nan_count": 5,
          "min": null,
          "max": null,
          "histogram": [
           {
            "bin_start": 0,
            "bin_end": 0.1,
            "count": 0
           },
           {
            "bin_start": 0.1,
            "bin_end": 0.2,
            "count": 0
           },
           {
            "bin_start": 0.2,
            "bin_end": 0.30000000000000004,
            "count": 0
           },
           {
            "bin_start": 0.30000000000000004,
            "bin_end": 0.4,
            "count": 0
           },
           {
            "bin_start": 0.4,
            "bin_end": 0.5,
            "count": 0
           },
           {
            "bin_start": 0.5,
            "bin_end": 0.6000000000000001,
            "count": 0
           },
           {
            "bin_start": 0.6000000000000001,
            "bin_end": 0.7000000000000001,
            "count": 0
           },
           {
            "bin_start": 0.7000000000000001,
            "bin_end": 0.8,
            "count": 0
           },
           {
            "bin_start": 0.8,
            "bin_end": 0.9,
            "count": 0
           },
           {
            "bin_start": 0.9,
            "bin_end": 1,
            "count": 0
           }
          ]
         }
        },
        {
         "name": "handwashing_facilities",
         "dtype": "float64",
         "stats": {
          "unique_count": 1,
          "nan_count": 0,
          "min": "37.746",
          "max": "37.746",
          "histogram": [
           {
            "bin_start": 37.246,
            "bin_end": 37.346000000000004,
            "count": 0
           },
           {
            "bin_start": 37.346000000000004,
            "bin_end": 37.446000000000005,
            "count": 0
           },
           {
            "bin_start": 37.446000000000005,
            "bin_end": 37.546,
            "count": 0
           },
           {
            "bin_start": 37.546,
            "bin_end": 37.646,
            "count": 0
           },
           {
            "bin_start": 37.646,
            "bin_end": 37.746,
            "count": 0
           },
           {
            "bin_start": 37.746,
            "bin_end": 37.846000000000004,
            "count": 5
           },
           {
            "bin_start": 37.846000000000004,
            "bin_end": 37.946000000000005,
            "count": 0
           },
           {
            "bin_start": 37.946000000000005,
            "bin_end": 38.046,
            "count": 0
           },
           {
            "bin_start": 38.046,
            "bin_end": 38.146,
            "count": 0
           },
           {
            "bin_start": 38.146,
            "bin_end": 38.246,
            "count": 0
           }
          ]
         }
        },
        {
         "name": "hospital_beds_per_thousand",
         "dtype": "float64",
         "stats": {
          "unique_count": 1,
          "nan_count": 0,
          "min": "0.5",
          "max": "0.5",
          "histogram": [
           {
            "bin_start": 0,
            "bin_end": 0.1,
            "count": 0
           },
           {
            "bin_start": 0.1,
            "bin_end": 0.2,
            "count": 0
           },
           {
            "bin_start": 0.2,
            "bin_end": 0.30000000000000004,
            "count": 0
           },
           {
            "bin_start": 0.30000000000000004,
            "bin_end": 0.4,
            "count": 0
           },
           {
            "bin_start": 0.4,
            "bin_end": 0.5,
            "count": 0
           },
           {
            "bin_start": 0.5,
            "bin_end": 0.6000000000000001,
            "count": 5
           },
           {
            "bin_start": 0.6000000000000001,
            "bin_end": 0.7000000000000001,
            "count": 0
           },
           {
            "bin_start": 0.7000000000000001,
            "bin_end": 0.8,
            "count": 0
           },
           {
            "bin_start": 0.8,
            "bin_end": 0.9,
            "count": 0
           },
           {
            "bin_start": 0.9,
            "bin_end": 1,
            "count": 0
           }
          ]
         }
        },
        {
         "name": "life_expectancy",
         "dtype": "float64",
         "stats": {
          "unique_count": 1,
          "nan_count": 0,
          "min": "64.83",
          "max": "64.83",
          "histogram": [
           {
            "bin_start": 64.33,
            "bin_end": 64.42999999999999,
            "count": 0
           },
           {
            "bin_start": 64.42999999999999,
            "bin_end": 64.53,
            "count": 0
           },
           {
            "bin_start": 64.53,
            "bin_end": 64.63,
            "count": 0
           },
           {
            "bin_start": 64.63,
            "bin_end": 64.73,
            "count": 0
           },
           {
            "bin_start": 64.73,
            "bin_end": 64.83,
            "count": 0
           },
           {
            "bin_start": 64.83,
            "bin_end": 64.92999999999999,
            "count": 5
           },
           {
            "bin_start": 64.92999999999999,
            "bin_end": 65.03,
            "count": 0
           },
           {
            "bin_start": 65.03,
            "bin_end": 65.13,
            "count": 0
           },
           {
            "bin_start": 65.13,
            "bin_end": 65.23,
            "count": 0
           },
           {
            "bin_start": 65.23,
            "bin_end": 65.33,
            "count": 0
           }
          ]
         }
        },
        {
         "name": "human_development_index",
         "dtype": "float64",
         "stats": {
          "unique_count": 1,
          "nan_count": 0,
          "min": "0.511",
          "max": "0.511",
          "histogram": [
           {
            "bin_start": 0.01100000000000001,
            "bin_end": 0.11100000000000002,
            "count": 0
           },
           {
            "bin_start": 0.11100000000000002,
            "bin_end": 0.21100000000000002,
            "count": 0
           },
           {
            "bin_start": 0.21100000000000002,
            "bin_end": 0.31100000000000005,
            "count": 0
           },
           {
            "bin_start": 0.31100000000000005,
            "bin_end": 0.41100000000000003,
            "count": 0
           },
           {
            "bin_start": 0.41100000000000003,
            "bin_end": 0.511,
            "count": 0
           },
           {
            "bin_start": 0.511,
            "bin_end": 0.6110000000000001,
            "count": 5
           },
           {
            "bin_start": 0.6110000000000001,
            "bin_end": 0.7110000000000001,
            "count": 0
           },
           {
            "bin_start": 0.7110000000000001,
            "bin_end": 0.811,
            "count": 0
           },
           {
            "bin_start": 0.811,
            "bin_end": 0.911,
            "count": 0
           },
           {
            "bin_start": 0.911,
            "bin_end": 1.0110000000000001,
            "count": 0
           }
          ]
         }
        },
        {
         "name": "excess_mortality_cumulative_absolute",
         "dtype": "float64",
         "stats": {
          "unique_count": 0,
          "nan_count": 5,
          "min": null,
          "max": null,
          "histogram": [
           {
            "bin_start": 0,
            "bin_end": 0.1,
            "count": 0
           },
           {
            "bin_start": 0.1,
            "bin_end": 0.2,
            "count": 0
           },
           {
            "bin_start": 0.2,
            "bin_end": 0.30000000000000004,
            "count": 0
           },
           {
            "bin_start": 0.30000000000000004,
            "bin_end": 0.4,
            "count": 0
           },
           {
            "bin_start": 0.4,
            "bin_end": 0.5,
            "count": 0
           },
           {
            "bin_start": 0.5,
            "bin_end": 0.6000000000000001,
            "count": 0
           },
           {
            "bin_start": 0.6000000000000001,
            "bin_end": 0.7000000000000001,
            "count": 0
           },
           {
            "bin_start": 0.7000000000000001,
            "bin_end": 0.8,
            "count": 0
           },
           {
            "bin_start": 0.8,
            "bin_end": 0.9,
            "count": 0
           },
           {
            "bin_start": 0.9,
            "bin_end": 1,
            "count": 0
           }
          ]
         }
        },
        {
         "name": "excess_mortality_cumulative",
         "dtype": "float64",
         "stats": {
          "unique_count": 0,
          "nan_count": 5,
          "min": null,
          "max": null,
          "histogram": [
           {
            "bin_start": 0,
            "bin_end": 0.1,
            "count": 0
           },
           {
            "bin_start": 0.1,
            "bin_end": 0.2,
            "count": 0
           },
           {
            "bin_start": 0.2,
            "bin_end": 0.30000000000000004,
            "count": 0
           },
           {
            "bin_start": 0.30000000000000004,
            "bin_end": 0.4,
            "count": 0
           },
           {
            "bin_start": 0.4,
            "bin_end": 0.5,
            "count": 0
           },
           {
            "bin_start": 0.5,
            "bin_end": 0.6000000000000001,
            "count": 0
           },
           {
            "bin_start": 0.6000000000000001,
            "bin_end": 0.7000000000000001,
            "count": 0
           },
           {
            "bin_start": 0.7000000000000001,
            "bin_end": 0.8,
            "count": 0
           },
           {
            "bin_start": 0.8,
            "bin_end": 0.9,
            "count": 0
           },
           {
            "bin_start": 0.9,
            "bin_end": 1,
            "count": 0
           }
          ]
         }
        },
        {
         "name": "excess_mortality",
         "dtype": "float64",
         "stats": {
          "unique_count": 0,
          "nan_count": 5,
          "min": null,
          "max": null,
          "histogram": [
           {
            "bin_start": 0,
            "bin_end": 0.1,
            "count": 0
           },
           {
            "bin_start": 0.1,
            "bin_end": 0.2,
            "count": 0
           },
           {
            "bin_start": 0.2,
            "bin_end": 0.30000000000000004,
            "count": 0
           },
           {
            "bin_start": 0.30000000000000004,
            "bin_end": 0.4,
            "count": 0
           },
           {
            "bin_start": 0.4,
            "bin_end": 0.5,
            "count": 0
           },
           {
            "bin_start": 0.5,
            "bin_end": 0.6000000000000001,
            "count": 0
           },
           {
            "bin_start": 0.6000000000000001,
            "bin_end": 0.7000000000000001,
            "count": 0
           },
           {
            "bin_start": 0.7000000000000001,
            "bin_end": 0.8,
            "count": 0
           },
           {
            "bin_start": 0.8,
            "bin_end": 0.9,
            "count": 0
           },
           {
            "bin_start": 0.9,
            "bin_end": 1,
            "count": 0
           }
          ]
         }
        },
        {
         "name": "excess_mortality_cumulative_per_million",
         "dtype": "float64",
         "stats": {
          "unique_count": 0,
          "nan_count": 5,
          "min": null,
          "max": null,
          "histogram": [
           {
            "bin_start": 0,
            "bin_end": 0.1,
            "count": 0
           },
           {
            "bin_start": 0.1,
            "bin_end": 0.2,
            "count": 0
           },
           {
            "bin_start": 0.2,
            "bin_end": 0.30000000000000004,
            "count": 0
           },
           {
            "bin_start": 0.30000000000000004,
            "bin_end": 0.4,
            "count": 0
           },
           {
            "bin_start": 0.4,
            "bin_end": 0.5,
            "count": 0
           },
           {
            "bin_start": 0.5,
            "bin_end": 0.6000000000000001,
            "count": 0
           },
           {
            "bin_start": 0.6000000000000001,
            "bin_end": 0.7000000000000001,
            "count": 0
           },
           {
            "bin_start": 0.7000000000000001,
            "bin_end": 0.8,
            "count": 0
           },
           {
            "bin_start": 0.8,
            "bin_end": 0.9,
            "count": 0
           },
           {
            "bin_start": 0.9,
            "bin_end": 1,
            "count": 0
           }
          ]
         }
        },
        {
         "name": "_deepnote_index_column",
         "dtype": "int64"
        }
       ],
       "rows": [
        {
         "iso_code": "AFG",
         "continent": "Asia",
         "location": "Afghanistan",
         "date": "2020-02-24",
         "total_cases": 5,
         "new_cases": 5,
         "new_cases_smoothed": "nan",
         "total_deaths": "nan",
         "new_deaths": "nan",
         "new_deaths_smoothed": "nan",
         "total_cases_per_million": 0.126,
         "new_cases_per_million": 0.126,
         "new_cases_smoothed_per_million": "nan",
         "total_deaths_per_million": "nan",
         "new_deaths_per_million": "nan",
         "new_deaths_smoothed_per_million": "nan",
         "reproduction_rate": "nan",
         "icu_patients": "nan",
         "icu_patients_per_million": "nan",
         "hosp_patients": "nan",
         "hosp_patients_per_million": "nan",
         "weekly_icu_admissions": "nan",
         "weekly_icu_admissions_per_million": "nan",
         "weekly_hosp_admissions": "nan",
         "weekly_hosp_admissions_per_million": "nan",
         "new_tests": "nan",
         "total_tests": "nan",
         "total_tests_per_thousand": "nan",
         "new_tests_per_thousand": "nan",
         "new_tests_smoothed": "nan",
         "new_tests_smoothed_per_thousand": "nan",
         "positive_rate": "nan",
         "tests_per_case": "nan",
         "tests_units": "nan",
         "total_vaccinations": "nan",
         "people_vaccinated": "nan",
         "people_fully_vaccinated": "nan",
         "total_boosters": "nan",
         "new_vaccinations": "nan",
         "new_vaccinations_smoothed": "nan",
         "total_vaccinations_per_hundred": "nan",
         "people_vaccinated_per_hundred": "nan",
         "people_fully_vaccinated_per_hundred": "nan",
         "total_boosters_per_hundred": "nan",
         "new_vaccinations_smoothed_per_million": "nan",
         "new_people_vaccinated_smoothed": "nan",
         "new_people_vaccinated_smoothed_per_hundred": "nan",
         "stringency_index": 8.33,
         "population": 39835428,
         "population_density": 54.422,
         "median_age": 18.6,
         "aged_65_older": 2.581,
         "aged_70_older": 1.337,
         "gdp_per_capita": 1803.987,
         "extreme_poverty": "nan",
         "cardiovasc_death_rate": 597.029,
         "diabetes_prevalence": 9.59,
         "female_smokers": "nan",
         "male_smokers": "nan",
         "handwashing_facilities": 37.746,
         "hospital_beds_per_thousand": 0.5,
         "life_expectancy": 64.83,
         "human_development_index": 0.511,
         "excess_mortality_cumulative_absolute": "nan",
         "excess_mortality_cumulative": "nan",
         "excess_mortality": "nan",
         "excess_mortality_cumulative_per_million": "nan",
         "_deepnote_index_column": 0
        },
        {
         "iso_code": "AFG",
         "continent": "Asia",
         "location": "Afghanistan",
         "date": "2020-02-25",
         "total_cases": 5,
         "new_cases": 0,
         "new_cases_smoothed": "nan",
         "total_deaths": "nan",
         "new_deaths": "nan",
         "new_deaths_smoothed": "nan",
         "total_cases_per_million": 0.126,
         "new_cases_per_million": 0,
         "new_cases_smoothed_per_million": "nan",
         "total_deaths_per_million": "nan",
         "new_deaths_per_million": "nan",
         "new_deaths_smoothed_per_million": "nan",
         "reproduction_rate": "nan",
         "icu_patients": "nan",
         "icu_patients_per_million": "nan",
         "hosp_patients": "nan",
         "hosp_patients_per_million": "nan",
         "weekly_icu_admissions": "nan",
         "weekly_icu_admissions_per_million": "nan",
         "weekly_hosp_admissions": "nan",
         "weekly_hosp_admissions_per_million": "nan",
         "new_tests": "nan",
         "total_tests": "nan",
         "total_tests_per_thousand": "nan",
         "new_tests_per_thousand": "nan",
         "new_tests_smoothed": "nan",
         "new_tests_smoothed_per_thousand": "nan",
         "positive_rate": "nan",
         "tests_per_case": "nan",
         "tests_units": "nan",
         "total_vaccinations": "nan",
         "people_vaccinated": "nan",
         "people_fully_vaccinated": "nan",
         "total_boosters": "nan",
         "new_vaccinations": "nan",
         "new_vaccinations_smoothed": "nan",
         "total_vaccinations_per_hundred": "nan",
         "people_vaccinated_per_hundred": "nan",
         "people_fully_vaccinated_per_hundred": "nan",
         "total_boosters_per_hundred": "nan",
         "new_vaccinations_smoothed_per_million": "nan",
         "new_people_vaccinated_smoothed": "nan",
         "new_people_vaccinated_smoothed_per_hundred": "nan",
         "stringency_index": 8.33,
         "population": 39835428,
         "population_density": 54.422,
         "median_age": 18.6,
         "aged_65_older": 2.581,
         "aged_70_older": 1.337,
         "gdp_per_capita": 1803.987,
         "extreme_poverty": "nan",
         "cardiovasc_death_rate": 597.029,
         "diabetes_prevalence": 9.59,
         "female_smokers": "nan",
         "male_smokers": "nan",
         "handwashing_facilities": 37.746,
         "hospital_beds_per_thousand": 0.5,
         "life_expectancy": 64.83,
         "human_development_index": 0.511,
         "excess_mortality_cumulative_absolute": "nan",
         "excess_mortality_cumulative": "nan",
         "excess_mortality": "nan",
         "excess_mortality_cumulative_per_million": "nan",
         "_deepnote_index_column": 1
        },
        {
         "iso_code": "AFG",
         "continent": "Asia",
         "location": "Afghanistan",
         "date": "2020-02-26",
         "total_cases": 5,
         "new_cases": 0,
         "new_cases_smoothed": "nan",
         "total_deaths": "nan",
         "new_deaths": "nan",
         "new_deaths_smoothed": "nan",
         "total_cases_per_million": 0.126,
         "new_cases_per_million": 0,
         "new_cases_smoothed_per_million": "nan",
         "total_deaths_per_million": "nan",
         "new_deaths_per_million": "nan",
         "new_deaths_smoothed_per_million": "nan",
         "reproduction_rate": "nan",
         "icu_patients": "nan",
         "icu_patients_per_million": "nan",
         "hosp_patients": "nan",
         "hosp_patients_per_million": "nan",
         "weekly_icu_admissions": "nan",
         "weekly_icu_admissions_per_million": "nan",
         "weekly_hosp_admissions": "nan",
         "weekly_hosp_admissions_per_million": "nan",
         "new_tests": "nan",
         "total_tests": "nan",
         "total_tests_per_thousand": "nan",
         "new_tests_per_thousand": "nan",
         "new_tests_smoothed": "nan",
         "new_tests_smoothed_per_thousand": "nan",
         "positive_rate": "nan",
         "tests_per_case": "nan",
         "tests_units": "nan",
         "total_vaccinations": "nan",
         "people_vaccinated": "nan",
         "people_fully_vaccinated": "nan",
         "total_boosters": "nan",
         "new_vaccinations": "nan",
         "new_vaccinations_smoothed": "nan",
         "total_vaccinations_per_hundred": "nan",
         "people_vaccinated_per_hundred": "nan",
         "people_fully_vaccinated_per_hundred": "nan",
         "total_boosters_per_hundred": "nan",
         "new_vaccinations_smoothed_per_million": "nan",
         "new_people_vaccinated_smoothed": "nan",
         "new_people_vaccinated_smoothed_per_hundred": "nan",
         "stringency_index": 8.33,
         "population": 39835428,
         "population_density": 54.422,
         "median_age": 18.6,
         "aged_65_older": 2.581,
         "aged_70_older": 1.337,
         "gdp_per_capita": 1803.987,
         "extreme_poverty": "nan",
         "cardiovasc_death_rate": 597.029,
         "diabetes_prevalence": 9.59,
         "female_smokers": "nan",
         "male_smokers": "nan",
         "handwashing_facilities": 37.746,
         "hospital_beds_per_thousand": 0.5,
         "life_expectancy": 64.83,
         "human_development_index": 0.511,
         "excess_mortality_cumulative_absolute": "nan",
         "excess_mortality_cumulative": "nan",
         "excess_mortality": "nan",
         "excess_mortality_cumulative_per_million": "nan",
         "_deepnote_index_column": 2
        },
        {
         "iso_code": "AFG",
         "continent": "Asia",
         "location": "Afghanistan",
         "date": "2020-02-27",
         "total_cases": 5,
         "new_cases": 0,
         "new_cases_smoothed": "nan",
         "total_deaths": "nan",
         "new_deaths": "nan",
         "new_deaths_smoothed": "nan",
         "total_cases_per_million": 0.126,
         "new_cases_per_million": 0,
         "new_cases_smoothed_per_million": "nan",
         "total_deaths_per_million": "nan",
         "new_deaths_per_million": "nan",
         "new_deaths_smoothed_per_million": "nan",
         "reproduction_rate": "nan",
         "icu_patients": "nan",
         "icu_patients_per_million": "nan",
         "hosp_patients": "nan",
         "hosp_patients_per_million": "nan",
         "weekly_icu_admissions": "nan",
         "weekly_icu_admissions_per_million": "nan",
         "weekly_hosp_admissions": "nan",
         "weekly_hosp_admissions_per_million": "nan",
         "new_tests": "nan",
         "total_tests": "nan",
         "total_tests_per_thousand": "nan",
         "new_tests_per_thousand": "nan",
         "new_tests_smoothed": "nan",
         "new_tests_smoothed_per_thousand": "nan",
         "positive_rate": "nan",
         "tests_per_case": "nan",
         "tests_units": "nan",
         "total_vaccinations": "nan",
         "people_vaccinated": "nan",
         "people_fully_vaccinated": "nan",
         "total_boosters": "nan",
         "new_vaccinations": "nan",
         "new_vaccinations_smoothed": "nan",
         "total_vaccinations_per_hundred": "nan",
         "people_vaccinated_per_hundred": "nan",
         "people_fully_vaccinated_per_hundred": "nan",
         "total_boosters_per_hundred": "nan",
         "new_vaccinations_smoothed_per_million": "nan",
         "new_people_vaccinated_smoothed": "nan",
         "new_people_vaccinated_smoothed_per_hundred": "nan",
         "stringency_index": 8.33,
         "population": 39835428,
         "population_density": 54.422,
         "median_age": 18.6,
         "aged_65_older": 2.581,
         "aged_70_older": 1.337,
         "gdp_per_capita": 1803.987,
         "extreme_poverty": "nan",
         "cardiovasc_death_rate": 597.029,
         "diabetes_prevalence": 9.59,
         "female_smokers": "nan",
         "male_smokers": "nan",
         "handwashing_facilities": 37.746,
         "hospital_beds_per_thousand": 0.5,
         "life_expectancy": 64.83,
         "human_development_index": 0.511,
         "excess_mortality_cumulative_absolute": "nan",
         "excess_mortality_cumulative": "nan",
         "excess_mortality": "nan",
         "excess_mortality_cumulative_per_million": "nan",
         "_deepnote_index_column": 3
        },
        {
         "iso_code": "AFG",
         "continent": "Asia",
         "location": "Afghanistan",
         "date": "2020-02-28",
         "total_cases": 5,
         "new_cases": 0,
         "new_cases_smoothed": "nan",
         "total_deaths": "nan",
         "new_deaths": "nan",
         "new_deaths_smoothed": "nan",
         "total_cases_per_million": 0.126,
         "new_cases_per_million": 0,
         "new_cases_smoothed_per_million": "nan",
         "total_deaths_per_million": "nan",
         "new_deaths_per_million": "nan",
         "new_deaths_smoothed_per_million": "nan",
         "reproduction_rate": "nan",
         "icu_patients": "nan",
         "icu_patients_per_million": "nan",
         "hosp_patients": "nan",
         "hosp_patients_per_million": "nan",
         "weekly_icu_admissions": "nan",
         "weekly_icu_admissions_per_million": "nan",
         "weekly_hosp_admissions": "nan",
         "weekly_hosp_admissions_per_million": "nan",
         "new_tests": "nan",
         "total_tests": "nan",
         "total_tests_per_thousand": "nan",
         "new_tests_per_thousand": "nan",
         "new_tests_smoothed": "nan",
         "new_tests_smoothed_per_thousand": "nan",
         "positive_rate": "nan",
         "tests_per_case": "nan",
         "tests_units": "nan",
         "total_vaccinations": "nan",
         "people_vaccinated": "nan",
         "people_fully_vaccinated": "nan",
         "total_boosters": "nan",
         "new_vaccinations": "nan",
         "new_vaccinations_smoothed": "nan",
         "total_vaccinations_per_hundred": "nan",
         "people_vaccinated_per_hundred": "nan",
         "people_fully_vaccinated_per_hundred": "nan",
         "total_boosters_per_hundred": "nan",
         "new_vaccinations_smoothed_per_million": "nan",
         "new_people_vaccinated_smoothed": "nan",
         "new_people_vaccinated_smoothed_per_hundred": "nan",
         "stringency_index": 8.33,
         "population": 39835428,
         "population_density": 54.422,
         "median_age": 18.6,
         "aged_65_older": 2.581,
         "aged_70_older": 1.337,
         "gdp_per_capita": 1803.987,
         "extreme_poverty": "nan",
         "cardiovasc_death_rate": 597.029,
         "diabetes_prevalence": 9.59,
         "female_smokers": "nan",
         "male_smokers": "nan",
         "handwashing_facilities": 37.746,
         "hospital_beds_per_thousand": 0.5,
         "life_expectancy": 64.83,
         "human_development_index": 0.511,
         "excess_mortality_cumulative_absolute": "nan",
         "excess_mortality_cumulative": "nan",
         "excess_mortality": "nan",
         "excess_mortality_cumulative_per_million": "nan",
         "_deepnote_index_column": 4
        }
       ]
      },
      "text/plain": "  iso_code continent     location        date  total_cases  new_cases  \\\n0      AFG      Asia  Afghanistan  2020-02-24          5.0        5.0   \n1      AFG      Asia  Afghanistan  2020-02-25          5.0        0.0   \n2      AFG      Asia  Afghanistan  2020-02-26          5.0        0.0   \n3      AFG      Asia  Afghanistan  2020-02-27          5.0        0.0   \n4      AFG      Asia  Afghanistan  2020-02-28          5.0        0.0   \n\n   new_cases_smoothed  total_deaths  new_deaths  new_deaths_smoothed  ...  \\\n0                 NaN           NaN         NaN                  NaN  ...   \n1                 NaN           NaN         NaN                  NaN  ...   \n2                 NaN           NaN         NaN                  NaN  ...   \n3                 NaN           NaN         NaN                  NaN  ...   \n4                 NaN           NaN         NaN                  NaN  ...   \n\n   female_smokers  male_smokers  handwashing_facilities  \\\n0             NaN           NaN                  37.746   \n1             NaN           NaN                  37.746   \n2             NaN           NaN                  37.746   \n3             NaN           NaN                  37.746   \n4             NaN           NaN                  37.746   \n\n   hospital_beds_per_thousand  life_expectancy  human_development_index  \\\n0                         0.5            64.83                    0.511   \n1                         0.5            64.83                    0.511   \n2                         0.5            64.83                    0.511   \n3                         0.5            64.83                    0.511   \n4                         0.5            64.83                    0.511   \n\n   excess_mortality_cumulative_absolute  excess_mortality_cumulative  \\\n0                                   NaN                          NaN   \n1                                   NaN                          NaN   \n2                                   NaN                          NaN   \n3                                   NaN                          NaN   \n4                                   NaN                          NaN   \n\n   excess_mortality  excess_mortality_cumulative_per_million  \n0               NaN                                      NaN  \n1               NaN                                      NaN  \n2               NaN                                      NaN  \n3               NaN                                      NaN  \n4               NaN                                      NaN  \n\n[5 rows x 67 columns]",
      "text/html": "<div>\n<style scoped>\n    .dataframe tbody tr th:only-of-type {\n        vertical-align: middle;\n    }\n\n    .dataframe tbody tr th {\n        vertical-align: top;\n    }\n\n    .dataframe thead th {\n        text-align: right;\n    }\n</style>\n<table border=\"1\" class=\"dataframe\">\n  <thead>\n    <tr style=\"text-align: right;\">\n      <th></th>\n      <th>iso_code</th>\n      <th>continent</th>\n      <th>location</th>\n      <th>date</th>\n      <th>total_cases</th>\n      <th>new_cases</th>\n      <th>new_cases_smoothed</th>\n      <th>total_deaths</th>\n      <th>new_deaths</th>\n      <th>new_deaths_smoothed</th>\n      <th>...</th>\n      <th>female_smokers</th>\n      <th>male_smokers</th>\n      <th>handwashing_facilities</th>\n      <th>hospital_beds_per_thousand</th>\n      <th>life_expectancy</th>\n      <th>human_development_index</th>\n      <th>excess_mortality_cumulative_absolute</th>\n      <th>excess_mortality_cumulative</th>\n      <th>excess_mortality</th>\n      <th>excess_mortality_cumulative_per_million</th>\n    </tr>\n  </thead>\n  <tbody>\n    <tr>\n      <th>0</th>\n      <td>AFG</td>\n      <td>Asia</td>\n      <td>Afghanistan</td>\n      <td>2020-02-24</td>\n      <td>5.0</td>\n      <td>5.0</td>\n      <td>NaN</td>\n      <td>NaN</td>\n      <td>NaN</td>\n      <td>NaN</td>\n      <td>...</td>\n      <td>NaN</td>\n      <td>NaN</td>\n      <td>37.746</td>\n      <td>0.5</td>\n      <td>64.83</td>\n      <td>0.511</td>\n      <td>NaN</td>\n      <td>NaN</td>\n      <td>NaN</td>\n      <td>NaN</td>\n    </tr>\n    <tr>\n      <th>1</th>\n      <td>AFG</td>\n      <td>Asia</td>\n      <td>Afghanistan</td>\n      <td>2020-02-25</td>\n      <td>5.0</td>\n      <td>0.0</td>\n      <td>NaN</td>\n      <td>NaN</td>\n      <td>NaN</td>\n      <td>NaN</td>\n      <td>...</td>\n      <td>NaN</td>\n      <td>NaN</td>\n      <td>37.746</td>\n      <td>0.5</td>\n      <td>64.83</td>\n      <td>0.511</td>\n      <td>NaN</td>\n      <td>NaN</td>\n      <td>NaN</td>\n      <td>NaN</td>\n    </tr>\n    <tr>\n      <th>2</th>\n      <td>AFG</td>\n      <td>Asia</td>\n      <td>Afghanistan</td>\n      <td>2020-02-26</td>\n      <td>5.0</td>\n      <td>0.0</td>\n      <td>NaN</td>\n      <td>NaN</td>\n      <td>NaN</td>\n      <td>NaN</td>\n      <td>...</td>\n      <td>NaN</td>\n      <td>NaN</td>\n      <td>37.746</td>\n      <td>0.5</td>\n      <td>64.83</td>\n      <td>0.511</td>\n      <td>NaN</td>\n      <td>NaN</td>\n      <td>NaN</td>\n      <td>NaN</td>\n    </tr>\n    <tr>\n      <th>3</th>\n      <td>AFG</td>\n      <td>Asia</td>\n      <td>Afghanistan</td>\n      <td>2020-02-27</td>\n      <td>5.0</td>\n      <td>0.0</td>\n      <td>NaN</td>\n      <td>NaN</td>\n      <td>NaN</td>\n      <td>NaN</td>\n      <td>...</td>\n      <td>NaN</td>\n      <td>NaN</td>\n      <td>37.746</td>\n      <td>0.5</td>\n      <td>64.83</td>\n      <td>0.511</td>\n      <td>NaN</td>\n      <td>NaN</td>\n      <td>NaN</td>\n      <td>NaN</td>\n    </tr>\n    <tr>\n      <th>4</th>\n      <td>AFG</td>\n      <td>Asia</td>\n      <td>Afghanistan</td>\n      <td>2020-02-28</td>\n      <td>5.0</td>\n      <td>0.0</td>\n      <td>NaN</td>\n      <td>NaN</td>\n      <td>NaN</td>\n      <td>NaN</td>\n      <td>...</td>\n      <td>NaN</td>\n      <td>NaN</td>\n      <td>37.746</td>\n      <td>0.5</td>\n      <td>64.83</td>\n      <td>0.511</td>\n      <td>NaN</td>\n      <td>NaN</td>\n      <td>NaN</td>\n      <td>NaN</td>\n    </tr>\n  </tbody>\n</table>\n<p>5 rows × 67 columns</p>\n</div>"
     },
     "metadata": {}
    }
   ]
  },
  {
   "cell_type": "markdown",
   "source": "#### Extracting a subset of data",
   "metadata": {
    "cell_id": "00006-a2fc2447-1e3f-4a59-8504-9c64c6fa3e88",
    "deepnote_cell_type": "markdown"
   }
  },
  {
   "cell_type": "code",
   "metadata": {
    "scrolled": true,
    "cell_id": "00007-89b4e195-613f-47c3-bb47-998ddf6efaf2",
    "deepnote_to_be_reexecuted": false,
    "source_hash": "8148a367",
    "execution_start": 1646050810943,
    "execution_millis": 690,
    "deepnote_cell_type": "code"
   },
   "source": "# Selecting a subset of data corresponding to the location Uruguay\nuy = df[df[\"location\"] == \"Uruguay\"]\n# Printing first 5 rows\nuy.tail()",
   "execution_count": 6,
   "outputs": [
    {
     "output_type": "execute_result",
     "execution_count": 6,
     "data": {
      "application/vnd.deepnote.dataframe.v3+json": {
       "column_count": 67,
       "row_count": 5,
       "columns": [
        {
         "name": "iso_code",
         "dtype": "object",
         "stats": {
          "unique_count": 1,
          "nan_count": 0,
          "categories": [
           {
            "name": "URY",
            "count": 5
           }
          ]
         }
        },
        {
         "name": "continent",
         "dtype": "object",
         "stats": {
          "unique_count": 1,
          "nan_count": 0,
          "categories": [
           {
            "name": "South America",
            "count": 5
           }
          ]
         }
        },
        {
         "name": "location",
         "dtype": "object",
         "stats": {
          "unique_count": 1,
          "nan_count": 0,
          "categories": [
           {
            "name": "Uruguay",
            "count": 5
           }
          ]
         }
        },
        {
         "name": "date",
         "dtype": "object",
         "stats": {
          "unique_count": 5,
          "nan_count": 0,
          "categories": [
           {
            "name": "2022-02-23",
            "count": 1
           },
           {
            "name": "2022-02-24",
            "count": 1
           },
           {
            "name": "3 others",
            "count": 3
           }
          ]
         }
        },
        {
         "name": "total_cases",
         "dtype": "float64",
         "stats": {
          "unique_count": 5,
          "nan_count": 0,
          "min": "827814.0",
          "max": "840511.0",
          "histogram": [
           {
            "bin_start": 827814,
            "bin_end": 829083.7,
            "count": 1
           },
           {
            "bin_start": 829083.7,
            "bin_end": 830353.4,
            "count": 0
           },
           {
            "bin_start": 830353.4,
            "bin_end": 831623.1,
            "count": 0
           },
           {
            "bin_start": 831623.1,
            "bin_end": 832892.8,
            "count": 1
           },
           {
            "bin_start": 832892.8,
            "bin_end": 834162.5,
            "count": 0
           },
           {
            "bin_start": 834162.5,
            "bin_end": 835432.2,
            "count": 1
           },
           {
            "bin_start": 835432.2,
            "bin_end": 836701.9,
            "count": 0
           },
           {
            "bin_start": 836701.9,
            "bin_end": 837971.6,
            "count": 0
           },
           {
            "bin_start": 837971.6,
            "bin_end": 839241.3,
            "count": 1
           },
           {
            "bin_start": 839241.3,
            "bin_end": 840511,
            "count": 1
           }
          ]
         }
        },
        {
         "name": "new_cases",
         "dtype": "float64",
         "stats": {
          "unique_count": 5,
          "nan_count": 0,
          "min": "2170.0",
          "max": "4136.0",
          "histogram": [
           {
            "bin_start": 2170,
            "bin_end": 2366.6,
            "count": 1
           },
           {
            "bin_start": 2366.6,
            "bin_end": 2563.2,
            "count": 0
           },
           {
            "bin_start": 2563.2,
            "bin_end": 2759.8,
            "count": 0
           },
           {
            "bin_start": 2759.8,
            "bin_end": 2956.4,
            "count": 0
           },
           {
            "bin_start": 2956.4,
            "bin_end": 3153,
            "count": 1
           },
           {
            "bin_start": 3153,
            "bin_end": 3349.6,
            "count": 0
           },
           {
            "bin_start": 3349.6,
            "bin_end": 3546.2,
            "count": 1
           },
           {
            "bin_start": 3546.2,
            "bin_end": 3742.8,
            "count": 0
           },
           {
            "bin_start": 3742.8,
            "bin_end": 3939.3999999999996,
            "count": 0
           },
           {
            "bin_start": 3939.3999999999996,
            "bin_end": 4136,
            "count": 2
           }
          ]
         }
        },
        {
         "name": "new_cases_smoothed",
         "dtype": "float64",
         "stats": {
          "unique_count": 5,
          "nan_count": 0,
          "min": "3543.857",
          "max": "4642.571",
          "histogram": [
           {
            "bin_start": 3543.857,
            "bin_end": 3653.7284,
            "count": 1
           },
           {
            "bin_start": 3653.7284,
            "bin_end": 3763.5998,
            "count": 1
           },
           {
            "bin_start": 3763.5998,
            "bin_end": 3873.4712,
            "count": 0
           },
           {
            "bin_start": 3873.4712,
            "bin_end": 3983.3426,
            "count": 1
           },
           {
            "bin_start": 3983.3426,
            "bin_end": 4093.214,
            "count": 0
           },
           {
            "bin_start": 4093.214,
            "bin_end": 4203.0854,
            "count": 0
           },
           {
            "bin_start": 4203.0854,
            "bin_end": 4312.9568,
            "count": 0
           },
           {
            "bin_start": 4312.9568,
            "bin_end": 4422.8282,
            "count": 0
           },
           {
            "bin_start": 4422.8282,
            "bin_end": 4532.6996,
            "count": 1
           },
           {
            "bin_start": 4532.6996,
            "bin_end": 4642.571,
            "count": 1
           }
          ]
         }
        },
        {
         "name": "total_deaths",
         "dtype": "float64",
         "stats": {
          "unique_count": 5,
          "nan_count": 0,
          "min": "6919.0",
          "max": "6977.0",
          "histogram": [
           {
            "bin_start": 6919,
            "bin_end": 6924.8,
            "count": 1
           },
           {
            "bin_start": 6924.8,
            "bin_end": 6930.6,
            "count": 0
           },
           {
            "bin_start": 6930.6,
            "bin_end": 6936.4,
            "count": 1
           },
           {
            "bin_start": 6936.4,
            "bin_end": 6942.2,
            "count": 0
           },
           {
            "bin_start": 6942.2,
            "bin_end": 6948,
            "count": 0
           },
           {
            "bin_start": 6948,
            "bin_end": 6953.8,
            "count": 1
           },
           {
            "bin_start": 6953.8,
            "bin_end": 6959.6,
            "count": 0
           },
           {
            "bin_start": 6959.6,
            "bin_end": 6965.4,
            "count": 1
           },
           {
            "bin_start": 6965.4,
            "bin_end": 6971.2,
            "count": 0
           },
           {
            "bin_start": 6971.2,
            "bin_end": 6977,
            "count": 1
           }
          ]
         }
        },
        {
         "name": "new_deaths",
         "dtype": "float64",
         "stats": {
          "unique_count": 5,
          "nan_count": 0,
          "min": "12.0",
          "max": "17.0",
          "histogram": [
           {
            "bin_start": 12,
            "bin_end": 12.5,
            "count": 1
           },
           {
            "bin_start": 12.5,
            "bin_end": 13,
            "count": 0
           },
           {
            "bin_start": 13,
            "bin_end": 13.5,
            "count": 1
           },
           {
            "bin_start": 13.5,
            "bin_end": 14,
            "count": 0
           },
           {
            "bin_start": 14,
            "bin_end": 14.5,
            "count": 1
           },
           {
            "bin_start": 14.5,
            "bin_end": 15,
            "count": 0
           },
           {
            "bin_start": 15,
            "bin_end": 15.5,
            "count": 0
           },
           {
            "bin_start": 15.5,
            "bin_end": 16,
            "count": 0
           },
           {
            "bin_start": 16,
            "bin_end": 16.5,
            "count": 1
           },
           {
            "bin_start": 16.5,
            "bin_end": 17,
            "count": 1
           }
          ]
         }
        },
        {
         "name": "new_deaths_smoothed",
         "dtype": "float64",
         "stats": {
          "unique_count": 5,
          "nan_count": 0,
          "min": "13.429",
          "max": "14.143",
          "histogram": [
           {
            "bin_start": 13.429,
            "bin_end": 13.5004,
            "count": 1
           },
           {
            "bin_start": 13.5004,
            "bin_end": 13.5718,
            "count": 1
           },
           {
            "bin_start": 13.5718,
            "bin_end": 13.6432,
            "count": 0
           },
           {
            "bin_start": 13.6432,
            "bin_end": 13.7146,
            "count": 1
           },
           {
            "bin_start": 13.7146,
            "bin_end": 13.786000000000001,
            "count": 0
           },
           {
            "bin_start": 13.786000000000001,
            "bin_end": 13.8574,
            "count": 0
           },
           {
            "bin_start": 13.8574,
            "bin_end": 13.9288,
            "count": 0
           },
           {
            "bin_start": 13.9288,
            "bin_end": 14.000200000000001,
            "count": 1
           },
           {
            "bin_start": 14.000200000000001,
            "bin_end": 14.0716,
            "count": 0
           },
           {
            "bin_start": 14.0716,
            "bin_end": 14.143,
            "count": 1
           }
          ]
         }
        },
        {
         "name": "total_cases_per_million",
         "dtype": "float64",
         "stats": {
          "unique_count": 5,
          "nan_count": 0,
          "min": "237525.939",
          "max": "241169.108",
          "histogram": [
           {
            "bin_start": 237525.939,
            "bin_end": 237890.25590000002,
            "count": 1
           },
           {
            "bin_start": 237890.25590000002,
            "bin_end": 238254.57280000002,
            "count": 0
           },
           {
            "bin_start": 238254.57280000002,
            "bin_end": 238618.8897,
            "count": 0
           },
           {
            "bin_start": 238618.8897,
            "bin_end": 238983.2066,
            "count": 1
           },
           {
            "bin_start": 238983.2066,
            "bin_end": 239347.5235,
            "count": 0
           },
           {
            "bin_start": 239347.5235,
            "bin_end": 239711.84040000002,
            "count": 1
           },
           {
            "bin_start": 239711.84040000002,
            "bin_end": 240076.15730000002,
            "count": 0
           },
           {
            "bin_start": 240076.15730000002,
            "bin_end": 240440.4742,
            "count": 0
           },
           {
            "bin_start": 240440.4742,
            "bin_end": 240804.7911,
            "count": 1
           },
           {
            "bin_start": 240804.7911,
            "bin_end": 241169.108,
            "count": 1
           }
          ]
         }
        },
        {
         "name": "new_cases_per_million",
         "dtype": "float64",
         "stats": {
          "unique_count": 5,
          "nan_count": 0,
          "min": "622.641",
          "max": "1186.749",
          "histogram": [
           {
            "bin_start": 622.641,
            "bin_end": 679.0518,
            "count": 1
           },
           {
            "bin_start": 679.0518,
            "bin_end": 735.4626,
            "count": 0
           },
           {
            "bin_start": 735.4626,
            "bin_end": 791.8734,
            "count": 0
           },
           {
            "bin_start": 791.8734,
            "bin_end": 848.2842,
            "count": 0
           },
           {
            "bin_start": 848.2842,
            "bin_end": 904.6949999999999,
            "count": 1
           },
           {
            "bin_start": 904.6949999999999,
            "bin_end": 961.1058,
            "count": 0
           },
           {
            "bin_start": 961.1058,
            "bin_end": 1017.5166,
            "count": 1
           },
           {
            "bin_start": 1017.5166,
            "bin_end": 1073.9274,
            "count": 0
           },
           {
            "bin_start": 1073.9274,
            "bin_end": 1130.3382000000001,
            "count": 0
           },
           {
            "bin_start": 1130.3382000000001,
            "bin_end": 1186.749,
            "count": 2
           }
          ]
         }
        },
        {
         "name": "new_cases_smoothed_per_million",
         "dtype": "float64",
         "stats": {
          "unique_count": 5,
          "nan_count": 0,
          "min": "1016.844",
          "max": "1332.1",
          "histogram": [
           {
            "bin_start": 1016.844,
            "bin_end": 1048.3696,
            "count": 1
           },
           {
            "bin_start": 1048.3696,
            "bin_end": 1079.8952,
            "count": 1
           },
           {
            "bin_start": 1079.8952,
            "bin_end": 1111.4208,
            "count": 0
           },
           {
            "bin_start": 1111.4208,
            "bin_end": 1142.9464,
            "count": 1
           },
           {
            "bin_start": 1142.9464,
            "bin_end": 1174.472,
            "count": 0
           },
           {
            "bin_start": 1174.472,
            "bin_end": 1205.9976,
            "count": 0
           },
           {
            "bin_start": 1205.9976,
            "bin_end": 1237.5231999999999,
            "count": 0
           },
           {
            "bin_start": 1237.5231999999999,
            "bin_end": 1269.0488,
            "count": 0
           },
           {
            "bin_start": 1269.0488,
            "bin_end": 1300.5744,
            "count": 1
           },
           {
            "bin_start": 1300.5744,
            "bin_end": 1332.1,
            "count": 1
           }
          ]
         }
        },
        {
         "name": "total_deaths_per_million",
         "dtype": "float64",
         "stats": {
          "unique_count": 5,
          "nan_count": 0,
          "min": "1985.279",
          "max": "2001.921",
          "histogram": [
           {
            "bin_start": 1985.279,
            "bin_end": 1986.9432,
            "count": 1
           },
           {
            "bin_start": 1986.9432,
            "bin_end": 1988.6074,
            "count": 0
           },
           {
            "bin_start": 1988.6074,
            "bin_end": 1990.2716,
            "count": 1
           },
           {
            "bin_start": 1990.2716,
            "bin_end": 1991.9358,
            "count": 0
           },
           {
            "bin_start": 1991.9358,
            "bin_end": 1993.6,
            "count": 0
           },
           {
            "bin_start": 1993.6,
            "bin_end": 1995.2642,
            "count": 1
           },
           {
            "bin_start": 1995.2642,
            "bin_end": 1996.9284,
            "count": 0
           },
           {
            "bin_start": 1996.9284,
            "bin_end": 1998.5926,
            "count": 1
           },
           {
            "bin_start": 1998.5926,
            "bin_end": 2000.2568,
            "count": 0
           },
           {
            "bin_start": 2000.2568,
            "bin_end": 2001.921,
            "count": 1
           }
          ]
         }
        },
        {
         "name": "new_deaths_per_million",
         "dtype": "float64",
         "stats": {
          "unique_count": 5,
          "nan_count": 0,
          "min": "3.443",
          "max": "4.878",
          "histogram": [
           {
            "bin_start": 3.443,
            "bin_end": 3.5865,
            "count": 1
           },
           {
            "bin_start": 3.5865,
            "bin_end": 3.73,
            "count": 0
           },
           {
            "bin_start": 3.73,
            "bin_end": 3.8735,
            "count": 1
           },
           {
            "bin_start": 3.8735,
            "bin_end": 4.017,
            "count": 0
           },
           {
            "bin_start": 4.017,
            "bin_end": 4.1605,
            "count": 1
           },
           {
            "bin_start": 4.1605,
            "bin_end": 4.304,
            "count": 0
           },
           {
            "bin_start": 4.304,
            "bin_end": 4.4475,
            "count": 0
           },
           {
            "bin_start": 4.4475,
            "bin_end": 4.591,
            "count": 0
           },
           {
            "bin_start": 4.591,
            "bin_end": 4.734500000000001,
            "count": 1
           },
           {
            "bin_start": 4.734500000000001,
            "bin_end": 4.878,
            "count": 1
           }
          ]
         }
        },
        {
         "name": "new_deaths_smoothed_per_million",
         "dtype": "float64",
         "stats": {
          "unique_count": 5,
          "nan_count": 0,
          "min": "3.853",
          "max": "4.058",
          "histogram": [
           {
            "bin_start": 3.853,
            "bin_end": 3.8735,
            "count": 1
           },
           {
            "bin_start": 3.8735,
            "bin_end": 3.894,
            "count": 0
           },
           {
            "bin_start": 3.894,
            "bin_end": 3.9145000000000003,
            "count": 1
           },
           {
            "bin_start": 3.9145000000000003,
            "bin_end": 3.935,
            "count": 0
           },
           {
            "bin_start": 3.935,
            "bin_end": 3.9555,
            "count": 1
           },
           {
            "bin_start": 3.9555,
            "bin_end": 3.976,
            "count": 0
           },
           {
            "bin_start": 3.976,
            "bin_end": 3.9965,
            "count": 0
           },
           {
            "bin_start": 3.9965,
            "bin_end": 4.0169999999999995,
            "count": 0
           },
           {
            "bin_start": 4.0169999999999995,
            "bin_end": 4.0375,
            "count": 1
           },
           {
            "bin_start": 4.0375,
            "bin_end": 4.058,
            "count": 1
           }
          ]
         }
        },
        {
         "name": "reproduction_rate",
         "dtype": "float64",
         "stats": {
          "unique_count": 1,
          "nan_count": 3,
          "min": "0.68",
          "max": "0.68",
          "histogram": [
           {
            "bin_start": 0.18000000000000005,
            "bin_end": 0.28,
            "count": 0
           },
           {
            "bin_start": 0.28,
            "bin_end": 0.38000000000000006,
            "count": 0
           },
           {
            "bin_start": 0.38000000000000006,
            "bin_end": 0.4800000000000001,
            "count": 0
           },
           {
            "bin_start": 0.4800000000000001,
            "bin_end": 0.5800000000000001,
            "count": 0
           },
           {
            "bin_start": 0.5800000000000001,
            "bin_end": 0.68,
            "count": 0
           },
           {
            "bin_start": 0.68,
            "bin_end": 0.7800000000000001,
            "count": 2
           },
           {
            "bin_start": 0.7800000000000001,
            "bin_end": 0.8800000000000001,
            "count": 0
           },
           {
            "bin_start": 0.8800000000000001,
            "bin_end": 0.9800000000000001,
            "count": 0
           },
           {
            "bin_start": 0.9800000000000001,
            "bin_end": 1.08,
            "count": 0
           },
           {
            "bin_start": 1.08,
            "bin_end": 1.1800000000000002,
            "count": 0
           }
          ]
         }
        },
        {
         "name": "icu_patients",
         "dtype": "float64",
         "stats": {
          "unique_count": 0,
          "nan_count": 5,
          "min": null,
          "max": null,
          "histogram": [
           {
            "bin_start": 0,
            "bin_end": 0.1,
            "count": 0
           },
           {
            "bin_start": 0.1,
            "bin_end": 0.2,
            "count": 0
           },
           {
            "bin_start": 0.2,
            "bin_end": 0.30000000000000004,
            "count": 0
           },
           {
            "bin_start": 0.30000000000000004,
            "bin_end": 0.4,
            "count": 0
           },
           {
            "bin_start": 0.4,
            "bin_end": 0.5,
            "count": 0
           },
           {
            "bin_start": 0.5,
            "bin_end": 0.6000000000000001,
            "count": 0
           },
           {
            "bin_start": 0.6000000000000001,
            "bin_end": 0.7000000000000001,
            "count": 0
           },
           {
            "bin_start": 0.7000000000000001,
            "bin_end": 0.8,
            "count": 0
           },
           {
            "bin_start": 0.8,
            "bin_end": 0.9,
            "count": 0
           },
           {
            "bin_start": 0.9,
            "bin_end": 1,
            "count": 0
           }
          ]
         }
        },
        {
         "name": "icu_patients_per_million",
         "dtype": "float64",
         "stats": {
          "unique_count": 0,
          "nan_count": 5,
          "min": null,
          "max": null,
          "histogram": [
           {
            "bin_start": 0,
            "bin_end": 0.1,
            "count": 0
           },
           {
            "bin_start": 0.1,
            "bin_end": 0.2,
            "count": 0
           },
           {
            "bin_start": 0.2,
            "bin_end": 0.30000000000000004,
            "count": 0
           },
           {
            "bin_start": 0.30000000000000004,
            "bin_end": 0.4,
            "count": 0
           },
           {
            "bin_start": 0.4,
            "bin_end": 0.5,
            "count": 0
           },
           {
            "bin_start": 0.5,
            "bin_end": 0.6000000000000001,
            "count": 0
           },
           {
            "bin_start": 0.6000000000000001,
            "bin_end": 0.7000000000000001,
            "count": 0
           },
           {
            "bin_start": 0.7000000000000001,
            "bin_end": 0.8,
            "count": 0
           },
           {
            "bin_start": 0.8,
            "bin_end": 0.9,
            "count": 0
           },
           {
            "bin_start": 0.9,
            "bin_end": 1,
            "count": 0
           }
          ]
         }
        },
        {
         "name": "hosp_patients",
         "dtype": "float64",
         "stats": {
          "unique_count": 0,
          "nan_count": 5,
          "min": null,
          "max": null,
          "histogram": [
           {
            "bin_start": 0,
            "bin_end": 0.1,
            "count": 0
           },
           {
            "bin_start": 0.1,
            "bin_end": 0.2,
            "count": 0
           },
           {
            "bin_start": 0.2,
            "bin_end": 0.30000000000000004,
            "count": 0
           },
           {
            "bin_start": 0.30000000000000004,
            "bin_end": 0.4,
            "count": 0
           },
           {
            "bin_start": 0.4,
            "bin_end": 0.5,
            "count": 0
           },
           {
            "bin_start": 0.5,
            "bin_end": 0.6000000000000001,
            "count": 0
           },
           {
            "bin_start": 0.6000000000000001,
            "bin_end": 0.7000000000000001,
            "count": 0
           },
           {
            "bin_start": 0.7000000000000001,
            "bin_end": 0.8,
            "count": 0
           },
           {
            "bin_start": 0.8,
            "bin_end": 0.9,
            "count": 0
           },
           {
            "bin_start": 0.9,
            "bin_end": 1,
            "count": 0
           }
          ]
         }
        },
        {
         "name": "hosp_patients_per_million",
         "dtype": "float64",
         "stats": {
          "unique_count": 0,
          "nan_count": 5,
          "min": null,
          "max": null,
          "histogram": [
           {
            "bin_start": 0,
            "bin_end": 0.1,
            "count": 0
           },
           {
            "bin_start": 0.1,
            "bin_end": 0.2,
            "count": 0
           },
           {
            "bin_start": 0.2,
            "bin_end": 0.30000000000000004,
            "count": 0
           },
           {
            "bin_start": 0.30000000000000004,
            "bin_end": 0.4,
            "count": 0
           },
           {
            "bin_start": 0.4,
            "bin_end": 0.5,
            "count": 0
           },
           {
            "bin_start": 0.5,
            "bin_end": 0.6000000000000001,
            "count": 0
           },
           {
            "bin_start": 0.6000000000000001,
            "bin_end": 0.7000000000000001,
            "count": 0
           },
           {
            "bin_start": 0.7000000000000001,
            "bin_end": 0.8,
            "count": 0
           },
           {
            "bin_start": 0.8,
            "bin_end": 0.9,
            "count": 0
           },
           {
            "bin_start": 0.9,
            "bin_end": 1,
            "count": 0
           }
          ]
         }
        },
        {
         "name": "weekly_icu_admissions",
         "dtype": "float64",
         "stats": {
          "unique_count": 0,
          "nan_count": 5,
          "min": null,
          "max": null,
          "histogram": [
           {
            "bin_start": 0,
            "bin_end": 0.1,
            "count": 0
           },
           {
            "bin_start": 0.1,
            "bin_end": 0.2,
            "count": 0
           },
           {
            "bin_start": 0.2,
            "bin_end": 0.30000000000000004,
            "count": 0
           },
           {
            "bin_start": 0.30000000000000004,
            "bin_end": 0.4,
            "count": 0
           },
           {
            "bin_start": 0.4,
            "bin_end": 0.5,
            "count": 0
           },
           {
            "bin_start": 0.5,
            "bin_end": 0.6000000000000001,
            "count": 0
           },
           {
            "bin_start": 0.6000000000000001,
            "bin_end": 0.7000000000000001,
            "count": 0
           },
           {
            "bin_start": 0.7000000000000001,
            "bin_end": 0.8,
            "count": 0
           },
           {
            "bin_start": 0.8,
            "bin_end": 0.9,
            "count": 0
           },
           {
            "bin_start": 0.9,
            "bin_end": 1,
            "count": 0
           }
          ]
         }
        },
        {
         "name": "weekly_icu_admissions_per_million",
         "dtype": "float64",
         "stats": {
          "unique_count": 0,
          "nan_count": 5,
          "min": null,
          "max": null,
          "histogram": [
           {
            "bin_start": 0,
            "bin_end": 0.1,
            "count": 0
           },
           {
            "bin_start": 0.1,
            "bin_end": 0.2,
            "count": 0
           },
           {
            "bin_start": 0.2,
            "bin_end": 0.30000000000000004,
            "count": 0
           },
           {
            "bin_start": 0.30000000000000004,
            "bin_end": 0.4,
            "count": 0
           },
           {
            "bin_start": 0.4,
            "bin_end": 0.5,
            "count": 0
           },
           {
            "bin_start": 0.5,
            "bin_end": 0.6000000000000001,
            "count": 0
           },
           {
            "bin_start": 0.6000000000000001,
            "bin_end": 0.7000000000000001,
            "count": 0
           },
           {
            "bin_start": 0.7000000000000001,
            "bin_end": 0.8,
            "count": 0
           },
           {
            "bin_start": 0.8,
            "bin_end": 0.9,
            "count": 0
           },
           {
            "bin_start": 0.9,
            "bin_end": 1,
            "count": 0
           }
          ]
         }
        },
        {
         "name": "weekly_hosp_admissions",
         "dtype": "float64",
         "stats": {
          "unique_count": 0,
          "nan_count": 5,
          "min": null,
          "max": null,
          "histogram": [
           {
            "bin_start": 0,
            "bin_end": 0.1,
            "count": 0
           },
           {
            "bin_start": 0.1,
            "bin_end": 0.2,
            "count": 0
           },
           {
            "bin_start": 0.2,
            "bin_end": 0.30000000000000004,
            "count": 0
           },
           {
            "bin_start": 0.30000000000000004,
            "bin_end": 0.4,
            "count": 0
           },
           {
            "bin_start": 0.4,
            "bin_end": 0.5,
            "count": 0
           },
           {
            "bin_start": 0.5,
            "bin_end": 0.6000000000000001,
            "count": 0
           },
           {
            "bin_start": 0.6000000000000001,
            "bin_end": 0.7000000000000001,
            "count": 0
           },
           {
            "bin_start": 0.7000000000000001,
            "bin_end": 0.8,
            "count": 0
           },
           {
            "bin_start": 0.8,
            "bin_end": 0.9,
            "count": 0
           },
           {
            "bin_start": 0.9,
            "bin_end": 1,
            "count": 0
           }
          ]
         }
        },
        {
         "name": "weekly_hosp_admissions_per_million",
         "dtype": "float64",
         "stats": {
          "unique_count": 0,
          "nan_count": 5,
          "min": null,
          "max": null,
          "histogram": [
           {
            "bin_start": 0,
            "bin_end": 0.1,
            "count": 0
           },
           {
            "bin_start": 0.1,
            "bin_end": 0.2,
            "count": 0
           },
           {
            "bin_start": 0.2,
            "bin_end": 0.30000000000000004,
            "count": 0
           },
           {
            "bin_start": 0.30000000000000004,
            "bin_end": 0.4,
            "count": 0
           },
           {
            "bin_start": 0.4,
            "bin_end": 0.5,
            "count": 0
           },
           {
            "bin_start": 0.5,
            "bin_end": 0.6000000000000001,
            "count": 0
           },
           {
            "bin_start": 0.6000000000000001,
            "bin_end": 0.7000000000000001,
            "count": 0
           },
           {
            "bin_start": 0.7000000000000001,
            "bin_end": 0.8,
            "count": 0
           },
           {
            "bin_start": 0.8,
            "bin_end": 0.9,
            "count": 0
           },
           {
            "bin_start": 0.9,
            "bin_end": 1,
            "count": 0
           }
          ]
         }
        },
        {
         "name": "new_tests",
         "dtype": "float64",
         "stats": {
          "unique_count": 2,
          "nan_count": 3,
          "min": "13701.0",
          "max": "14122.0",
          "histogram": [
           {
            "bin_start": 13701,
            "bin_end": 13743.1,
            "count": 1
           },
           {
            "bin_start": 13743.1,
            "bin_end": 13785.2,
            "count": 0
           },
           {
            "bin_start": 13785.2,
            "bin_end": 13827.3,
            "count": 0
           },
           {
            "bin_start": 13827.3,
            "bin_end": 13869.4,
            "count": 0
           },
           {
            "bin_start": 13869.4,
            "bin_end": 13911.5,
            "count": 0
           },
           {
            "bin_start": 13911.5,
            "bin_end": 13953.6,
            "count": 0
           },
           {
            "bin_start": 13953.6,
            "bin_end": 13995.7,
            "count": 0
           },
           {
            "bin_start": 13995.7,
            "bin_end": 14037.8,
            "count": 0
           },
           {
            "bin_start": 14037.8,
            "bin_end": 14079.9,
            "count": 0
           },
           {
            "bin_start": 14079.9,
            "bin_end": 14122,
            "count": 1
           }
          ]
         }
        },
        {
         "name": "total_tests",
         "dtype": "float64",
         "stats": {
          "unique_count": 2,
          "nan_count": 3,
          "min": "5651068.0",
          "max": "5664769.0",
          "histogram": [
           {
            "bin_start": 5651068,
            "bin_end": 5652438.1,
            "count": 1
           },
           {
            "bin_start": 5652438.1,
            "bin_end": 5653808.2,
            "count": 0
           },
           {
            "bin_start": 5653808.2,
            "bin_end": 5655178.3,
            "count": 0
           },
           {
            "bin_start": 5655178.3,
            "bin_end": 5656548.4,
            "count": 0
           },
           {
            "bin_start": 5656548.4,
            "bin_end": 5657918.5,
            "count": 0
           },
           {
            "bin_start": 5657918.5,
            "bin_end": 5659288.6,
            "count": 0
           },
           {
            "bin_start": 5659288.6,
            "bin_end": 5660658.7,
            "count": 0
           },
           {
            "bin_start": 5660658.7,
            "bin_end": 5662028.8,
            "count": 0
           },
           {
            "bin_start": 5662028.8,
            "bin_end": 5663398.9,
            "count": 0
           },
           {
            "bin_start": 5663398.9,
            "bin_end": 5664769,
            "count": 1
           }
          ]
         }
        },
        {
         "name": "total_tests_per_thousand",
         "dtype": "float64",
         "stats": {
          "unique_count": 2,
          "nan_count": 3,
          "min": "1621.47",
          "max": "1625.401",
          "histogram": [
           {
            "bin_start": 1621.47,
            "bin_end": 1621.8631,
            "count": 1
           },
           {
            "bin_start": 1621.8631,
            "bin_end": 1622.2562,
            "count": 0
           },
           {
            "bin_start": 1622.2562,
            "bin_end": 1622.6493,
            "count": 0
           },
           {
            "bin_start": 1622.6493,
            "bin_end": 1623.0424,
            "count": 0
           },
           {
            "bin_start": 1623.0424,
            "bin_end": 1623.4355,
            "count": 0
           },
           {
            "bin_start": 1623.4355,
            "bin_end": 1623.8286,
            "count": 0
           },
           {
            "bin_start": 1623.8286,
            "bin_end": 1624.2217,
            "count": 0
           },
           {
            "bin_start": 1624.2217,
            "bin_end": 1624.6148,
            "count": 0
           },
           {
            "bin_start": 1624.6148,
            "bin_end": 1625.0079,
            "count": 0
           },
           {
            "bin_start": 1625.0079,
            "bin_end": 1625.401,
            "count": 1
           }
          ]
         }
        },
        {
         "name": "new_tests_per_thousand",
         "dtype": "float64",
         "stats": {
          "unique_count": 2,
          "nan_count": 3,
          "min": "3.931",
          "max": "4.052",
          "histogram": [
           {
            "bin_start": 3.931,
            "bin_end": 3.9431,
            "count": 1
           },
           {
            "bin_start": 3.9431,
            "bin_end": 3.9552,
            "count": 0
           },
           {
            "bin_start": 3.9552,
            "bin_end": 3.9673,
            "count": 0
           },
           {
            "bin_start": 3.9673,
            "bin_end": 3.9794,
            "count": 0
           },
           {
            "bin_start": 3.9794,
            "bin_end": 3.9915,
            "count": 0
           },
           {
            "bin_start": 3.9915,
            "bin_end": 4.0036,
            "count": 0
           },
           {
            "bin_start": 4.0036,
            "bin_end": 4.0157,
            "count": 0
           },
           {
            "bin_start": 4.0157,
            "bin_end": 4.0278,
            "count": 0
           },
           {
            "bin_start": 4.0278,
            "bin_end": 4.039899999999999,
            "count": 0
           },
           {
            "bin_start": 4.039899999999999,
            "bin_end": 4.052,
            "count": 1
           }
          ]
         }
        },
        {
         "name": "new_tests_smoothed",
         "dtype": "float64",
         "stats": {
          "unique_count": 2,
          "nan_count": 3,
          "min": "14070.0",
          "max": "14394.0",
          "histogram": [
           {
            "bin_start": 14070,
            "bin_end": 14102.4,
            "count": 1
           },
           {
            "bin_start": 14102.4,
            "bin_end": 14134.8,
            "count": 0
           },
           {
            "bin_start": 14134.8,
            "bin_end": 14167.2,
            "count": 0
           },
           {
            "bin_start": 14167.2,
            "bin_end": 14199.6,
            "count": 0
           },
           {
            "bin_start": 14199.6,
            "bin_end": 14232,
            "count": 0
           },
           {
            "bin_start": 14232,
            "bin_end": 14264.4,
            "count": 0
           },
           {
            "bin_start": 14264.4,
            "bin_end": 14296.8,
            "count": 0
           },
           {
            "bin_start": 14296.8,
            "bin_end": 14329.2,
            "count": 0
           },
           {
            "bin_start": 14329.2,
            "bin_end": 14361.6,
            "count": 0
           },
           {
            "bin_start": 14361.6,
            "bin_end": 14394,
            "count": 1
           }
          ]
         }
        },
        {
         "name": "new_tests_smoothed_per_thousand",
         "dtype": "float64",
         "stats": {
          "unique_count": 2,
          "nan_count": 3,
          "min": "4.037",
          "max": "4.13",
          "histogram": [
           {
            "bin_start": 4.037,
            "bin_end": 4.0463,
            "count": 1
           },
           {
            "bin_start": 4.0463,
            "bin_end": 4.0556,
            "count": 0
           },
           {
            "bin_start": 4.0556,
            "bin_end": 4.0649,
            "count": 0
           },
           {
            "bin_start": 4.0649,
            "bin_end": 4.0742,
            "count": 0
           },
           {
            "bin_start": 4.0742,
            "bin_end": 4.0835,
            "count": 0
           },
           {
            "bin_start": 4.0835,
            "bin_end": 4.0927999999999995,
            "count": 0
           },
           {
            "bin_start": 4.0927999999999995,
            "bin_end": 4.1021,
            "count": 0
           },
           {
            "bin_start": 4.1021,
            "bin_end": 4.1114,
            "count": 0
           },
           {
            "bin_start": 4.1114,
            "bin_end": 4.1207,
            "count": 0
           },
           {
            "bin_start": 4.1207,
            "bin_end": 4.13,
            "count": 1
           }
          ]
         }
        },
        {
         "name": "positive_rate",
         "dtype": "float64",
         "stats": {
          "unique_count": 2,
          "nan_count": 3,
          "min": "0.3159",
          "max": "0.3225",
          "histogram": [
           {
            "bin_start": 0.3159,
            "bin_end": 0.31656,
            "count": 1
           },
           {
            "bin_start": 0.31656,
            "bin_end": 0.31722,
            "count": 0
           },
           {
            "bin_start": 0.31722,
            "bin_end": 0.31788,
            "count": 0
           },
           {
            "bin_start": 0.31788,
            "bin_end": 0.31854,
            "count": 0
           },
           {
            "bin_start": 0.31854,
            "bin_end": 0.31920000000000004,
            "count": 0
           },
           {
            "bin_start": 0.31920000000000004,
            "bin_end": 0.31986000000000003,
            "count": 0
           },
           {
            "bin_start": 0.31986000000000003,
            "bin_end": 0.32052,
            "count": 0
           },
           {
            "bin_start": 0.32052,
            "bin_end": 0.32118,
            "count": 0
           },
           {
            "bin_start": 0.32118,
            "bin_end": 0.32184,
            "count": 0
           },
           {
            "bin_start": 0.32184,
            "bin_end": 0.3225,
            "count": 1
           }
          ]
         }
        },
        {
         "name": "tests_per_case",
         "dtype": "float64",
         "stats": {
          "unique_count": 2,
          "nan_count": 3,
          "min": "3.1",
          "max": "3.2",
          "histogram": [
           {
            "bin_start": 3.1,
            "bin_end": 3.1100000000000003,
            "count": 1
           },
           {
            "bin_start": 3.1100000000000003,
            "bin_end": 3.12,
            "count": 0
           },
           {
            "bin_start": 3.12,
            "bin_end": 3.13,
            "count": 0
           },
           {
            "bin_start": 3.13,
            "bin_end": 3.14,
            "count": 0
           },
           {
            "bin_start": 3.14,
            "bin_end": 3.1500000000000004,
            "count": 0
           },
           {
            "bin_start": 3.1500000000000004,
            "bin_end": 3.16,
            "count": 0
           },
           {
            "bin_start": 3.16,
            "bin_end": 3.17,
            "count": 0
           },
           {
            "bin_start": 3.17,
            "bin_end": 3.18,
            "count": 0
           },
           {
            "bin_start": 3.18,
            "bin_end": 3.1900000000000004,
            "count": 0
           },
           {
            "bin_start": 3.1900000000000004,
            "bin_end": 3.2,
            "count": 1
           }
          ]
         }
        },
        {
         "name": "tests_units",
         "dtype": "object",
         "stats": {
          "unique_count": 1,
          "nan_count": 3,
          "categories": [
           {
            "name": "people tested",
            "count": 2
           },
           {
            "name": "Missing",
            "count": 3
           }
          ]
         }
        },
        {
         "name": "total_vaccinations",
         "dtype": "float64",
         "stats": {
          "unique_count": 4,
          "nan_count": 0,
          "min": "7593121.0",
          "max": "7622437.0",
          "histogram": [
           {
            "bin_start": 7593121,
            "bin_end": 7596052.6,
            "count": 1
           },
           {
            "bin_start": 7596052.6,
            "bin_end": 7598984.2,
            "count": 0
           },
           {
            "bin_start": 7598984.2,
            "bin_end": 7601915.8,
            "count": 0
           },
           {
            "bin_start": 7601915.8,
            "bin_end": 7604847.4,
            "count": 0
           },
           {
            "bin_start": 7604847.4,
            "bin_end": 7607779,
            "count": 0
           },
           {
            "bin_start": 7607779,
            "bin_end": 7610710.6,
            "count": 1
           },
           {
            "bin_start": 7610710.6,
            "bin_end": 7613642.2,
            "count": 0
           },
           {
            "bin_start": 7613642.2,
            "bin_end": 7616573.8,
            "count": 0
           },
           {
            "bin_start": 7616573.8,
            "bin_end": 7619505.4,
            "count": 0
           },
           {
            "bin_start": 7619505.4,
            "bin_end": 7622437,
            "count": 3
           }
          ]
         }
        },
        {
         "name": "people_vaccinated",
         "dtype": "float64",
         "stats": {
          "unique_count": 4,
          "nan_count": 0,
          "min": "2962747.0",
          "max": "2964816.0",
          "histogram": [
           {
            "bin_start": 2962747,
            "bin_end": 2962953.9,
            "count": 1
           },
           {
            "bin_start": 2962953.9,
            "bin_end": 2963160.8,
            "count": 0
           },
           {
            "bin_start": 2963160.8,
            "bin_end": 2963367.7,
            "count": 0
           },
           {
            "bin_start": 2963367.7,
            "bin_end": 2963574.6,
            "count": 0
           },
           {
            "bin_start": 2963574.6,
            "bin_end": 2963781.5,
            "count": 0
           },
           {
            "bin_start": 2963781.5,
            "bin_end": 2963988.4,
            "count": 1
           },
           {
            "bin_start": 2963988.4,
            "bin_end": 2964195.3,
            "count": 0
           },
           {
            "bin_start": 2964195.3,
            "bin_end": 2964402.2,
            "count": 0
           },
           {
            "bin_start": 2964402.2,
            "bin_end": 2964609.1,
            "count": 0
           },
           {
            "bin_start": 2964609.1,
            "bin_end": 2964816,
            "count": 3
           }
          ]
         }
        },
        {
         "name": "people_fully_vaccinated",
         "dtype": "float64",
         "stats": {
          "unique_count": 4,
          "nan_count": 0,
          "min": "2718566.0",
          "max": "2731639.0",
          "histogram": [
           {
            "bin_start": 2718566,
            "bin_end": 2719873.3,
            "count": 1
           },
           {
            "bin_start": 2719873.3,
            "bin_end": 2721180.6,
            "count": 0
           },
           {
            "bin_start": 2721180.6,
            "bin_end": 2722487.9,
            "count": 0
           },
           {
            "bin_start": 2722487.9,
            "bin_end": 2723795.2,
            "count": 0
           },
           {
            "bin_start": 2723795.2,
            "bin_end": 2725102.5,
            "count": 0
           },
           {
            "bin_start": 2725102.5,
            "bin_end": 2726409.8,
            "count": 0
           },
           {
            "bin_start": 2726409.8,
            "bin_end": 2727717.1,
            "count": 0
           },
           {
            "bin_start": 2727717.1,
            "bin_end": 2729024.4,
            "count": 1
           },
           {
            "bin_start": 2729024.4,
            "bin_end": 2730331.7,
            "count": 0
           },
           {
            "bin_start": 2730331.7,
            "bin_end": 2731639,
            "count": 3
           }
          ]
         }
        },
        {
         "name": "total_boosters",
         "dtype": "float64",
         "stats": {
          "unique_count": 4,
          "nan_count": 0,
          "min": "1911808.0",
          "max": "1925982.0",
          "histogram": [
           {
            "bin_start": 1911808,
            "bin_end": 1913225.4,
            "count": 1
           },
           {
            "bin_start": 1913225.4,
            "bin_end": 1914642.8,
            "count": 0
           },
           {
            "bin_start": 1914642.8,
            "bin_end": 1916060.2,
            "count": 0
           },
           {
            "bin_start": 1916060.2,
            "bin_end": 1917477.6,
            "count": 0
           },
           {
            "bin_start": 1917477.6,
            "bin_end": 1918895,
            "count": 1
           },
           {
            "bin_start": 1918895,
            "bin_end": 1920312.4,
            "count": 0
           },
           {
            "bin_start": 1920312.4,
            "bin_end": 1921729.8,
            "count": 0
           },
           {
            "bin_start": 1921729.8,
            "bin_end": 1923147.2,
            "count": 0
           },
           {
            "bin_start": 1923147.2,
            "bin_end": 1924564.6,
            "count": 0
           },
           {
            "bin_start": 1924564.6,
            "bin_end": 1925982,
            "count": 3
           }
          ]
         }
        },
        {
         "name": "new_vaccinations",
         "dtype": "float64",
         "stats": {
          "unique_count": 5,
          "nan_count": 0,
          "min": "0.0",
          "max": "16037.0",
          "histogram": [
           {
            "bin_start": 0,
            "bin_end": 1603.7,
            "count": 2
           },
           {
            "bin_start": 1603.7,
            "bin_end": 3207.4,
            "count": 0
           },
           {
            "bin_start": 3207.4,
            "bin_end": 4811.1,
            "count": 0
           },
           {
            "bin_start": 4811.1,
            "bin_end": 6414.8,
            "count": 0
           },
           {
            "bin_start": 6414.8,
            "bin_end": 8018.5,
            "count": 0
           },
           {
            "bin_start": 8018.5,
            "bin_end": 9622.2,
            "count": 0
           },
           {
            "bin_start": 9622.2,
            "bin_end": 11225.9,
            "count": 1
           },
           {
            "bin_start": 11225.9,
            "bin_end": 12829.6,
            "count": 1
           },
           {
            "bin_start": 12829.6,
            "bin_end": 14433.300000000001,
            "count": 0
           },
           {
            "bin_start": 14433.300000000001,
            "bin_end": 16037,
            "count": 1
           }
          ]
         }
        },
        {
         "name": "new_vaccinations_smoothed",
         "dtype": "float64",
         "stats": {
          "unique_count": 4,
          "nan_count": 0,
          "min": "5173.0",
          "max": "7955.0",
          "histogram": [
           {
            "bin_start": 5173,
            "bin_end": 5451.2,
            "count": 1
           },
           {
            "bin_start": 5451.2,
            "bin_end": 5729.4,
            "count": 0
           },
           {
            "bin_start": 5729.4,
            "bin_end": 6007.6,
            "count": 0
           },
           {
            "bin_start": 6007.6,
            "bin_end": 6285.8,
            "count": 0
           },
           {
            "bin_start": 6285.8,
            "bin_end": 6564,
            "count": 0
           },
           {
            "bin_start": 6564,
            "bin_end": 6842.2,
            "count": 0
           },
           {
            "bin_start": 6842.2,
            "bin_end": 7120.4,
            "count": 1
           },
           {
            "bin_start": 7120.4,
            "bin_end": 7398.6,
            "count": 0
           },
           {
            "bin_start": 7398.6,
            "bin_end": 7676.799999999999,
            "count": 0
           },
           {
            "bin_start": 7676.799999999999,
            "bin_end": 7955,
            "count": 3
           }
          ]
         }
        },
        {
         "name": "total_vaccinations_per_hundred",
         "dtype": "float64",
         "stats": {
          "unique_count": 4,
          "nan_count": 0,
          "min": "217.87",
          "max": "218.71",
          "histogram": [
           {
            "bin_start": 217.87,
            "bin_end": 217.954,
            "count": 1
           },
           {
            "bin_start": 217.954,
            "bin_end": 218.038,
            "count": 0
           },
           {
            "bin_start": 218.038,
            "bin_end": 218.122,
            "count": 0
           },
           {
            "bin_start": 218.122,
            "bin_end": 218.20600000000002,
            "count": 0
           },
           {
            "bin_start": 218.20600000000002,
            "bin_end": 218.29000000000002,
            "count": 0
           },
           {
            "bin_start": 218.29000000000002,
            "bin_end": 218.374,
            "count": 1
           },
           {
            "bin_start": 218.374,
            "bin_end": 218.458,
            "count": 0
           },
           {
            "bin_start": 218.458,
            "bin_end": 218.542,
            "count": 0
           },
           {
            "bin_start": 218.542,
            "bin_end": 218.626,
            "count": 0
           },
           {
            "bin_start": 218.626,
            "bin_end": 218.71,
            "count": 3
           }
          ]
         }
        },
        {
         "name": "people_vaccinated_per_hundred",
         "dtype": "float64",
         "stats": {
          "unique_count": 3,
          "nan_count": 0,
          "min": "85.01",
          "max": "85.07",
          "histogram": [
           {
            "bin_start": 85.01,
            "bin_end": 85.016,
            "count": 1
           },
           {
            "bin_start": 85.016,
            "bin_end": 85.022,
            "count": 0
           },
           {
            "bin_start": 85.022,
            "bin_end": 85.028,
            "count": 0
           },
           {
            "bin_start": 85.028,
            "bin_end": 85.034,
            "count": 0
           },
           {
            "bin_start": 85.034,
            "bin_end": 85.03999999999999,
            "count": 0
           },
           {
            "bin_start": 85.03999999999999,
            "bin_end": 85.04599999999999,
            "count": 1
           },
           {
            "bin_start": 85.04599999999999,
            "bin_end": 85.05199999999999,
            "count": 0
           },
           {
            "bin_start": 85.05199999999999,
            "bin_end": 85.05799999999999,
            "count": 0
           },
           {
            "bin_start": 85.05799999999999,
            "bin_end": 85.064,
            "count": 0
           },
           {
            "bin_start": 85.064,
            "bin_end": 85.07,
            "count": 3
           }
          ]
         }
        },
        {
         "name": "people_fully_vaccinated_per_hundred",
         "dtype": "float64",
         "stats": {
          "unique_count": 3,
          "nan_count": 0,
          "min": "78.0",
          "max": "78.38",
          "histogram": [
           {
            "bin_start": 78,
            "bin_end": 78.038,
            "count": 1
           },
           {
            "bin_start": 78.038,
            "bin_end": 78.076,
            "count": 0
           },
           {
            "bin_start": 78.076,
            "bin_end": 78.114,
            "count": 0
           },
           {
            "bin_start": 78.114,
            "bin_end": 78.152,
            "count": 0
           },
           {
            "bin_start": 78.152,
            "bin_end": 78.19,
            "count": 0
           },
           {
            "bin_start": 78.19,
            "bin_end": 78.228,
            "count": 0
           },
           {
            "bin_start": 78.228,
            "bin_end": 78.26599999999999,
            "count": 0
           },
           {
            "bin_start": 78.26599999999999,
            "bin_end": 78.304,
            "count": 1
           },
           {
            "bin_start": 78.304,
            "bin_end": 78.342,
            "count": 0
           },
           {
            "bin_start": 78.342,
            "bin_end": 78.38,
            "count": 3
           }
          ]
         }
        },
        {
         "name": "total_boosters_per_hundred",
         "dtype": "float64",
         "stats": {
          "unique_count": 4,
          "nan_count": 0,
          "min": "54.86",
          "max": "55.26",
          "histogram": [
           {
            "bin_start": 54.86,
            "bin_end": 54.9,
            "count": 1
           },
           {
            "bin_start": 54.9,
            "bin_end": 54.94,
            "count": 0
           },
           {
            "bin_start": 54.94,
            "bin_end": 54.98,
            "count": 0
           },
           {
            "bin_start": 54.98,
            "bin_end": 55.019999999999996,
            "count": 0
           },
           {
            "bin_start": 55.019999999999996,
            "bin_end": 55.06,
            "count": 1
           },
           {
            "bin_start": 55.06,
            "bin_end": 55.1,
            "count": 0
           },
           {
            "bin_start": 55.1,
            "bin_end": 55.14,
            "count": 0
           },
           {
            "bin_start": 55.14,
            "bin_end": 55.18,
            "count": 0
           },
           {
            "bin_start": 55.18,
            "bin_end": 55.22,
            "count": 0
           },
           {
            "bin_start": 55.22,
            "bin_end": 55.26,
            "count": 3
           }
          ]
         }
        },
        {
         "name": "new_vaccinations_smoothed_per_million",
         "dtype": "float64",
         "stats": {
          "unique_count": 4,
          "nan_count": 0,
          "min": "1484.0",
          "max": "2283.0",
          "histogram": [
           {
            "bin_start": 1484,
            "bin_end": 1563.9,
            "count": 1
           },
           {
            "bin_start": 1563.9,
            "bin_end": 1643.8,
            "count": 0
           },
           {
            "bin_start": 1643.8,
            "bin_end": 1723.7,
            "count": 0
           },
           {
            "bin_start": 1723.7,
            "bin_end": 1803.6,
            "count": 0
           },
           {
            "bin_start": 1803.6,
            "bin_end": 1883.5,
            "count": 0
           },
           {
            "bin_start": 1883.5,
            "bin_end": 1963.4,
            "count": 0
           },
           {
            "bin_start": 1963.4,
            "bin_end": 2043.3000000000002,
            "count": 1
           },
           {
            "bin_start": 2043.3000000000002,
            "bin_end": 2123.2,
            "count": 0
           },
           {
            "bin_start": 2123.2,
            "bin_end": 2203.1,
            "count": 0
           },
           {
            "bin_start": 2203.1,
            "bin_end": 2283,
            "count": 3
           }
          ]
         }
        },
        {
         "name": "new_people_vaccinated_smoothed",
         "dtype": "float64",
         "stats": {
          "unique_count": 4,
          "nan_count": 0,
          "min": "1050.0",
          "max": "1412.0",
          "histogram": [
           {
            "bin_start": 1050,
            "bin_end": 1086.2,
            "count": 3
           },
           {
            "bin_start": 1086.2,
            "bin_end": 1122.4,
            "count": 0
           },
           {
            "bin_start": 1122.4,
            "bin_end": 1158.6,
            "count": 0
           },
           {
            "bin_start": 1158.6,
            "bin_end": 1194.8,
            "count": 0
           },
           {
            "bin_start": 1194.8,
            "bin_end": 1231,
            "count": 0
           },
           {
            "bin_start": 1231,
            "bin_end": 1267.2,
            "count": 1
           },
           {
            "bin_start": 1267.2,
            "bin_end": 1303.4,
            "count": 0
           },
           {
            "bin_start": 1303.4,
            "bin_end": 1339.6,
            "count": 0
           },
           {
            "bin_start": 1339.6,
            "bin_end": 1375.8,
            "count": 0
           },
           {
            "bin_start": 1375.8,
            "bin_end": 1412,
            "count": 1
           }
          ]
         }
        },
        {
         "name": "new_people_vaccinated_smoothed_per_hundred",
         "dtype": "float64",
         "stats": {
          "unique_count": 3,
          "nan_count": 0,
          "min": "0.03",
          "max": "0.041",
          "histogram": [
           {
            "bin_start": 0.03,
            "bin_end": 0.0311,
            "count": 3
           },
           {
            "bin_start": 0.0311,
            "bin_end": 0.0322,
            "count": 0
           },
           {
            "bin_start": 0.0322,
            "bin_end": 0.033299999999999996,
            "count": 0
           },
           {
            "bin_start": 0.033299999999999996,
            "bin_end": 0.0344,
            "count": 0
           },
           {
            "bin_start": 0.0344,
            "bin_end": 0.035500000000000004,
            "count": 0
           },
           {
            "bin_start": 0.035500000000000004,
            "bin_end": 0.0366,
            "count": 1
           },
           {
            "bin_start": 0.0366,
            "bin_end": 0.0377,
            "count": 0
           },
           {
            "bin_start": 0.0377,
            "bin_end": 0.0388,
            "count": 0
           },
           {
            "bin_start": 0.0388,
            "bin_end": 0.039900000000000005,
            "count": 0
           },
           {
            "bin_start": 0.039900000000000005,
            "bin_end": 0.041,
            "count": 1
           }
          ]
         }
        },
        {
         "name": "stringency_index",
         "dtype": "float64",
         "stats": {
          "unique_count": 0,
          "nan_count": 5,
          "min": null,
          "max": null,
          "histogram": [
           {
            "bin_start": 0,
            "bin_end": 0.1,
            "count": 0
           },
           {
            "bin_start": 0.1,
            "bin_end": 0.2,
            "count": 0
           },
           {
            "bin_start": 0.2,
            "bin_end": 0.30000000000000004,
            "count": 0
           },
           {
            "bin_start": 0.30000000000000004,
            "bin_end": 0.4,
            "count": 0
           },
           {
            "bin_start": 0.4,
            "bin_end": 0.5,
            "count": 0
           },
           {
            "bin_start": 0.5,
            "bin_end": 0.6000000000000001,
            "count": 0
           },
           {
            "bin_start": 0.6000000000000001,
            "bin_end": 0.7000000000000001,
            "count": 0
           },
           {
            "bin_start": 0.7000000000000001,
            "bin_end": 0.8,
            "count": 0
           },
           {
            "bin_start": 0.8,
            "bin_end": 0.9,
            "count": 0
           },
           {
            "bin_start": 0.9,
            "bin_end": 1,
            "count": 0
           }
          ]
         }
        },
        {
         "name": "population",
         "dtype": "float64",
         "stats": {
          "unique_count": 1,
          "nan_count": 0,
          "min": "3485152.0",
          "max": "3485152.0",
          "histogram": [
           {
            "bin_start": 3485151.5,
            "bin_end": 3485151.6,
            "count": 0
           },
           {
            "bin_start": 3485151.6,
            "bin_end": 3485151.7,
            "count": 0
           },
           {
            "bin_start": 3485151.7,
            "bin_end": 3485151.8,
            "count": 0
           },
           {
            "bin_start": 3485151.8,
            "bin_end": 3485151.9,
            "count": 0
           },
           {
            "bin_start": 3485151.9,
            "bin_end": 3485152,
            "count": 0
           },
           {
            "bin_start": 3485152,
            "bin_end": 3485152.1,
            "count": 5
           },
           {
            "bin_start": 3485152.1,
            "bin_end": 3485152.2,
            "count": 0
           },
           {
            "bin_start": 3485152.2,
            "bin_end": 3485152.3,
            "count": 0
           },
           {
            "bin_start": 3485152.3,
            "bin_end": 3485152.4,
            "count": 0
           },
           {
            "bin_start": 3485152.4,
            "bin_end": 3485152.5,
            "count": 0
           }
          ]
         }
        },
        {
         "name": "population_density",
         "dtype": "float64",
         "stats": {
          "unique_count": 1,
          "nan_count": 0,
          "min": "19.751",
          "max": "19.751",
          "histogram": [
           {
            "bin_start": 19.251,
            "bin_end": 19.351000000000003,
            "count": 0
           },
           {
            "bin_start": 19.351000000000003,
            "bin_end": 19.451,
            "count": 0
           },
           {
            "bin_start": 19.451,
            "bin_end": 19.551000000000002,
            "count": 0
           },
           {
            "bin_start": 19.551000000000002,
            "bin_end": 19.651,
            "count": 0
           },
           {
            "bin_start": 19.651,
            "bin_end": 19.751,
            "count": 0
           },
           {
            "bin_start": 19.751,
            "bin_end": 19.851000000000003,
            "count": 5
           },
           {
            "bin_start": 19.851000000000003,
            "bin_end": 19.951,
            "count": 0
           },
           {
            "bin_start": 19.951,
            "bin_end": 20.051000000000002,
            "count": 0
           },
           {
            "bin_start": 20.051000000000002,
            "bin_end": 20.151,
            "count": 0
           },
           {
            "bin_start": 20.151,
            "bin_end": 20.251,
            "count": 0
           }
          ]
         }
        },
        {
         "name": "median_age",
         "dtype": "float64",
         "stats": {
          "unique_count": 1,
          "nan_count": 0,
          "min": "35.6",
          "max": "35.6",
          "histogram": [
           {
            "bin_start": 35.1,
            "bin_end": 35.2,
            "count": 0
           },
           {
            "bin_start": 35.2,
            "bin_end": 35.300000000000004,
            "count": 0
           },
           {
            "bin_start": 35.300000000000004,
            "bin_end": 35.4,
            "count": 0
           },
           {
            "bin_start": 35.4,
            "bin_end": 35.5,
            "count": 0
           },
           {
            "bin_start": 35.5,
            "bin_end": 35.6,
            "count": 0
           },
           {
            "bin_start": 35.6,
            "bin_end": 35.7,
            "count": 5
           },
           {
            "bin_start": 35.7,
            "bin_end": 35.800000000000004,
            "count": 0
           },
           {
            "bin_start": 35.800000000000004,
            "bin_end": 35.9,
            "count": 0
           },
           {
            "bin_start": 35.9,
            "bin_end": 36,
            "count": 0
           },
           {
            "bin_start": 36,
            "bin_end": 36.1,
            "count": 0
           }
          ]
         }
        },
        {
         "name": "aged_65_older",
         "dtype": "float64",
         "stats": {
          "unique_count": 1,
          "nan_count": 0,
          "min": "14.655",
          "max": "14.655",
          "histogram": [
           {
            "bin_start": 14.155,
            "bin_end": 14.254999999999999,
            "count": 0
           },
           {
            "bin_start": 14.254999999999999,
            "bin_end": 14.354999999999999,
            "count": 0
           },
           {
            "bin_start": 14.354999999999999,
            "bin_end": 14.455,
            "count": 0
           },
           {
            "bin_start": 14.455,
            "bin_end": 14.555,
            "count": 0
           },
           {
            "bin_start": 14.555,
            "bin_end": 14.655,
            "count": 0
           },
           {
            "bin_start": 14.655,
            "bin_end": 14.754999999999999,
            "count": 5
           },
           {
            "bin_start": 14.754999999999999,
            "bin_end": 14.854999999999999,
            "count": 0
           },
           {
            "bin_start": 14.854999999999999,
            "bin_end": 14.955,
            "count": 0
           },
           {
            "bin_start": 14.955,
            "bin_end": 15.055,
            "count": 0
           },
           {
            "bin_start": 15.055,
            "bin_end": 15.155,
            "count": 0
           }
          ]
         }
        },
        {
         "name": "aged_70_older",
         "dtype": "float64",
         "stats": {
          "unique_count": 1,
          "nan_count": 0,
          "min": "10.361",
          "max": "10.361",
          "histogram": [
           {
            "bin_start": 9.861,
            "bin_end": 9.961,
            "count": 0
           },
           {
            "bin_start": 9.961,
            "bin_end": 10.061,
            "count": 0
           },
           {
            "bin_start": 10.061,
            "bin_end": 10.161000000000001,
            "count": 0
           },
           {
            "bin_start": 10.161000000000001,
            "bin_end": 10.261000000000001,
            "count": 0
           },
           {
            "bin_start": 10.261000000000001,
            "bin_end": 10.361,
            "count": 0
           },
           {
            "bin_start": 10.361,
            "bin_end": 10.461,
            "count": 5
           },
           {
            "bin_start": 10.461,
            "bin_end": 10.561,
            "count": 0
           },
           {
            "bin_start": 10.561,
            "bin_end": 10.661000000000001,
            "count": 0
           },
           {
            "bin_start": 10.661000000000001,
            "bin_end": 10.761000000000001,
            "count": 0
           },
           {
            "bin_start": 10.761000000000001,
            "bin_end": 10.861,
            "count": 0
           }
          ]
         }
        },
        {
         "name": "gdp_per_capita",
         "dtype": "float64",
         "stats": {
          "unique_count": 1,
          "nan_count": 0,
          "min": "20551.409",
          "max": "20551.409",
          "histogram": [
           {
            "bin_start": 20550.909,
            "bin_end": 20551.009,
            "count": 0
           },
           {
            "bin_start": 20551.009,
            "bin_end": 20551.109,
            "count": 0
           },
           {
            "bin_start": 20551.109,
            "bin_end": 20551.209,
            "count": 0
           },
           {
            "bin_start": 20551.209,
            "bin_end": 20551.309,
            "count": 0
           },
           {
            "bin_start": 20551.309,
            "bin_end": 20551.409,
            "count": 0
           },
           {
            "bin_start": 20551.409,
            "bin_end": 20551.509,
            "count": 5
           },
           {
            "bin_start": 20551.509,
            "bin_end": 20551.609,
            "count": 0
           },
           {
            "bin_start": 20551.609,
            "bin_end": 20551.709,
            "count": 0
           },
           {
            "bin_start": 20551.709,
            "bin_end": 20551.809,
            "count": 0
           },
           {
            "bin_start": 20551.809,
            "bin_end": 20551.909,
            "count": 0
           }
          ]
         }
        },
        {
         "name": "extreme_poverty",
         "dtype": "float64",
         "stats": {
          "unique_count": 1,
          "nan_count": 0,
          "min": "0.1",
          "max": "0.1",
          "histogram": [
           {
            "bin_start": -0.4,
            "bin_end": -0.30000000000000004,
            "count": 0
           },
           {
            "bin_start": -0.30000000000000004,
            "bin_end": -0.2,
            "count": 0
           },
           {
            "bin_start": -0.2,
            "bin_end": -0.09999999999999998,
            "count": 0
           },
           {
            "bin_start": -0.09999999999999998,
            "bin_end": 0,
            "count": 0
           },
           {
            "bin_start": 0,
            "bin_end": 0.09999999999999998,
            "count": 0
           },
           {
            "bin_start": 0.09999999999999998,
            "bin_end": 0.20000000000000007,
            "count": 5
           },
           {
            "bin_start": 0.20000000000000007,
            "bin_end": 0.30000000000000004,
            "count": 0
           },
           {
            "bin_start": 0.30000000000000004,
            "bin_end": 0.4,
            "count": 0
           },
           {
            "bin_start": 0.4,
            "bin_end": 0.5,
            "count": 0
           },
           {
            "bin_start": 0.5,
            "bin_end": 0.6,
            "count": 0
           }
          ]
         }
        },
        {
         "name": "cardiovasc_death_rate",
         "dtype": "float64",
         "stats": {
          "unique_count": 1,
          "nan_count": 0,
          "min": "160.708",
          "max": "160.708",
          "histogram": [
           {
            "bin_start": 160.208,
            "bin_end": 160.308,
            "count": 0
           },
           {
            "bin_start": 160.308,
            "bin_end": 160.408,
            "count": 0
           },
           {
            "bin_start": 160.408,
            "bin_end": 160.508,
            "count": 0
           },
           {
            "bin_start": 160.508,
            "bin_end": 160.608,
            "count": 0
           },
           {
            "bin_start": 160.608,
            "bin_end": 160.708,
            "count": 0
           },
           {
            "bin_start": 160.708,
            "bin_end": 160.808,
            "count": 5
           },
           {
            "bin_start": 160.808,
            "bin_end": 160.908,
            "count": 0
           },
           {
            "bin_start": 160.908,
            "bin_end": 161.008,
            "count": 0
           },
           {
            "bin_start": 161.008,
            "bin_end": 161.108,
            "count": 0
           },
           {
            "bin_start": 161.108,
            "bin_end": 161.208,
            "count": 0
           }
          ]
         }
        },
        {
         "name": "diabetes_prevalence",
         "dtype": "float64",
         "stats": {
          "unique_count": 1,
          "nan_count": 0,
          "min": "6.93",
          "max": "6.93",
          "histogram": [
           {
            "bin_start": 6.43,
            "bin_end": 6.529999999999999,
            "count": 0
           },
           {
            "bin_start": 6.529999999999999,
            "bin_end": 6.63,
            "count": 0
           },
           {
            "bin_start": 6.63,
            "bin_end": 6.7299999999999995,
            "count": 0
           },
           {
            "bin_start": 6.7299999999999995,
            "bin_end": 6.83,
            "count": 0
           },
           {
            "bin_start": 6.83,
            "bin_end": 6.93,
            "count": 0
           },
           {
            "bin_start": 6.93,
            "bin_end": 7.029999999999999,
            "count": 5
           },
           {
            "bin_start": 7.029999999999999,
            "bin_end": 7.13,
            "count": 0
           },
           {
            "bin_start": 7.13,
            "bin_end": 7.2299999999999995,
            "count": 0
           },
           {
            "bin_start": 7.2299999999999995,
            "bin_end": 7.33,
            "count": 0
           },
           {
            "bin_start": 7.33,
            "bin_end": 7.43,
            "count": 0
           }
          ]
         }
        },
        {
         "name": "female_smokers",
         "dtype": "float64",
         "stats": {
          "unique_count": 1,
          "nan_count": 0,
          "min": "14.0",
          "max": "14.0",
          "histogram": [
           {
            "bin_start": 13.5,
            "bin_end": 13.6,
            "count": 0
           },
           {
            "bin_start": 13.6,
            "bin_end": 13.7,
            "count": 0
           },
           {
            "bin_start": 13.7,
            "bin_end": 13.8,
            "count": 0
           },
           {
            "bin_start": 13.8,
            "bin_end": 13.9,
            "count": 0
           },
           {
            "bin_start": 13.9,
            "bin_end": 14,
            "count": 0
           },
           {
            "bin_start": 14,
            "bin_end": 14.1,
            "count": 5
           },
           {
            "bin_start": 14.1,
            "bin_end": 14.2,
            "count": 0
           },
           {
            "bin_start": 14.2,
            "bin_end": 14.3,
            "count": 0
           },
           {
            "bin_start": 14.3,
            "bin_end": 14.4,
            "count": 0
           },
           {
            "bin_start": 14.4,
            "bin_end": 14.5,
            "count": 0
           }
          ]
         }
        },
        {
         "name": "male_smokers",
         "dtype": "float64",
         "stats": {
          "unique_count": 1,
          "nan_count": 0,
          "min": "19.9",
          "max": "19.9",
          "histogram": [
           {
            "bin_start": 19.4,
            "bin_end": 19.5,
            "count": 0
           },
           {
            "bin_start": 19.5,
            "bin_end": 19.599999999999998,
            "count": 0
           },
           {
            "bin_start": 19.599999999999998,
            "bin_end": 19.7,
            "count": 0
           },
           {
            "bin_start": 19.7,
            "bin_end": 19.799999999999997,
            "count": 0
           },
           {
            "bin_start": 19.799999999999997,
            "bin_end": 19.9,
            "count": 0
           },
           {
            "bin_start": 19.9,
            "bin_end": 20,
            "count": 5
           },
           {
            "bin_start": 20,
            "bin_end": 20.099999999999998,
            "count": 0
           },
           {
            "bin_start": 20.099999999999998,
            "bin_end": 20.2,
            "count": 0
           },
           {
            "bin_start": 20.2,
            "bin_end": 20.299999999999997,
            "count": 0
           },
           {
            "bin_start": 20.299999999999997,
            "bin_end": 20.4,
            "count": 0
           }
          ]
         }
        },
        {
         "name": "handwashing_facilities",
         "dtype": "float64",
         "stats": {
          "unique_count": 0,
          "nan_count": 5,
          "min": null,
          "max": null,
          "histogram": [
           {
            "bin_start": 0,
            "bin_end": 0.1,
            "count": 0
           },
           {
            "bin_start": 0.1,
            "bin_end": 0.2,
            "count": 0
           },
           {
            "bin_start": 0.2,
            "bin_end": 0.30000000000000004,
            "count": 0
           },
           {
            "bin_start": 0.30000000000000004,
            "bin_end": 0.4,
            "count": 0
           },
           {
            "bin_start": 0.4,
            "bin_end": 0.5,
            "count": 0
           },
           {
            "bin_start": 0.5,
            "bin_end": 0.6000000000000001,
            "count": 0
           },
           {
            "bin_start": 0.6000000000000001,
            "bin_end": 0.7000000000000001,
            "count": 0
           },
           {
            "bin_start": 0.7000000000000001,
            "bin_end": 0.8,
            "count": 0
           },
           {
            "bin_start": 0.8,
            "bin_end": 0.9,
            "count": 0
           },
           {
            "bin_start": 0.9,
            "bin_end": 1,
            "count": 0
           }
          ]
         }
        },
        {
         "name": "hospital_beds_per_thousand",
         "dtype": "float64",
         "stats": {
          "unique_count": 1,
          "nan_count": 0,
          "min": "2.8",
          "max": "2.8",
          "histogram": [
           {
            "bin_start": 2.3,
            "bin_end": 2.4,
            "count": 0
           },
           {
            "bin_start": 2.4,
            "bin_end": 2.5,
            "count": 0
           },
           {
            "bin_start": 2.5,
            "bin_end": 2.5999999999999996,
            "count": 0
           },
           {
            "bin_start": 2.5999999999999996,
            "bin_end": 2.6999999999999997,
            "count": 0
           },
           {
            "bin_start": 2.6999999999999997,
            "bin_end": 2.8,
            "count": 0
           },
           {
            "bin_start": 2.8,
            "bin_end": 2.9,
            "count": 5
           },
           {
            "bin_start": 2.9,
            "bin_end": 3,
            "count": 0
           },
           {
            "bin_start": 3,
            "bin_end": 3.0999999999999996,
            "count": 0
           },
           {
            "bin_start": 3.0999999999999996,
            "bin_end": 3.1999999999999997,
            "count": 0
           },
           {
            "bin_start": 3.1999999999999997,
            "bin_end": 3.3,
            "count": 0
           }
          ]
         }
        },
        {
         "name": "life_expectancy",
         "dtype": "float64",
         "stats": {
          "unique_count": 1,
          "nan_count": 0,
          "min": "77.91",
          "max": "77.91",
          "histogram": [
           {
            "bin_start": 77.41,
            "bin_end": 77.50999999999999,
            "count": 0
           },
           {
            "bin_start": 77.50999999999999,
            "bin_end": 77.61,
            "count": 0
           },
           {
            "bin_start": 77.61,
            "bin_end": 77.71,
            "count": 0
           },
           {
            "bin_start": 77.71,
            "bin_end": 77.81,
            "count": 0
           },
           {
            "bin_start": 77.81,
            "bin_end": 77.91,
            "count": 0
           },
           {
            "bin_start": 77.91,
            "bin_end": 78.00999999999999,
            "count": 5
           },
           {
            "bin_start": 78.00999999999999,
            "bin_end": 78.11,
            "count": 0
           },
           {
            "bin_start": 78.11,
            "bin_end": 78.21,
            "count": 0
           },
           {
            "bin_start": 78.21,
            "bin_end": 78.31,
            "count": 0
           },
           {
            "bin_start": 78.31,
            "bin_end": 78.41,
            "count": 0
           }
          ]
         }
        },
        {
         "name": "human_development_index",
         "dtype": "float64",
         "stats": {
          "unique_count": 1,
          "nan_count": 0,
          "min": "0.817",
          "max": "0.817",
          "histogram": [
           {
            "bin_start": 0.31699999999999995,
            "bin_end": 0.4169999999999999,
            "count": 0
           },
           {
            "bin_start": 0.4169999999999999,
            "bin_end": 0.5169999999999999,
            "count": 0
           },
           {
            "bin_start": 0.5169999999999999,
            "bin_end": 0.617,
            "count": 0
           },
           {
            "bin_start": 0.617,
            "bin_end": 0.717,
            "count": 0
           },
           {
            "bin_start": 0.717,
            "bin_end": 0.817,
            "count": 0
           },
           {
            "bin_start": 0.817,
            "bin_end": 0.917,
            "count": 5
           },
           {
            "bin_start": 0.917,
            "bin_end": 1.017,
            "count": 0
           },
           {
            "bin_start": 1.017,
            "bin_end": 1.117,
            "count": 0
           },
           {
            "bin_start": 1.117,
            "bin_end": 1.217,
            "count": 0
           },
           {
            "bin_start": 1.217,
            "bin_end": 1.317,
            "count": 0
           }
          ]
         }
        },
        {
         "name": "excess_mortality_cumulative_absolute",
         "dtype": "float64",
         "stats": {
          "unique_count": 0,
          "nan_count": 5,
          "min": null,
          "max": null,
          "histogram": [
           {
            "bin_start": 0,
            "bin_end": 0.1,
            "count": 0
           },
           {
            "bin_start": 0.1,
            "bin_end": 0.2,
            "count": 0
           },
           {
            "bin_start": 0.2,
            "bin_end": 0.30000000000000004,
            "count": 0
           },
           {
            "bin_start": 0.30000000000000004,
            "bin_end": 0.4,
            "count": 0
           },
           {
            "bin_start": 0.4,
            "bin_end": 0.5,
            "count": 0
           },
           {
            "bin_start": 0.5,
            "bin_end": 0.6000000000000001,
            "count": 0
           },
           {
            "bin_start": 0.6000000000000001,
            "bin_end": 0.7000000000000001,
            "count": 0
           },
           {
            "bin_start": 0.7000000000000001,
            "bin_end": 0.8,
            "count": 0
           },
           {
            "bin_start": 0.8,
            "bin_end": 0.9,
            "count": 0
           },
           {
            "bin_start": 0.9,
            "bin_end": 1,
            "count": 0
           }
          ]
         }
        },
        {
         "name": "excess_mortality_cumulative",
         "dtype": "float64",
         "stats": {
          "unique_count": 0,
          "nan_count": 5,
          "min": null,
          "max": null,
          "histogram": [
           {
            "bin_start": 0,
            "bin_end": 0.1,
            "count": 0
           },
           {
            "bin_start": 0.1,
            "bin_end": 0.2,
            "count": 0
           },
           {
            "bin_start": 0.2,
            "bin_end": 0.30000000000000004,
            "count": 0
           },
           {
            "bin_start": 0.30000000000000004,
            "bin_end": 0.4,
            "count": 0
           },
           {
            "bin_start": 0.4,
            "bin_end": 0.5,
            "count": 0
           },
           {
            "bin_start": 0.5,
            "bin_end": 0.6000000000000001,
            "count": 0
           },
           {
            "bin_start": 0.6000000000000001,
            "bin_end": 0.7000000000000001,
            "count": 0
           },
           {
            "bin_start": 0.7000000000000001,
            "bin_end": 0.8,
            "count": 0
           },
           {
            "bin_start": 0.8,
            "bin_end": 0.9,
            "count": 0
           },
           {
            "bin_start": 0.9,
            "bin_end": 1,
            "count": 0
           }
          ]
         }
        },
        {
         "name": "excess_mortality",
         "dtype": "float64",
         "stats": {
          "unique_count": 0,
          "nan_count": 5,
          "min": null,
          "max": null,
          "histogram": [
           {
            "bin_start": 0,
            "bin_end": 0.1,
            "count": 0
           },
           {
            "bin_start": 0.1,
            "bin_end": 0.2,
            "count": 0
           },
           {
            "bin_start": 0.2,
            "bin_end": 0.30000000000000004,
            "count": 0
           },
           {
            "bin_start": 0.30000000000000004,
            "bin_end": 0.4,
            "count": 0
           },
           {
            "bin_start": 0.4,
            "bin_end": 0.5,
            "count": 0
           },
           {
            "bin_start": 0.5,
            "bin_end": 0.6000000000000001,
            "count": 0
           },
           {
            "bin_start": 0.6000000000000001,
            "bin_end": 0.7000000000000001,
            "count": 0
           },
           {
            "bin_start": 0.7000000000000001,
            "bin_end": 0.8,
            "count": 0
           },
           {
            "bin_start": 0.8,
            "bin_end": 0.9,
            "count": 0
           },
           {
            "bin_start": 0.9,
            "bin_end": 1,
            "count": 0
           }
          ]
         }
        },
        {
         "name": "excess_mortality_cumulative_per_million",
         "dtype": "float64",
         "stats": {
          "unique_count": 0,
          "nan_count": 5,
          "min": null,
          "max": null,
          "histogram": [
           {
            "bin_start": 0,
            "bin_end": 0.1,
            "count": 0
           },
           {
            "bin_start": 0.1,
            "bin_end": 0.2,
            "count": 0
           },
           {
            "bin_start": 0.2,
            "bin_end": 0.30000000000000004,
            "count": 0
           },
           {
            "bin_start": 0.30000000000000004,
            "bin_end": 0.4,
            "count": 0
           },
           {
            "bin_start": 0.4,
            "bin_end": 0.5,
            "count": 0
           },
           {
            "bin_start": 0.5,
            "bin_end": 0.6000000000000001,
            "count": 0
           },
           {
            "bin_start": 0.6000000000000001,
            "bin_end": 0.7000000000000001,
            "count": 0
           },
           {
            "bin_start": 0.7000000000000001,
            "bin_end": 0.8,
            "count": 0
           },
           {
            "bin_start": 0.8,
            "bin_end": 0.9,
            "count": 0
           },
           {
            "bin_start": 0.9,
            "bin_end": 1,
            "count": 0
           }
          ]
         }
        },
        {
         "name": "_deepnote_index_column",
         "dtype": "int64"
        }
       ],
       "rows": [
        {
         "iso_code": "URY",
         "continent": "South America",
         "location": "Uruguay",
         "date": "2022-02-23",
         "total_cases": 827814,
         "new_cases": 4030,
         "new_cases_smoothed": 4642.571,
         "total_deaths": 6919,
         "new_deaths": 14,
         "new_deaths_smoothed": 14.143,
         "total_cases_per_million": 237525.939,
         "new_cases_per_million": 1156.334,
         "new_cases_smoothed_per_million": 1332.1,
         "total_deaths_per_million": 1985.279,
         "new_deaths_per_million": 4.017,
         "new_deaths_smoothed_per_million": 4.058,
         "reproduction_rate": 0.68,
         "icu_patients": "nan",
         "icu_patients_per_million": "nan",
         "hosp_patients": "nan",
         "hosp_patients_per_million": "nan",
         "weekly_icu_admissions": "nan",
         "weekly_icu_admissions_per_million": "nan",
         "weekly_hosp_admissions": "nan",
         "weekly_hosp_admissions_per_million": "nan",
         "new_tests": 14122,
         "total_tests": 5651068,
         "total_tests_per_thousand": 1621.47,
         "new_tests_per_thousand": 4.052,
         "new_tests_smoothed": 14394,
         "new_tests_smoothed_per_thousand": 4.13,
         "positive_rate": 0.3225,
         "tests_per_case": 3.1,
         "tests_units": "people tested",
         "total_vaccinations": 7593121,
         "people_vaccinated": 2962747,
         "people_fully_vaccinated": 2718566,
         "total_boosters": 1911808,
         "new_vaccinations": 10678,
         "new_vaccinations_smoothed": 5173,
         "total_vaccinations_per_hundred": 217.87,
         "people_vaccinated_per_hundred": 85.01,
         "people_fully_vaccinated_per_hundred": 78,
         "total_boosters_per_hundred": 54.86,
         "new_vaccinations_smoothed_per_million": 1484,
         "new_people_vaccinated_smoothed": 1412,
         "new_people_vaccinated_smoothed_per_hundred": 0.041,
         "stringency_index": "nan",
         "population": 3485152,
         "population_density": 19.751,
         "median_age": 35.6,
         "aged_65_older": 14.655,
         "aged_70_older": 10.361,
         "gdp_per_capita": 20551.409,
         "extreme_poverty": 0.1,
         "cardiovasc_death_rate": 160.708,
         "diabetes_prevalence": 6.93,
         "female_smokers": 14,
         "male_smokers": 19.9,
         "handwashing_facilities": "nan",
         "hospital_beds_per_thousand": 2.8,
         "life_expectancy": 77.91,
         "human_development_index": 0.817,
         "excess_mortality_cumulative_absolute": "nan",
         "excess_mortality_cumulative": "nan",
         "excess_mortality": "nan",
         "excess_mortality_cumulative_per_million": "nan",
         "_deepnote_index_column": 158167
        },
        {
         "iso_code": "URY",
         "continent": "South America",
         "location": "Uruguay",
         "date": "2022-02-24",
         "total_cases": 831950,
         "new_cases": 4136,
         "new_cases_smoothed": 4445.286,
         "total_deaths": 6932,
         "new_deaths": 13,
         "new_deaths_smoothed": 13.429,
         "total_cases_per_million": 238712.687,
         "new_cases_per_million": 1186.749,
         "new_cases_smoothed_per_million": 1275.493,
         "total_deaths_per_million": 1989.009,
         "new_deaths_per_million": 3.73,
         "new_deaths_smoothed_per_million": 3.853,
         "reproduction_rate": 0.68,
         "icu_patients": "nan",
         "icu_patients_per_million": "nan",
         "hosp_patients": "nan",
         "hosp_patients_per_million": "nan",
         "weekly_icu_admissions": "nan",
         "weekly_icu_admissions_per_million": "nan",
         "weekly_hosp_admissions": "nan",
         "weekly_hosp_admissions_per_million": "nan",
         "new_tests": 13701,
         "total_tests": 5664769,
         "total_tests_per_thousand": 1625.401,
         "new_tests_per_thousand": 3.931,
         "new_tests_smoothed": 14070,
         "new_tests_smoothed_per_thousand": 4.037,
         "positive_rate": 0.3159,
         "tests_per_case": 3.2,
         "tests_units": "people tested",
         "total_vaccinations": 7609158,
         "people_vaccinated": 2963859,
         "people_fully_vaccinated": 2727747,
         "total_boosters": 1917552,
         "new_vaccinations": 16037,
         "new_vaccinations_smoothed": 6877,
         "total_vaccinations_per_hundred": 218.33,
         "people_vaccinated_per_hundred": 85.04,
         "people_fully_vaccinated_per_hundred": 78.27,
         "total_boosters_per_hundred": 55.02,
         "new_vaccinations_smoothed_per_million": 1973,
         "new_people_vaccinated_smoothed": 1244,
         "new_people_vaccinated_smoothed_per_hundred": 0.036,
         "stringency_index": "nan",
         "population": 3485152,
         "population_density": 19.751,
         "median_age": 35.6,
         "aged_65_older": 14.655,
         "aged_70_older": 10.361,
         "gdp_per_capita": 20551.409,
         "extreme_poverty": 0.1,
         "cardiovasc_death_rate": 160.708,
         "diabetes_prevalence": 6.93,
         "female_smokers": 14,
         "male_smokers": 19.9,
         "handwashing_facilities": "nan",
         "hospital_beds_per_thousand": 2.8,
         "life_expectancy": 77.91,
         "human_development_index": 0.817,
         "excess_mortality_cumulative_absolute": "nan",
         "excess_mortality_cumulative": "nan",
         "excess_mortality": "nan",
         "excess_mortality_cumulative_per_million": "nan",
         "_deepnote_index_column": 158168
        },
        {
         "iso_code": "URY",
         "continent": "South America",
         "location": "Uruguay",
         "date": "2022-02-25",
         "total_cases": 835346,
         "new_cases": 3396,
         "new_cases_smoothed": 3904.857,
         "total_deaths": 6949,
         "new_deaths": 17,
         "new_deaths_smoothed": 13.571,
         "total_cases_per_million": 239687.107,
         "new_cases_per_million": 974.419,
         "new_cases_smoothed_per_million": 1120.427,
         "total_deaths_per_million": 1993.887,
         "new_deaths_per_million": 4.878,
         "new_deaths_smoothed_per_million": 3.894,
         "reproduction_rate": "nan",
         "icu_patients": "nan",
         "icu_patients_per_million": "nan",
         "hosp_patients": "nan",
         "hosp_patients_per_million": "nan",
         "weekly_icu_admissions": "nan",
         "weekly_icu_admissions_per_million": "nan",
         "weekly_hosp_admissions": "nan",
         "weekly_hosp_admissions_per_million": "nan",
         "new_tests": "nan",
         "total_tests": "nan",
         "total_tests_per_thousand": "nan",
         "new_tests_per_thousand": "nan",
         "new_tests_smoothed": "nan",
         "new_tests_smoothed_per_thousand": "nan",
         "positive_rate": "nan",
         "tests_per_case": "nan",
         "tests_units": "nan",
         "total_vaccinations": 7621179,
         "people_vaccinated": 2964804,
         "people_fully_vaccinated": 2731604,
         "total_boosters": 1924771,
         "new_vaccinations": 12021,
         "new_vaccinations_smoothed": 7786,
         "total_vaccinations_per_hundred": 218.68,
         "people_vaccinated_per_hundred": 85.07,
         "people_fully_vaccinated_per_hundred": 78.38,
         "total_boosters_per_hundred": 55.23,
         "new_vaccinations_smoothed_per_million": 2234,
         "new_people_vaccinated_smoothed": 1051,
         "new_people_vaccinated_smoothed_per_hundred": 0.03,
         "stringency_index": "nan",
         "population": 3485152,
         "population_density": 19.751,
         "median_age": 35.6,
         "aged_65_older": 14.655,
         "aged_70_older": 10.361,
         "gdp_per_capita": 20551.409,
         "extreme_poverty": 0.1,
         "cardiovasc_death_rate": 160.708,
         "diabetes_prevalence": 6.93,
         "female_smokers": 14,
         "male_smokers": 19.9,
         "handwashing_facilities": "nan",
         "hospital_beds_per_thousand": 2.8,
         "life_expectancy": 77.91,
         "human_development_index": 0.817,
         "excess_mortality_cumulative_absolute": "nan",
         "excess_mortality_cumulative": "nan",
         "excess_mortality": "nan",
         "excess_mortality_cumulative_per_million": "nan",
         "_deepnote_index_column": 158169
        },
        {
         "iso_code": "URY",
         "continent": "South America",
         "location": "Uruguay",
         "date": "2022-02-26",
         "total_cases": 838341,
         "new_cases": 2995,
         "new_cases_smoothed": 3710.571,
         "total_deaths": 6961,
         "new_deaths": 12,
         "new_deaths_smoothed": 13.714,
         "total_cases_per_million": 240546.467,
         "new_cases_per_million": 859.36,
         "new_cases_smoothed_per_million": 1064.68,
         "total_deaths_per_million": 1997.33,
         "new_deaths_per_million": 3.443,
         "new_deaths_smoothed_per_million": 3.935,
         "reproduction_rate": "nan",
         "icu_patients": "nan",
         "icu_patients_per_million": "nan",
         "hosp_patients": "nan",
         "hosp_patients_per_million": "nan",
         "weekly_icu_admissions": "nan",
         "weekly_icu_admissions_per_million": "nan",
         "weekly_hosp_admissions": "nan",
         "weekly_hosp_admissions_per_million": "nan",
         "new_tests": "nan",
         "total_tests": "nan",
         "total_tests_per_thousand": "nan",
         "new_tests_per_thousand": "nan",
         "new_tests_smoothed": "nan",
         "new_tests_smoothed_per_thousand": "nan",
         "positive_rate": "nan",
         "tests_per_case": "nan",
         "tests_units": "nan",
         "total_vaccinations": 7622437,
         "people_vaccinated": 2964816,
         "people_fully_vaccinated": 2731639,
         "total_boosters": 1925982,
         "new_vaccinations": 1258,
         "new_vaccinations_smoothed": 7955,
         "total_vaccinations_per_hundred": 218.71,
         "people_vaccinated_per_hundred": 85.07,
         "people_fully_vaccinated_per_hundred": 78.38,
         "total_boosters_per_hundred": 55.26,
         "new_vaccinations_smoothed_per_million": 2283,
         "new_people_vaccinated_smoothed": 1050,
         "new_people_vaccinated_smoothed_per_hundred": 0.03,
         "stringency_index": "nan",
         "population": 3485152,
         "population_density": 19.751,
         "median_age": 35.6,
         "aged_65_older": 14.655,
         "aged_70_older": 10.361,
         "gdp_per_capita": 20551.409,
         "extreme_poverty": 0.1,
         "cardiovasc_death_rate": 160.708,
         "diabetes_prevalence": 6.93,
         "female_smokers": 14,
         "male_smokers": 19.9,
         "handwashing_facilities": "nan",
         "hospital_beds_per_thousand": 2.8,
         "life_expectancy": 77.91,
         "human_development_index": 0.817,
         "excess_mortality_cumulative_absolute": "nan",
         "excess_mortality_cumulative": "nan",
         "excess_mortality": "nan",
         "excess_mortality_cumulative_per_million": "nan",
         "_deepnote_index_column": 158170
        },
        {
         "iso_code": "URY",
         "continent": "South America",
         "location": "Uruguay",
         "date": "2022-02-27",
         "total_cases": 840511,
         "new_cases": 2170,
         "new_cases_smoothed": 3543.857,
         "total_deaths": 6977,
         "new_deaths": 16,
         "new_deaths_smoothed": 14,
         "total_cases_per_million": 241169.108,
         "new_cases_per_million": 622.641,
         "new_cases_smoothed_per_million": 1016.844,
         "total_deaths_per_million": 2001.921,
         "new_deaths_per_million": 4.591,
         "new_deaths_smoothed_per_million": 4.017,
         "reproduction_rate": "nan",
         "icu_patients": "nan",
         "icu_patients_per_million": "nan",
         "hosp_patients": "nan",
         "hosp_patients_per_million": "nan",
         "weekly_icu_admissions": "nan",
         "weekly_icu_admissions_per_million": "nan",
         "weekly_hosp_admissions": "nan",
         "weekly_hosp_admissions_per_million": "nan",
         "new_tests": "nan",
         "total_tests": "nan",
         "total_tests_per_thousand": "nan",
         "new_tests_per_thousand": "nan",
         "new_tests_smoothed": "nan",
         "new_tests_smoothed_per_thousand": "nan",
         "positive_rate": "nan",
         "tests_per_case": "nan",
         "tests_units": "nan",
         "total_vaccinations": 7622437,
         "people_vaccinated": 2964816,
         "people_fully_vaccinated": 2731639,
         "total_boosters": 1925982,
         "new_vaccinations": 0,
         "new_vaccinations_smoothed": 7955,
         "total_vaccinations_per_hundred": 218.71,
         "people_vaccinated_per_hundred": 85.07,
         "people_fully_vaccinated_per_hundred": 78.38,
         "total_boosters_per_hundred": 55.26,
         "new_vaccinations_smoothed_per_million": 2283,
         "new_people_vaccinated_smoothed": 1050,
         "new_people_vaccinated_smoothed_per_hundred": 0.03,
         "stringency_index": "nan",
         "population": 3485152,
         "population_density": 19.751,
         "median_age": 35.6,
         "aged_65_older": 14.655,
         "aged_70_older": 10.361,
         "gdp_per_capita": 20551.409,
         "extreme_poverty": 0.1,
         "cardiovasc_death_rate": 160.708,
         "diabetes_prevalence": 6.93,
         "female_smokers": 14,
         "male_smokers": 19.9,
         "handwashing_facilities": "nan",
         "hospital_beds_per_thousand": 2.8,
         "life_expectancy": 77.91,
         "human_development_index": 0.817,
         "excess_mortality_cumulative_absolute": "nan",
         "excess_mortality_cumulative": "nan",
         "excess_mortality": "nan",
         "excess_mortality_cumulative_per_million": "nan",
         "_deepnote_index_column": 158171
        }
       ]
      },
      "text/plain": "       iso_code      continent location        date  total_cases  new_cases  \\\n158167      URY  South America  Uruguay  2022-02-23     827814.0     4030.0   \n158168      URY  South America  Uruguay  2022-02-24     831950.0     4136.0   \n158169      URY  South America  Uruguay  2022-02-25     835346.0     3396.0   \n158170      URY  South America  Uruguay  2022-02-26     838341.0     2995.0   \n158171      URY  South America  Uruguay  2022-02-27     840511.0     2170.0   \n\n        new_cases_smoothed  total_deaths  new_deaths  new_deaths_smoothed  \\\n158167            4642.571        6919.0        14.0               14.143   \n158168            4445.286        6932.0        13.0               13.429   \n158169            3904.857        6949.0        17.0               13.571   \n158170            3710.571        6961.0        12.0               13.714   \n158171            3543.857        6977.0        16.0               14.000   \n\n        ...  female_smokers  male_smokers  handwashing_facilities  \\\n158167  ...            14.0          19.9                     NaN   \n158168  ...            14.0          19.9                     NaN   \n158169  ...            14.0          19.9                     NaN   \n158170  ...            14.0          19.9                     NaN   \n158171  ...            14.0          19.9                     NaN   \n\n        hospital_beds_per_thousand  life_expectancy  human_development_index  \\\n158167                         2.8            77.91                    0.817   \n158168                         2.8            77.91                    0.817   \n158169                         2.8            77.91                    0.817   \n158170                         2.8            77.91                    0.817   \n158171                         2.8            77.91                    0.817   \n\n        excess_mortality_cumulative_absolute  excess_mortality_cumulative  \\\n158167                                   NaN                          NaN   \n158168                                   NaN                          NaN   \n158169                                   NaN                          NaN   \n158170                                   NaN                          NaN   \n158171                                   NaN                          NaN   \n\n        excess_mortality  excess_mortality_cumulative_per_million  \n158167               NaN                                      NaN  \n158168               NaN                                      NaN  \n158169               NaN                                      NaN  \n158170               NaN                                      NaN  \n158171               NaN                                      NaN  \n\n[5 rows x 67 columns]",
      "text/html": "<div>\n<style scoped>\n    .dataframe tbody tr th:only-of-type {\n        vertical-align: middle;\n    }\n\n    .dataframe tbody tr th {\n        vertical-align: top;\n    }\n\n    .dataframe thead th {\n        text-align: right;\n    }\n</style>\n<table border=\"1\" class=\"dataframe\">\n  <thead>\n    <tr style=\"text-align: right;\">\n      <th></th>\n      <th>iso_code</th>\n      <th>continent</th>\n      <th>location</th>\n      <th>date</th>\n      <th>total_cases</th>\n      <th>new_cases</th>\n      <th>new_cases_smoothed</th>\n      <th>total_deaths</th>\n      <th>new_deaths</th>\n      <th>new_deaths_smoothed</th>\n      <th>...</th>\n      <th>female_smokers</th>\n      <th>male_smokers</th>\n      <th>handwashing_facilities</th>\n      <th>hospital_beds_per_thousand</th>\n      <th>life_expectancy</th>\n      <th>human_development_index</th>\n      <th>excess_mortality_cumulative_absolute</th>\n      <th>excess_mortality_cumulative</th>\n      <th>excess_mortality</th>\n      <th>excess_mortality_cumulative_per_million</th>\n    </tr>\n  </thead>\n  <tbody>\n    <tr>\n      <th>158167</th>\n      <td>URY</td>\n      <td>South America</td>\n      <td>Uruguay</td>\n      <td>2022-02-23</td>\n      <td>827814.0</td>\n      <td>4030.0</td>\n      <td>4642.571</td>\n      <td>6919.0</td>\n      <td>14.0</td>\n      <td>14.143</td>\n      <td>...</td>\n      <td>14.0</td>\n      <td>19.9</td>\n      <td>NaN</td>\n      <td>2.8</td>\n      <td>77.91</td>\n      <td>0.817</td>\n      <td>NaN</td>\n      <td>NaN</td>\n      <td>NaN</td>\n      <td>NaN</td>\n    </tr>\n    <tr>\n      <th>158168</th>\n      <td>URY</td>\n      <td>South America</td>\n      <td>Uruguay</td>\n      <td>2022-02-24</td>\n      <td>831950.0</td>\n      <td>4136.0</td>\n      <td>4445.286</td>\n      <td>6932.0</td>\n      <td>13.0</td>\n      <td>13.429</td>\n      <td>...</td>\n      <td>14.0</td>\n      <td>19.9</td>\n      <td>NaN</td>\n      <td>2.8</td>\n      <td>77.91</td>\n      <td>0.817</td>\n      <td>NaN</td>\n      <td>NaN</td>\n      <td>NaN</td>\n      <td>NaN</td>\n    </tr>\n    <tr>\n      <th>158169</th>\n      <td>URY</td>\n      <td>South America</td>\n      <td>Uruguay</td>\n      <td>2022-02-25</td>\n      <td>835346.0</td>\n      <td>3396.0</td>\n      <td>3904.857</td>\n      <td>6949.0</td>\n      <td>17.0</td>\n      <td>13.571</td>\n      <td>...</td>\n      <td>14.0</td>\n      <td>19.9</td>\n      <td>NaN</td>\n      <td>2.8</td>\n      <td>77.91</td>\n      <td>0.817</td>\n      <td>NaN</td>\n      <td>NaN</td>\n      <td>NaN</td>\n      <td>NaN</td>\n    </tr>\n    <tr>\n      <th>158170</th>\n      <td>URY</td>\n      <td>South America</td>\n      <td>Uruguay</td>\n      <td>2022-02-26</td>\n      <td>838341.0</td>\n      <td>2995.0</td>\n      <td>3710.571</td>\n      <td>6961.0</td>\n      <td>12.0</td>\n      <td>13.714</td>\n      <td>...</td>\n      <td>14.0</td>\n      <td>19.9</td>\n      <td>NaN</td>\n      <td>2.8</td>\n      <td>77.91</td>\n      <td>0.817</td>\n      <td>NaN</td>\n      <td>NaN</td>\n      <td>NaN</td>\n      <td>NaN</td>\n    </tr>\n    <tr>\n      <th>158171</th>\n      <td>URY</td>\n      <td>South America</td>\n      <td>Uruguay</td>\n      <td>2022-02-27</td>\n      <td>840511.0</td>\n      <td>2170.0</td>\n      <td>3543.857</td>\n      <td>6977.0</td>\n      <td>16.0</td>\n      <td>14.000</td>\n      <td>...</td>\n      <td>14.0</td>\n      <td>19.9</td>\n      <td>NaN</td>\n      <td>2.8</td>\n      <td>77.91</td>\n      <td>0.817</td>\n      <td>NaN</td>\n      <td>NaN</td>\n      <td>NaN</td>\n      <td>NaN</td>\n    </tr>\n  </tbody>\n</table>\n<p>5 rows × 67 columns</p>\n</div>"
     },
     "metadata": {}
    }
   ]
  },
  {
   "cell_type": "code",
   "metadata": {
    "cell_id": "42c24185-f5e6-41af-a79f-20342985209f",
    "tags": [],
    "deepnote_to_be_reexecuted": false,
    "source_hash": "d8b0fb8d",
    "execution_start": 1646050815101,
    "execution_millis": 2,
    "deepnote_cell_type": "code"
   },
   "source": "# Selecting a subset of data corresponding to the location Uruguay\nuy_to_date = uy[uy[\"date\"] > startDay]",
   "execution_count": 7,
   "outputs": []
  },
  {
   "cell_type": "code",
   "source": "# How many rows has the new dataframe?\nprint('dataframe has: {} rows'.format(uy.shape[0]))",
   "metadata": {
    "cell_id": "6e4f5170-d3d1-436c-b1c6-e4b11635b0e9",
    "tags": [],
    "deepnote_to_be_reexecuted": false,
    "source_hash": "f72e7ed4",
    "execution_start": 1646050867290,
    "execution_millis": 168,
    "deepnote_cell_type": "code"
   },
   "outputs": [
    {
     "name": "stdout",
     "text": "dataframe has: 717 rows\n",
     "output_type": "stream"
    }
   ],
   "execution_count": 11
  },
  {
   "cell_type": "code",
   "metadata": {
    "cell_id": "4b9875b9-8b8e-4b76-9da8-4ac2d5df0adb",
    "tags": [],
    "deepnote_to_be_reexecuted": false,
    "source_hash": "19273dcc",
    "execution_start": 1646050818031,
    "execution_millis": 570,
    "deepnote_cell_type": "code"
   },
   "source": "!ls /datasets/my-drive",
   "execution_count": 8,
   "outputs": [
    {
     "name": "stdout",
     "text": " appsheet\t\t     'macOS Catalina ISO by Geekrar.rar'\r\n bkp\t\t\t     'Office 2007+SERIAL'\r\n'BTC prices.desktop'\t      planif.desktop\r\n'Cheat sheets'\t\t      reading\r\n'Colab Notebooks'\t      tables\r\n'cuadro de control.desktop'  'VirtualBox Boot Image by Geekrar.rar'\r\n data\t\t\t     'White pappers'\r\n files\r\n",
     "output_type": "stream"
    }
   ]
  },
  {
   "cell_type": "code",
   "metadata": {
    "cell_id": "b66d72cd-8461-47ac-8050-634f8b5527cc",
    "tags": [],
    "deepnote_to_be_reexecuted": false,
    "source_hash": "71229667",
    "execution_start": 1646050820804,
    "execution_millis": 2029,
    "deepnote_cell_type": "code"
   },
   "source": "#Sending the subset of data to my drive as a .csv file\nuy_to_date.to_csv(f'/datasets/my-drive/data/covid_data_{startDay}_{endDay}')",
   "execution_count": 9,
   "outputs": [
    {
     "name": "stdout",
     "text": "dataframe has: 717 rows\n",
     "output_type": "stream"
    }
   ]
  },
  {
   "cell_type": "code",
   "metadata": {
    "cell_id": "00012-c115a745-a6b8-4974-a573-77ec80cf7990",
    "deepnote_to_be_reexecuted": false,
    "source_hash": "dae6f6b4",
    "execution_start": 1646050826487,
    "execution_millis": 13,
    "deepnote_cell_type": "code"
   },
   "source": "# Creating separate columns for day, month and year\nuy_to_date['year'] = pd.DatetimeIndex(uy_to_date['date']).year\nuy_to_date['month'] = pd.DatetimeIndex(uy_to_date['date']).month\nuy_to_date['day'] = pd.DatetimeIndex(uy_to_date['date']).day",
   "execution_count": 10,
   "outputs": [
    {
     "name": "stderr",
     "text": "/shared-libs/python3.7/py-core/lib/python3.7/site-packages/ipykernel_launcher.py:2: SettingWithCopyWarning: \nA value is trying to be set on a copy of a slice from a DataFrame.\nTry using .loc[row_indexer,col_indexer] = value instead\n\nSee the caveats in the documentation: https://pandas.pydata.org/pandas-docs/stable/user_guide/indexing.html#returning-a-view-versus-a-copy\n  \n/shared-libs/python3.7/py-core/lib/python3.7/site-packages/ipykernel_launcher.py:3: SettingWithCopyWarning: \nA value is trying to be set on a copy of a slice from a DataFrame.\nTry using .loc[row_indexer,col_indexer] = value instead\n\nSee the caveats in the documentation: https://pandas.pydata.org/pandas-docs/stable/user_guide/indexing.html#returning-a-view-versus-a-copy\n  This is separate from the ipykernel package so we can avoid doing imports until\n/shared-libs/python3.7/py-core/lib/python3.7/site-packages/ipykernel_launcher.py:4: SettingWithCopyWarning: \nA value is trying to be set on a copy of a slice from a DataFrame.\nTry using .loc[row_indexer,col_indexer] = value instead\n\nSee the caveats in the documentation: https://pandas.pydata.org/pandas-docs/stable/user_guide/indexing.html#returning-a-view-versus-a-copy\n  after removing the cwd from sys.path.\n",
     "output_type": "stream"
    }
   ]
  },
  {
   "cell_type": "markdown",
   "source": "#### Visualizing the data for the cases that occurred in Uruguay during 2021",
   "metadata": {
    "cell_id": "00014-aab32f56-d284-490b-87c3-c62d3f851b6b",
    "deepnote_cell_type": "markdown"
   }
  },
  {
   "cell_type": "code",
   "metadata": {
    "cell_id": "00015-d9f9e55a-b8a2-46a7-a526-09ca5d6f21df",
    "deepnote_to_be_reexecuted": false,
    "source_hash": "217d4904",
    "execution_start": 1646048018370,
    "execution_millis": 391,
    "deepnote_cell_type": "code"
   },
   "source": "plt.figure(figsize=(12,10))\nplt.xticks(rotation=0)\nsns.lineplot(x=\"day\",\n            y=\"new_cases\",\n            hue=\"month\",\n            data=uy_to_date)\nplt.ylabel(\"Cases\", size=14)\nplt.xlabel(\"Days of month\", size=14)\nplt.title(\"Lineplot: Covid cases in Uruguay\", size=16)\n\n# Using plt.show() function, we can visualize the graph\nplt.show()",
   "execution_count": null,
   "outputs": [
    {
     "data": {
      "text/plain": "<Figure size 864x720 with 1 Axes>",
      "image/png": "[encoded data removed]"
     },
     "metadata": {
      "needs_background": "light",
      "image/png": {
       "width": 740,
       "height": 610
      }
     },
     "output_type": "display_data"
    }
   ]
  },
  {
   "cell_type": "code",
   "metadata": {
    "cell_id": "00016-fb3dbcd9-1c29-42ec-9b4f-6a32afe5ec12",
    "deepnote_cell_type": "code"
   },
   "source": "",
   "execution_count": null,
   "outputs": []
  },
  {
   "cell_type": "markdown",
   "source": "<a style='text-decoration:none;line-height:16px;display:flex;color:#5B5B62;padding:10px;justify-content:end;' href='https://deepnote.com?utm_source=created-in-deepnote-cell&projectId=6adb34ba-5f10-47b2-bfea-90a3ef6fa602' target=\"_blank\">\n<img alt='Created in deepnote.com' style='display:inline;max-height:16px;margin:0px;margin-right:7.5px;' src='data:image/svg+xml;base64,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' > </img>\nCreated in <span style='font-weight:600;margin-left:4px;'>Deepnote</span></a>",
   "metadata": {
    "tags": [],
    "created_in_deepnote_cell": true,
    "deepnote_cell_type": "markdown"
   }
  }
 ],
 "nbformat": 4,
 "nbformat_minor": 5,
 "metadata": {
  "kernelspec": {
   "display_name": "Python 3",
   "language": "python",
   "name": "python3"
  },
  "language_info": {
   "codemirror_mode": {
    "name": "ipython",
    "version": 3
   },
   "file_extension": ".py",
   "mimetype": "text/x-python",
   "name": "python",
   "nbconvert_exporter": "python",
   "pygments_lexer": "ipython3",
   "version": "3.8.8"
  },
  "deepnote_notebook_id": "22d9f17a-e6c5-4b10-b4e1-d02f50759d4f",
  "deepnote": {},
  "deepnote_execution_queue": []
 }
}